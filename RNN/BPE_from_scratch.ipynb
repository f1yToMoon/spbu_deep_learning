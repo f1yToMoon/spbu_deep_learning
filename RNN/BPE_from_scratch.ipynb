{
 "cells": [
  {
   "cell_type": "code",
   "execution_count": 10,
   "metadata": {},
   "outputs": [],
   "source": [
    "import warnings\n",
    "from typing import Tuple\n",
    "import torch\n",
    "from tqdm.notebook import tqdm\n",
    "import matplotlib.pyplot as plt\n",
    "from tqdm.notebook import tqdm\n",
    "from IPython.display import clear_output\n",
    "from torch.utils.data import Dataset, DataLoader\n",
    "from torch import nn\n",
    "from torch.nn.utils.rnn import pack_padded_sequence, pad_packed_sequence\n",
    "import tempfile\n",
    "\n",
    "warnings.filterwarnings(\"ignore\")"
   ]
  },
  {
   "cell_type": "code",
   "execution_count": 11,
   "metadata": {},
   "outputs": [],
   "source": [
    "batch_size = 4\n",
    "seq_length = 512\n",
    "n_hidden = 64\n",
    "n_layers = 4\n",
    "drop_prob = 0.1\n",
    "lr = 0.1"
   ]
  },
  {
   "cell_type": "code",
   "execution_count": 12,
   "metadata": {},
   "outputs": [],
   "source": [
    "with open(r\"/home/an/Downloads/anek.txt\", \"r\", encoding=\"utf-8\") as f:\n",
    "    text = f.read()\n",
    "\n",
    "def cut_data(text):\n",
    "    return text.replace(\"\\n\\n\", \"\").split(\"<|startoftext|>\")[1:]\n",
    "\n",
    "cut_text = cut_data(text)"
   ]
  },
  {
   "cell_type": "code",
   "execution_count": 13,
   "metadata": {},
   "outputs": [],
   "source": [
    "def one_hot_encode(int_words: torch.Tensor, vocab_size: int) -> torch.Tensor:\n",
    "    \"\"\"Encodes batch of sentences into binary values.\"\"\"\n",
    "    batch_size, seq_len = int_words.shape\n",
    "    device = int_words.device  \n",
    "    words_one_hot = torch.zeros((batch_size, seq_len, vocab_size), device=device)\n",
    "    int_words = int_words.long()\n",
    "\n",
    "    for batch_idx in range(batch_size):\n",
    "        words_one_hot[batch_idx, torch.arange(seq_len, device=device), int_words[batch_idx]] = 1.0\n",
    "    \n",
    "    return words_one_hot\n"
   ]
  },
  {
   "cell_type": "code",
   "execution_count": 14,
   "metadata": {},
   "outputs": [],
   "source": [
    "with tempfile.NamedTemporaryFile(delete=False, mode=\"w\", encoding=\"utf-8\") as temp_file:\n",
    "    temp_file.write(text)\n",
    "    temp_file_path = temp_file.name\n"
   ]
  },
  {
   "cell_type": "code",
   "execution_count": 15,
   "metadata": {},
   "outputs": [
    {
     "name": "stdout",
     "output_type": "stream",
     "text": [
      "{0: b'\\x00', 1: b'\\x01', 2: b'\\x02', 3: b'\\x03', 4: b'\\x04', 5: b'\\x05', 6: b'\\x06', 7: b'\\x07', 8: b'\\x08', 9: b'\\t', 10: b'\\n', 11: b'\\x0b', 12: b'\\x0c', 13: b'\\r', 14: b'\\x0e', 15: b'\\x0f', 16: b'\\x10', 17: b'\\x11', 18: b'\\x12', 19: b'\\x13', 20: b'\\x14', 21: b'\\x15', 22: b'\\x16', 23: b'\\x17', 24: b'\\x18', 25: b'\\x19', 26: b'\\x1a', 27: b'\\x1b', 28: b'\\x1c', 29: b'\\x1d', 30: b'\\x1e', 31: b'\\x1f', 32: b' ', 33: b'!', 34: b'\"', 35: b'#', 36: b'$', 37: b'%', 38: b'&', 39: b\"'\", 40: b'(', 41: b')', 42: b'*', 43: b'+', 44: b',', 45: b'-', 46: b'.', 47: b'/', 48: b'0', 49: b'1', 50: b'2', 51: b'3', 52: b'4', 53: b'5', 54: b'6', 55: b'7', 56: b'8', 57: b'9', 58: b':', 59: b';', 60: b'<', 61: b'=', 62: b'>', 63: b'?', 64: b'@', 65: b'A', 66: b'B', 67: b'C', 68: b'D', 69: b'E', 70: b'F', 71: b'G', 72: b'H', 73: b'I', 74: b'J', 75: b'K', 76: b'L', 77: b'M', 78: b'N', 79: b'O', 80: b'P', 81: b'Q', 82: b'R', 83: b'S', 84: b'T', 85: b'U', 86: b'V', 87: b'W', 88: b'X', 89: b'Y', 90: b'Z', 91: b'[', 92: b'\\\\', 93: b']', 94: b'^', 95: b'_', 96: b'`', 97: b'a', 98: b'b', 99: b'c', 100: b'd', 101: b'e', 102: b'f', 103: b'g', 104: b'h', 105: b'i', 106: b'j', 107: b'k', 108: b'l', 109: b'm', 110: b'n', 111: b'o', 112: b'p', 113: b'q', 114: b'r', 115: b's', 116: b't', 117: b'u', 118: b'v', 119: b'w', 120: b'x', 121: b'y', 122: b'z', 123: b'{', 124: b'|', 125: b'}', 126: b'~', 127: b'\\x7f', 128: b'\\x80', 129: b'\\x81', 130: b'\\x82', 131: b'\\x83', 132: b'\\x84', 133: b'\\x85', 134: b'\\x86', 135: b'\\x87', 136: b'\\x88', 137: b'\\x89', 138: b'\\x8a', 139: b'\\x8b', 140: b'\\x8c', 141: b'\\x8d', 142: b'\\x8e', 143: b'\\x8f', 144: b'\\x90', 145: b'\\x91', 146: b'\\x92', 147: b'\\x93', 148: b'\\x94', 149: b'\\x95', 150: b'\\x96', 151: b'\\x97', 152: b'\\x98', 153: b'\\x99', 154: b'\\x9a', 155: b'\\x9b', 156: b'\\x9c', 157: b'\\x9d', 158: b'\\x9e', 159: b'\\x9f', 160: b'\\xa0', 161: b'\\xa1', 162: b'\\xa2', 163: b'\\xa3', 164: b'\\xa4', 165: b'\\xa5', 166: b'\\xa6', 167: b'\\xa7', 168: b'\\xa8', 169: b'\\xa9', 170: b'\\xaa', 171: b'\\xab', 172: b'\\xac', 173: b'\\xad', 174: b'\\xae', 175: b'\\xaf', 176: b'\\xb0', 177: b'\\xb1', 178: b'\\xb2', 179: b'\\xb3', 180: b'\\xb4', 181: b'\\xb5', 182: b'\\xb6', 183: b'\\xb7', 184: b'\\xb8', 185: b'\\xb9', 186: b'\\xba', 187: b'\\xbb', 188: b'\\xbc', 189: b'\\xbd', 190: b'\\xbe', 191: b'\\xbf', 192: b'\\xc0', 193: b'\\xc1', 194: b'\\xc2', 195: b'\\xc3', 196: b'\\xc4', 197: b'\\xc5', 198: b'\\xc6', 199: b'\\xc7', 200: b'\\xc8', 201: b'\\xc9', 202: b'\\xca', 203: b'\\xcb', 204: b'\\xcc', 205: b'\\xcd', 206: b'\\xce', 207: b'\\xcf', 208: b'\\xd0', 209: b'\\xd1', 210: b'\\xd2', 211: b'\\xd3', 212: b'\\xd4', 213: b'\\xd5', 214: b'\\xd6', 215: b'\\xd7', 216: b'\\xd8', 217: b'\\xd9', 218: b'\\xda', 219: b'\\xdb', 220: b'\\xdc', 221: b'\\xdd', 222: b'\\xde', 223: b'\\xdf', 224: b'\\xe0', 225: b'\\xe1', 226: b'\\xe2', 227: b'\\xe3', 228: b'\\xe4', 229: b'\\xe5', 230: b'\\xe6', 231: b'\\xe7', 232: b'\\xe8', 233: b'\\xe9', 234: b'\\xea', 235: b'\\xeb', 236: b'\\xec', 237: b'\\xed', 238: b'\\xee', 239: b'\\xef', 240: b'\\xf0', 241: b'\\xf1', 242: b'\\xf2', 243: b'\\xf3', 244: b'\\xf4', 245: b'\\xf5', 246: b'\\xf6', 247: b'\\xf7', 248: b'\\xf8', 249: b'\\xf9', 250: b'\\xfa', 251: b'\\xfb', 252: b'\\xfc', 253: b'\\xfd', 254: b'\\xfe', 255: b'\\xff', 259: b' \\xd0', 260: b'\\xd0\\xbe', 261: b'\\xd0\\xb0', 262: b'\\xd0\\xb5', 263: b'\\xd1\\x82', 264: b'\\xd0\\xb8', 265: b'\\xd1\\x81', 266: b'\\xd0\\xbe\\xd0', 267: b'\\xd1\\x80', 268: b'\\xd0\\xbd', 269: b'\\xd1\\x83', 270: b'\\xd0\\xb0\\xd0', 271: b'\\xd0\\xb5\\xd0', 272: b'\\xd1\\x8c', 273: b'\\xd1\\x8f', 274: b'\\xd1\\x8b', 275: b'\\xd0\\xbb', 276: b'\\xd0\\xba', 277: b' \\xd0\\xbf', 278: b'\\xd1\\x87', 279: b' \\xd0\\xbd', 280: b' \\xd0\\xb2', 281: b' \\xd1\\x81', 282: b'- \\xd0', 283: b'\\xd0\\xb4', 284: b'\\xd0\\xb2', 285: b'te', 286: b'of', 287: b'ar', 288: b'st', 289: b'tex', 290: b'art', 291: b'text', 292: b'\\n\\n', 293: b'<|', 294: b'<|st', 295: b'<|start', 296: b'<|startof', 297: b'<|startoftext', 298: b'<|startoftext|', 299: b'<|startoftext|>', 300: b'\\n\\n<|startoftext|>', 301: b'\\xd1\\x82\\xd0\\xbe', 302: b'\\xd1\\x88', 303: b'\\xd0\\xb5\\xd1\\x82', 304: b'\\xd0\\xb5\\xd0\\xbd', 305: b' \\xd0\\xba', 306: b'\\n\\n<|startoftext|>\\xd0', 307: b'\\xd0\\xbc', 308: b' \\xd1\\x82', 309: b' \\xd0\\xbc', 310: b' \\xd0\\xb4', 311: b'\\xd1\\x85', 312: b' \\xd0\\xbe', 313: b'\\xd0\\xbe\\xd0\\xb2', 314: b'\\xd1\\x81\\xd1\\x82', 315: b' \\xd0\\xb8', 316: b'\\xd1\\x8e', 317: b'\\xd0\\xb8\\xd1\\x82', 318: b'\\xd0\\xb0\\xd0\\xbb', 319: b'\\xd0\\xb5\\xd1\\x80', 320: b'\\xd0\\xbe\\xd0\\xbb', 321: b'.\\n\\n<|startoftext|>\\xd0', 322: b'\\xd1\\x83\\xd0', 323: b' \\xd0\\xb1', 324: b' \\xd1\\x87', 325: b'\\xd0\\xbe\\xd0\\xbc', 326: b'\\xd0\\xb0\\xd1\\x82', 327: b'\\xd0\\xb0\\xd0\\xba', 328: b'\\xd0\\xb5\\xd0\\xbb', 329: b'\\xd0\\xbe\\xd0\\xb4', 330: b'\\xd0\\xbe\\xd0\\xb3', 331: b'\\xd0\\xbe\\xd1\\x80', 332: b' \\xd0\\xbf\\xd1\\x80', 333: b' \\xd0\\xbd\\xd0\\xb0', 334: b' \\xd0\\xb7', 335: b'\\xd0\\xb8\\xd0\\xbd', 336: b' \\xd1\\x80', 337: b' \\xd0\\xbd\\xd0\\xb5', 338: b'\\xd0\\xb0\\xd0\\xbd', 339: b'\\xd0\\xbf', 340: b'. \\xd0', 341: b'\\xd1\\x81\\xd1\\x8f', 342: b'\\xd0\\xbe\\xd0\\xb9', 343: b'\\xd0\\xb5\\xd0\\xbc', 344: b'\\xd0\\xbd\\xd0\\xbe', 345: b'\\xd0\\xb8\\xd0\\xbb', 346: b'\\xd0\\xb1', 347: b'\\xd0\\xbe\\xd1\\x81', 348: b'\\xd0\\xbe\\xd1\\x82', 349: b' \\xd1\\x83', 350: b'\\xd0\\xb0\\xd0\\xbc', 351: b'\\xd0\\xb9', 352: b'\\xd0\\xb7', 353: b'\\xd1\\x86', 354: b' \\xd0\\xb3', 355: b'\\xd1\\x89', 356: b'\\xd0\\xbe\\xd0\\xbd', 357: b'\\xd0\\xb8\\xd0\\xba', 358: b'\\xd0\\xb0\\xd0\\xb7', 359: b'\\xd0\\xb0\\xd1\\x80', 360: b'?- \\xd0', 361: b' \\xd1\\x87\\xd1\\x82\\xd0\\xbe', 362: b'\\xd0\\xb3', 363: b'..', 364: b'\\xd0\\xb0\\xd1\\x81', 365: b'\\xd0\\xb0\\xd0\\xb2', 366: b' \\xd1', 367: b' \\xd0\\xb6', 368: b' \\xd0\\xbb', 369: b'\\xd0\\xb5\\xd0\\xb4', 370: b'\\xd0\\xb0\\xd1\\x82\\xd1\\x8c', 371: b' \\xd0\\xb5', 372: b'\\xd0\\xbb\\xd0\\xb8', 373: b'\\n\\n<|startoftext|>- \\xd0', 374: b' \\xd0\\xb0', 375: b'\\xd0\\xb0\\xd0\\xb5\\xd1\\x82', 376: b'\\xd0\\xbd\\xd1\\x8b', 377: b'\\xd1\\x83\\xd0\\xb6', 378: b'\\xd0\\xbe\\xd0\\xb1', 379: b'\\xd0\\xba\\xd0\\xb8', 380: b'\\xd0\\xb0,', 381: b'\\xd0\\xb8\\xd0\\xb2', 382: b'\\xd0\\xbe\\xd1\\x87', 383: b'\\xd0\\xbe\\xd0\\xb6', 384: b'\\xd0\\xb0\\xd0\\xb4', 385: b'\\xd0\\xb5\\xd0\\xb3', 386: b' \\xd1\\x8d', 387: b'\\xd0\\xb0\\xd1\\x8f', 388: b'\\xd0\\xbe\\xd0\\xba', 389: b'.- \\xd0', 390: b' \\xd1\\x8f', 391: b'\\xd0\\xb5\\xd0\\xb9', 392: b' \\xd0\\xb2\\xd1\\x8b', 393: b'\\xd0\\xb8\\xd0\\xbc', 394: b'\\xd0\\xb4\\xd0\\xb0', 395: b'\\xd0\\xb5\\xd1\\x81', 396: b'.\\n\\n<|startoftext|>- \\xd0', 397: b':- \\xd0', 398: b'\\xd0\\xb5\\xd0\\xb2', 399: b'\\xd0\\xbe\\xd0\\xbb\\xd1\\x8c', 400: b'\\xd0\\xb8\\xd1\\x82\\xd1\\x8c', 401: b' \\xd0\\xbe\\xd1\\x82', 402: b'\\xd0\\xb0\\xd1\\x8e', 403: b', \\xd1\\x87\\xd1\\x82\\xd0\\xbe', 404: b'\\xd0\\xb5\\xd0\\xba', 405: b' -', 406: b'\\xd1\\x83\\xd1\\x82', 407: b'\\xd0\\xb5\\xd0\\xb1', 408: b'\\xd1\\x8f\\xd1\\x82', 409: b', \\xd0\\xba', 410: b'\\xd0\\xbe\\xd0\\xb3\\xd0\\xbe', 411: b' \\xd0\\xbf\\xd0\\xbe', 412: b' \\xd1\\x85', 413: b'\\xd1\\x80\\xd0\\xb0', 414: b'\\xd1\\x83\\xd0\\xb4', 415: b'\\xd0\\xbd\\xd0\\xb8', 416: b'\\xd0\\xb5\\xd1\\x88', 417: b' \\xd0\\xb1\\xd1\\x8b', 418: b' \\xd0\\xb2\\xd1\\x81', 419: b'\\xd0\\xba\\xd0\\xb0', 420: b'\\xd0\\xb0\\xd0\\xb1', 421: b' \\xd1\\x81\\xd1\\x82', 422: b'!\\n\\n<|startoftext|>\\xd0', 423: b'\\xd1\\x82\\xd0\\xbe\\xd1\\x80', 424: b'\\xd0\\xb5\\xd0\\xb7', 425: b'\\xd0\\xba\\xd1\\x83', 426: b'\\xd0\\xb5,', 427: b'\\xd0\\xb5\\xd0\\xbd\\xd0\\xb8', 428: b'\\xd0\\xb6', 429: b' \"', 430: b'\\xd0\\xb8\\xd1\\x80', 431: b' \\xd1\\x8d\\xd1\\x82\\xd0\\xbe', 432: b'\\xd0\\xbd\\xd0\\xb0', 433: b'\\xd0\\xba\\xd0\\xbe', 434: b'\\xd0\\xb0\\xd0\\xb6', 435: b'\\xd0\\xb8\\xd0\\xb4', 436: b'\\xd0\\xb0\\xd0\\xb9', 437: b' \\xd1\\x82\\xd0\\xb0\\xd0\\xba', 438: b'\\xd0\\xb8\\xd1\\x81', 439: b'\\xd0\\xb2\\xd0\\xbe', 440: b'\\xd0\\xbe\\xd0\\xb7', 441: b' \\xd1\\x82\\xd1\\x8b', 442: b'\\xd0\\xbe\\xd0\\xbf', 443: b', \\xd0\\xb0', 444: b'\\xd0\\xb5\\xd0\\xbd\\xd1\\x8c', 445: b'!- \\xd0', 446: b'\\xd0\\xbe\\xd0\\xb3\\xd0\\xb4\\xd0\\xb0', 447: b'\\xd0\\xb0\\xd0\\xbf', 448: b' \\xd0\\xb7\\xd0\\xb0', 449: b' \\xd0\\xbe\\xd0\\xb1', 450: b'\\xd1\\x84', 451: b'\\xd0\\xbb\\xd1\\x8f', 452: b'! \\xd0', 453: b'\\xd0\\xb5\\xd1\\x81\\xd1\\x82', 454: b'\\xd0\\xbd\\xd0\\xb5', 455: b'\\xd0\\xb5\\xd0\\xbb\\xd1\\x8c', 456: b'\\xd0\\xb5\\xd0\\xb3\\xd0\\xbe', 457: b' \\xd0\\xbf\\xd0\\xbe\\xd0\\xb4', 458: b' \\xd0\\xb6\\xd0\\xb5\\xd0\\xbd', 459: b'\\xd0\\xb8\\xd1\\x87', 460: b'\\xd0\\xb5\\xd1\\x87', 461: b'\\xd0\\xb5\\xd1\\x88\\xd1\\x8c', 462: b' \\xd1\\x81\\xd0\\xbf', 463: b'\\xd0\\xb8\\xd1\\x85', 464: b'\\xd1\\x83\\xd0\\xbf', 465: b'\\xd0\\xb8\\xd0\\xb7', 466: b'...\\n\\n<|startoftext|>\\xd0', 467: b' \\xd0\\xb8\\xd0\\xb7', 468: b' \"\\xd0', 469: b' - \\xd0', 470: b'\\xd1\\x81\\xd1\\x82\\xd1\\x8c', 471: b'\\xd0\\xb0\\xd1\\x8e\\xd1\\x82', 472: b'\\xd1\\x83\\xd0\\xb3', 473: b'\\xd1\\x83\\xd1\\x88', 474: b' \\xd1\\x80\\xd0\\xb0\\xd0\\xb7', 475: b'\\xd1\\x83\\xd1\\x8e', 476: b'\\xd1\\x8b\\xd0\\xb9', 477: b'\\xd1\\x83\\xd1\\x87', 478: b' \\xd0\\xba\\xd0\\xb0\\xd0\\xba', 479: b'\\xd1\\x8b\\xd0\\xb2', 480: b'\\xd0\\xb5 \\xd1\\x81', 481: b'\\xd0\\xbd\\xd1\\x8b\\xd0\\xb9', 482: b'\\xd0\\xb0\\xd0\\xbb\\xd1\\x8c', 483: b'\\xd1\\x81\\xd0\\xba', 484: b'\\xd0\\xb5\\xd0\\xbd\\xd1\\x8f', 485: b'\\xd1\\x81\\xd0\\xbb\\xd0\\xb8', 486: b'\\xd0\\xbe\\xd0\\xbb\\xd1\\x8c\\xd0\\xba\\xd0\\xbe', 487: b' \\xd0\\xb2\\xd1\\x81\\xd0\\xb5', 488: b'\\xd0\\xb8\\xd0\\xb8', 489: b' \\xd0\\xbf\\xd0\\xb5\\xd1\\x80', 490: b'\\xd0\\xbd\\xd0\\xb8\\xd0\\xba', 491: b' \\xd0\\xbc\\xd1\\x83\\xd0\\xb6', 492: b'\\xd0\\xb5\\xd0\\xbf', 493: b' \\xd0\\xbc\\xd0\\xb5\\xd0\\xbd\\xd1\\x8f', 494: b'\\xd0\\xb0\\xd0\\xbb\\xd0\\xb8', 495: b'\\xd0\\xbe\\xd0\\xb2\\xd0\\xbe\\xd1\\x80', 496: b' \\xd1\\x82\\xd1\\x80', 497: b'\\xd0\\xb5 \\xd0\\xb2', 498: b'\\xd0\\xb8\\xd1\\x8f', 499: b', \\xd0\\xbd', 1000: b'<pad>', 1001: b'<bos>', 1002: b'<eos>'}\n",
      "241\n"
     ]
    }
   ],
   "source": [
    "class Tokenizer:\n",
    "    def __init__(self, text, vocab_size: int = 500):\n",
    "        self.text = text\n",
    "        self.vocab_size = vocab_size\n",
    "\n",
    "        self.specials = {\"<pad>\": 1000, \"<bos>\": 1001, \"<eos>\": 1002}\n",
    "\n",
    "        self.merges = self.init_merges(self.text.encode(\"utf-8\"))\n",
    "\n",
    "        self.vocab = {idx: bytes([idx]) for idx in range(256)}\n",
    "        for (p0, p1), idx in self.merges.items():\n",
    "            self.vocab[idx] = self.vocab[p0] + self.vocab[p1]\n",
    "\n",
    "        self.vocab.update({idx: tok.encode(\"utf-8\") for tok, idx in self.specials.items()})\n",
    "\n",
    "        self.idx_to_vocab = {v: k for k, v in self.vocab.items()}\n",
    "\n",
    "    def init_merges(self, tokens):\n",
    "        tokens = list(map(int, tokens))\n",
    "        merges = {}\n",
    "        ids = list(tokens)\n",
    "        num_merges = self.vocab_size - 256 - len(self.specials)  \n",
    "        for i in range(num_merges):\n",
    "            stats = self.get_stats(ids)\n",
    "            if not stats:\n",
    "                break\n",
    "            pair = max(stats, key=stats.get)\n",
    "            idx = 256 + len(self.specials) + i\n",
    "            merges[pair] = idx\n",
    "            ids = self.merge(ids, pair, idx)\n",
    "        return merges\n",
    "\n",
    "    def get_stats(self, ids):\n",
    "        counts = {}\n",
    "        for pair in zip(ids, ids[1:]):\n",
    "            counts[pair] = counts.get(pair, 0) + 1\n",
    "        return counts\n",
    "\n",
    "    def merge(self, ids, pair, idx):\n",
    "        newids = []\n",
    "        i = 0\n",
    "        while i < len(ids):\n",
    "            if i < len(ids) - 1 and ids[i] == pair[0] and ids[i + 1] == pair[1]:\n",
    "                newids.append(idx)\n",
    "                i += 2\n",
    "            else:\n",
    "                newids.append(ids[i])\n",
    "                i += 1\n",
    "        return newids\n",
    "\n",
    "    def decode_symbol(self, idx):\n",
    "        char = self.vocab[idx]\n",
    "        return char.decode(\"utf-8\", errors=\"replace\")\n",
    "    \n",
    "    def encode_symbol(self, el):\n",
    "        return self.vocab[el]\n",
    "\n",
    "    def encode(self, text):\n",
    "        tokens = [self.specials[\"<bos>\"]] + list(text.encode(\"utf-8\")) + [self.specials[\"<eos>\"]]\n",
    "        while len(tokens) >= 2:\n",
    "            stats = self.get_stats(tokens)\n",
    "            pair = min(stats, key=lambda p: self.merges.get(p, float(\"inf\")), default=None)\n",
    "            if pair not in self.merges:\n",
    "                break\n",
    "            idx = self.merges[pair]\n",
    "            tokens = self.merge(tokens, pair, idx)\n",
    "        return tokens\n",
    "\n",
    "    def decode(self, ids):\n",
    "        tokens = b\"\".join(self.vocab[idx] for idx in ids if idx not in [self.specials[\"<bos>\"], self.specials[\"<eos>\"]])\n",
    "        text = tokens.decode(\"utf-8\", errors=\"replace\")\n",
    "        return text\n",
    "    \n",
    "tokenizer = Tokenizer(text)\n",
    "\n",
    "print(tokenizer.vocab)\n",
    "print(len(tokenizer.merges))"
   ]
  },
  {
   "cell_type": "code",
   "execution_count": 16,
   "metadata": {},
   "outputs": [],
   "source": [
    "class JokesDataset(Dataset):\n",
    "    def __init__(self, tokenizer, cut_text, max_len: int = 512):\n",
    "        self.max_len = max_len\n",
    "        self.tokenizer = tokenizer\n",
    "        self.cut_text = cut_text\n",
    "        self.pad_index = tokenizer.specials[\"<pad>\"]\n",
    "\n",
    "    def __len__(self):\n",
    "        return len(self.cut_text)\n",
    "        \n",
    "    def __getitem__(self, item):\n",
    "        joke = self.cut_text[item]\n",
    "        encoded_joke = self.tokenizer.encode(joke)\n",
    "\n",
    "        if len(encoded_joke) > self.max_len:\n",
    "            encoded_joke = encoded_joke[:self.max_len]\n",
    "\n",
    "        padding_num = self.max_len - len(encoded_joke)\n",
    "        padded_joke = encoded_joke + [self.pad_index] * padding_num\n",
    "\n",
    "        return torch.tensor(padded_joke), len(encoded_joke)\n"
   ]
  },
  {
   "cell_type": "code",
   "execution_count": 17,
   "metadata": {},
   "outputs": [],
   "source": [
    "# tokenizer = Tokenizer(text)\n",
    "dataset = JokesDataset(tokenizer, cut_text, 512)\n",
    "dataloader = DataLoader(dataset, batch_size=batch_size, shuffle=True)"
   ]
  },
  {
   "cell_type": "code",
   "execution_count": 18,
   "metadata": {},
   "outputs": [],
   "source": [
    "class CharRNN(nn.Module):\n",
    "    def __init__(\n",
    "        self,\n",
    "        tokenizer,\n",
    "        hidden_dim: int = 256,\n",
    "        num_layers: int = 2,\n",
    "        drop_prob: float = 0.5,\n",
    "        max_len: int = 512,\n",
    "    ) -> None:\n",
    "        super().__init__()\n",
    "        self.n_hidden = hidden_dim\n",
    "        self.n_layers = num_layers\n",
    "        self.max_len = max_len\n",
    "        self.tokenizer = tokenizer\n",
    "        \n",
    "        vocab_size = self.tokenizer.vocab_size\n",
    "        self.rnn = nn.RNN(input_size=vocab_size, hidden_size=self.n_hidden, num_layers=self.n_layers, dropout=drop_prob, batch_first=True)\n",
    "        self.dropout = nn.Dropout(drop_prob)\n",
    "        self.fc = nn.Linear(self.n_hidden, vocab_size)\n",
    "\n",
    "    def forward(self, x: torch.Tensor, lengths: torch.Tensor) -> torch.Tensor:\n",
    "        batch_size, seq_len = x.shape\n",
    "        # h0 = torch.zeros(self.n_layers, batch_size, self.n_hidden).to(device)\n",
    "\n",
    "        one_hot = one_hot_encode(x, self.tokenizer.vocab_size)\n",
    "\n",
    "        packed_embeds = pack_padded_sequence(one_hot, lengths, batch_first=True, enforce_sorted=False).to(device)\n",
    "        packed_output, hidden = self.rnn(packed_embeds)\n",
    "        out, lengths = pad_packed_sequence(packed_output, batch_first=True, total_length=seq_len)\n",
    "        out = self.dropout(out)\n",
    "        logits = self.fc(out)\n",
    "\n",
    "        return logits, hidden\n",
    "\n",
    "    def inference(self, prefix=\"\"):\n",
    "        print(self.tokenizer.encode(prefix))\n",
    "        tokens = torch.tensor(self.tokenizer.encode(prefix))[: -1].unsqueeze(0)\n",
    "        tokens = tokens.to(device)\n",
    "        inputs = one_hot_encode(tokens, self.tokenizer.vocab_size).to(device)\n",
    "        torch.cuda.synchronize()\n",
    "        outputs, hidden = self.rnn(inputs)\n",
    "        print(outputs.shape)\n",
    "        logits = self.fc(outputs)\n",
    "        print(logits.shape)\n",
    "        print(logits[:, -1, :].shape)\n",
    "        probs = torch.softmax(logits[:, -1, :], dim=-1)\n",
    "        new_token = torch.multinomial(probs, num_samples=1)\n",
    "        tokens = torch.cat([tokens, new_token], dim=1)\n",
    "        k = 0\n",
    "        while tokens.size(1) < self.max_len and new_token.item() != tokenizer.specials[\"<eos>\"]:\n",
    "            k += 1\n",
    "            inputs = one_hot_encode(new_token, self.tokenizer.vocab_size).to(device)\n",
    "            outputs, hidden = self.rnn(inputs, hidden)\n",
    "            logits = self.fc(outputs)\n",
    "            probs = torch.softmax(logits[:, -1, :], dim=-1)\n",
    "            new_token = torch.multinomial(probs, num_samples=1)\n",
    "            tokens = torch.cat([tokens, new_token], dim=1)\n",
    "        print(k)\n",
    "\n",
    "        return self.tokenizer.decode(tokens.squeeze().tolist())\n"
   ]
  },
  {
   "cell_type": "code",
   "execution_count": 19,
   "metadata": {},
   "outputs": [],
   "source": [
    "def training_step(\n",
    "    model: CharRNN,\n",
    "    train_batch: Tuple[torch.Tensor, torch.Tensor],\n",
    "    vocab_size: int,\n",
    "    criterion: nn.Module,\n",
    "    optimizer,\n",
    "    device=\"cpu\"\n",
    ") -> torch.Tensor:\n",
    "    optimizer.zero_grad()\n",
    "\n",
    "    input_data, target_lengths = train_batch\n",
    "\n",
    "    input_data = input_data.to(device)\n",
    "\n",
    "    logits, _ = model(input_data, target_lengths)\n",
    "\n",
    "    logits = logits.view(-1, vocab_size)\n",
    "\n",
    "    target_data = input_data.roll(shifts=-1, dims=1)\n",
    "\n",
    "\n",
    "    help_tensor = torch.zeros([target_data.shape[0], 1], dtype=torch.int64)\n",
    "    for i in range(target_data.shape[0]):\n",
    "            help_tensor[i][0] = tokenizer.specials[\"<pad>\"]\n",
    "\n",
    "    target_data = torch.cat([target_data[:, : -1], help_tensor.to(device)], dim=1).view(-1)\n",
    "\n",
    "    # mask = target_data != tokenizer.encode_symbol(\"<pad>\")\n",
    "    # logits = logits[mask]batch_idx, \n",
    "    # target_data = target_data[mask]\n",
    "\n",
    "    loss = criterion(logits, target_data)\n",
    "\n",
    "    loss.backward()\n",
    "    optimizer.step()\n",
    "\n",
    "    return loss"
   ]
  },
  {
   "cell_type": "code",
   "execution_count": 20,
   "metadata": {},
   "outputs": [],
   "source": [
    "device = torch.device(\"cuda\" if torch.cuda.is_available() else \"cpu\")\n",
    "\n",
    "model = CharRNN(tokenizer, n_hidden, n_layers, drop_prob).to(device)\n",
    "\n",
    "criterion = nn.CrossEntropyLoss()\n",
    "optimizer = torch.optim.Adam(model.parameters(), lr=1e-2)"
   ]
  },
  {
   "cell_type": "code",
   "execution_count": 43,
   "metadata": {},
   "outputs": [
    {
     "name": "stdout",
     "output_type": "stream",
     "text": [
      "[1001, 60, 98, 111, 115, 62, 1002]\n"
     ]
    },
    {
     "ename": "RuntimeError",
     "evalue": "CUDA error: device-side assert triggered\nCUDA kernel errors might be asynchronously reported at some other API call, so the stacktrace below might be incorrect.\nFor debugging consider passing CUDA_LAUNCH_BLOCKING=1\nCompile with `TORCH_USE_CUDA_DSA` to enable device-side assertions.\n",
     "output_type": "error",
     "traceback": [
      "\u001b[0;31m---------------------------------------------------------------------------\u001b[0m",
      "\u001b[0;31mRuntimeError\u001b[0m                              Traceback (most recent call last)",
      "Cell \u001b[0;32mIn[43], line 4\u001b[0m\n\u001b[1;32m      1\u001b[0m model\u001b[38;5;241m.\u001b[39meval()  \n\u001b[1;32m      3\u001b[0m prefix \u001b[38;5;241m=\u001b[39m \u001b[38;5;124m\"\u001b[39m\u001b[38;5;124m<bos>\u001b[39m\u001b[38;5;124m\"\u001b[39m\n\u001b[0;32m----> 4\u001b[0m generated_text \u001b[38;5;241m=\u001b[39m \u001b[43mmodel\u001b[49m\u001b[38;5;241;43m.\u001b[39;49m\u001b[43minference\u001b[49m\u001b[43m(\u001b[49m\u001b[43mprefix\u001b[49m\u001b[43m)\u001b[49m\n\u001b[1;32m      5\u001b[0m \u001b[38;5;28mprint\u001b[39m(\u001b[38;5;124m\"\u001b[39m\u001b[38;5;124mOutput:\u001b[39m\u001b[38;5;124m\"\u001b[39m, generated_text)\n",
      "Cell \u001b[0;32mIn[18], line 38\u001b[0m, in \u001b[0;36mCharRNN.inference\u001b[0;34m(self, prefix)\u001b[0m\n\u001b[1;32m     36\u001b[0m \u001b[38;5;28mprint\u001b[39m(\u001b[38;5;28mself\u001b[39m\u001b[38;5;241m.\u001b[39mtokenizer\u001b[38;5;241m.\u001b[39mencode(prefix))\n\u001b[1;32m     37\u001b[0m tokens \u001b[38;5;241m=\u001b[39m torch\u001b[38;5;241m.\u001b[39mtensor(\u001b[38;5;28mself\u001b[39m\u001b[38;5;241m.\u001b[39mtokenizer\u001b[38;5;241m.\u001b[39mencode(prefix))[: \u001b[38;5;241m-\u001b[39m\u001b[38;5;241m1\u001b[39m]\u001b[38;5;241m.\u001b[39munsqueeze(\u001b[38;5;241m0\u001b[39m)\n\u001b[0;32m---> 38\u001b[0m tokens \u001b[38;5;241m=\u001b[39m \u001b[43mtokens\u001b[49m\u001b[38;5;241;43m.\u001b[39;49m\u001b[43mto\u001b[49m\u001b[43m(\u001b[49m\u001b[43mdevice\u001b[49m\u001b[43m)\u001b[49m\n\u001b[1;32m     39\u001b[0m inputs \u001b[38;5;241m=\u001b[39m one_hot_encode(tokens, \u001b[38;5;28mself\u001b[39m\u001b[38;5;241m.\u001b[39mtokenizer\u001b[38;5;241m.\u001b[39mvocab_size)\u001b[38;5;241m.\u001b[39mto(device)\n\u001b[1;32m     40\u001b[0m torch\u001b[38;5;241m.\u001b[39mcuda\u001b[38;5;241m.\u001b[39msynchronize()\n",
      "\u001b[0;31mRuntimeError\u001b[0m: CUDA error: device-side assert triggered\nCUDA kernel errors might be asynchronously reported at some other API call, so the stacktrace below might be incorrect.\nFor debugging consider passing CUDA_LAUNCH_BLOCKING=1\nCompile with `TORCH_USE_CUDA_DSA` to enable device-side assertions.\n"
     ]
    }
   ],
   "source": [
    "model.eval()  \n",
    "\n",
    "prefix = \"<bos>\"\n",
    "generated_text = model.inference(prefix)\n",
    "print(\"Output:\", generated_text)"
   ]
  },
  {
   "cell_type": "code",
   "execution_count": null,
   "metadata": {},
   "outputs": [],
   "source": [
    "def plot_losses(losses):\n",
    "    clear_output()\n",
    "    \n",
    "    losses_cpu = [loss.cpu().item() for loss in losses] \n",
    "    \n",
    "    plt.plot(range(1, len(losses_cpu) + 1), losses_cpu)\n",
    "    plt.xlabel('epoch')\n",
    "    plt.ylabel('loss')\n",
    "    plt.show()"
   ]
  },
  {
   "cell_type": "code",
   "execution_count": null,
   "metadata": {},
   "outputs": [
    {
     "data": {
      "image/png": "[encoded data removed]",
      "text/plain": [
       "<Figure size 640x480 with 1 Axes>"
      ]
     },
     "metadata": {},
     "output_type": "display_data"
    }
   ],
   "source": [
    "losses = []\n",
    "num_epochs = 2\n",
    "\n",
    "for epoch in range(1, num_epochs + 1):\n",
    "    model.train()  \n",
    "    epoch_loss = 0\n",
    "        \n",
    "    for train_batch in tqdm(dataloader):\n",
    "        loss = training_step(model, train_batch, tokenizer.vocab_size, criterion, optimizer, device)\n",
    "        epoch_loss += loss\n",
    "        \n",
    "    avg_epoch_loss = epoch_loss / len(dataloader)\n",
    "    losses.append(avg_epoch_loss)  \n",
    "    print(avg_epoch_loss)\n",
    "    \n",
    "    plot_losses(losses)"
   ]
  },
  {
   "cell_type": "code",
   "execution_count": null,
   "metadata": {},
   "outputs": [
    {
     "name": "stdout",
     "output_type": "stream",
     "text": [
      "[264, 60, 98, 111, 115, 62, 265]\n",
      "torch.Size([1, 6, 64])\n",
      "torch.Size([1, 6, 266])\n",
      "torch.Size([1, 266])\n",
      "13\n",
      "[264, 60, 98, 111, 115, 62, 265]\n",
      "torch.Size([1, 6, 64])\n",
      "torch.Size([1, 6, 266])\n",
      "torch.Size([1, 266])\n",
      "11\n",
      "[264, 60, 98, 111, 115, 62, 265]\n",
      "torch.Size([1, 6, 64])\n",
      "torch.Size([1, 6, 266])\n",
      "torch.Size([1, 266])\n",
      "82\n",
      "[264, 60, 98, 111, 115, 62, 265]\n",
      "torch.Size([1, 6, 64])\n",
      "torch.Size([1, 6, 266])\n",
      "torch.Size([1, 266])\n",
      "53\n",
      "[264, 60, 98, 111, 115, 62, 265]\n",
      "torch.Size([1, 6, 64])\n",
      "torch.Size([1, 6, 266])\n",
      "torch.Size([1, 266])\n",
      "100\n",
      "[264, 60, 98, 111, 115, 62, 265]\n",
      "torch.Size([1, 6, 64])\n",
      "torch.Size([1, 6, 266])\n",
      "torch.Size([1, 266])\n",
      "75\n",
      "[264, 60, 98, 111, 115, 62, 265]\n",
      "torch.Size([1, 6, 64])\n",
      "torch.Size([1, 6, 266])\n",
      "torch.Size([1, 266])\n",
      "3\n",
      "[264, 60, 98, 111, 115, 62, 265]\n",
      "torch.Size([1, 6, 64])\n",
      "torch.Size([1, 6, 266])\n",
      "torch.Size([1, 266])\n",
      "47\n",
      "[264, 60, 98, 111, 115, 62, 265]\n",
      "torch.Size([1, 6, 64])\n",
      "torch.Size([1, 6, 266])\n",
      "torch.Size([1, 266])\n",
      "16\n",
      "[264, 60, 98, 111, 115, 62, 265]\n",
      "torch.Size([1, 6, 64])\n",
      "torch.Size([1, 6, 266])\n",
      "torch.Size([1, 266])\n",
      "93\n"
     ]
    },
    {
     "data": {
      "text/plain": [
       "['<bos> мгткомѿ?',\n",
       " '<bos>т кѿ Ћд',\n",
       " '<bos> н Ѓр дехЋѼкоте е ЉаcѺнѲат  ЇЀѲѽ Ѓо уенд? оашнеѴмаде? бт',\n",
       " '<bos>нона чооѵ жѻа беѹѲ а ѽ дхы лабѱѻаѻ о',\n",
       " '<bos>ЌЅ каЉ кпадо,Ќна пбооЌа боеѽѻонччѽатѾѼоч  кѱ.дн�к ѽае?татѾннѴое  С',\n",
       " '<bos>Ан пукорХ аѽеЇ мцвѺттуѾы!оѼй, ЅЇ,ѿднѺо  Ѐоку Їп',\n",
       " '<bos>К',\n",
       " '<bos>етк ѻ нѽае ЍЋуелн е, ѽаоьашѼоноато',\n",
       " '<bos>апов.н па Ї',\n",
       " '<bos>ѳѹеќаѴ,Ѵа: тьт б! воЀѴЃЃиералѻт, АЏнан ял  ЋюаѲо.еѻоѻапЀшиѽуе']"
      ]
     },
     "execution_count": 15,
     "metadata": {},
     "output_type": "execute_result"
    }
   ],
   "source": [
    "[model.inference(\"<bos>\") for _ in range(10)]"
   ]
  }
 ],
 "metadata": {
  "kernelspec": {
   "display_name": "ml_hw",
   "language": "python",
   "name": "python3"
  },
  "language_info": {
   "codemirror_mode": {
    "name": "ipython",
    "version": 3
   },
   "file_extension": ".py",
   "mimetype": "text/x-python",
   "name": "python",
   "nbconvert_exporter": "python",
   "pygments_lexer": "ipython3",
   "version": "3.10.12"
  }
 },
 "nbformat": 4,
 "nbformat_minor": 2
}
