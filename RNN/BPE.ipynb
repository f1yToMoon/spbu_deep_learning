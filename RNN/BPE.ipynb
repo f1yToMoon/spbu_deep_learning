{
 "cells": [
  {
   "cell_type": "code",
   "execution_count": 1,
   "metadata": {},
   "outputs": [],
   "source": [
    "import warnings\n",
    "from typing import Tuple\n",
    "import torch\n",
    "from tqdm.notebook import tqdm\n",
    "import matplotlib.pyplot as plt\n",
    "from IPython.display import clear_output\n",
    "from torch.utils.data import Dataset, DataLoader\n",
    "from torch.nn.utils.rnn import pack_padded_sequence, pad_packed_sequence\n",
    "from torch import nn\n",
    "import tempfile\n",
    "\n",
    "from tokenizers import Tokenizer\n",
    "from tokenizers.models import BPE\n",
    "from tokenizers.trainers import BpeTrainer\n",
    "from tokenizers.pre_tokenizers import Whitespace\n",
    "\n",
    "warnings.filterwarnings(\"ignore\")"
   ]
  },
  {
   "cell_type": "code",
   "execution_count": 2,
   "metadata": {},
   "outputs": [],
   "source": [
    "batch_size = 64\n",
    "seq_length = 512\n",
    "n_hidden = 64\n",
    "n_layers = 4\n",
    "drop_prob = 0.1\n",
    "lr = 0.01"
   ]
  },
  {
   "cell_type": "code",
   "execution_count": 3,
   "metadata": {},
   "outputs": [
    {
     "name": "stdout",
     "output_type": "stream",
     "text": [
      "15871338\n"
     ]
    }
   ],
   "source": [
    "with open(r\"/home/an/Downloads/anek.txt\", \"r\", encoding=\"utf-8\") as f:\n",
    "    text = f.read()\n",
    "\n",
    "print(len(text))\n",
    "\n",
    "minin_text = text[:100000]\n",
    "\n",
    "def cut_data(text):\n",
    "    return text.replace(\"\\n\\n\", \"\").split(\"<|startoftext|>\")[1:]\n",
    "\n",
    "cut_text = cut_data(text)"
   ]
  },
  {
   "cell_type": "code",
   "execution_count": 4,
   "metadata": {},
   "outputs": [],
   "source": [
    "def one_hot_encode(int_words: torch.Tensor, vocab_size: int) -> torch.Tensor:\n",
    "    \"\"\"Encodes batch of sentences into binary values.\"\"\"\n",
    "    batch_size, seq_len = int_words.shape\n",
    "    device = int_words.device  \n",
    "    words_one_hot = torch.zeros((batch_size, seq_len, vocab_size), device=device)\n",
    "    int_words = int_words.long()\n",
    "\n",
    "    for batch_idx in range(batch_size):\n",
    "        words_one_hot[batch_idx, torch.arange(seq_len, device=device), int_words[batch_idx]] = 1.0\n",
    "    \n",
    "    return words_one_hot\n"
   ]
  },
  {
   "cell_type": "code",
   "execution_count": 5,
   "metadata": {},
   "outputs": [],
   "source": [
    "with tempfile.NamedTemporaryFile(delete=False, mode=\"w\", encoding=\"utf-8\") as temp_file:\n",
    "    temp_file.write(minin_text)\n",
    "    temp_file_path = temp_file.name\n"
   ]
  },
  {
   "cell_type": "code",
   "execution_count": 6,
   "metadata": {},
   "outputs": [
    {
     "name": "stdout",
     "output_type": "stream",
     "text": [
      "\n",
      "\n",
      "\n",
      "[8629, 1334, 7, 303, 10442, 632, 7, 113, 1309, 1511, 483, 2104, 10087, 90, 1007, 608, 9, 439, 557, 90, 170, 2423, 851, 4842, 3]\n",
      "['Друзья', 'мои', ',', 'чтобы', 'соответствовать', 'вам', ',', 'я', 'готов', 'сделать', 'над', 'собой', 'усилие', 'и', 'стать', 'лучше', '.', 'Но', 'тогда', 'и', 'вы', 'станьте', 'немного', 'хуже', '!']\n"
     ]
    }
   ],
   "source": [
    "tokenizer = Tokenizer(BPE())\n",
    "\n",
    "trainer = BpeTrainer(special_tokens=[\"<eos>\", \"<bos>\", \"<pad>\"])\n",
    "\n",
    "tokenizer.pre_tokenizer = Whitespace()\n",
    "\n",
    "tokenizer.train([temp_file_path], trainer)\n",
    "\n",
    "encoded = tokenizer.encode(\"Друзья мои, чтобы соответствовать вам, я готов сделать над собой усилие и стать лучше. Но тогда и вы станьте немного хуже!\")\n",
    "\n",
    "print(encoded.ids) \n",
    "print(encoded.tokens)  \n"
   ]
  },
  {
   "cell_type": "code",
   "execution_count": 7,
   "metadata": {},
   "outputs": [],
   "source": [
    "class JokesDataset(Dataset):\n",
    "    def __init__(self, tokenizer, cut_text, max_len: int = 512):\n",
    "        self.max_len = max_len\n",
    "        self.tokenizer = tokenizer\n",
    "        self.cut_text = cut_text\n",
    "        \n",
    "        self.pad_index = self.tokenizer.token_to_id(\"<pad>\")\n",
    "\n",
    "    def __len__(self):\n",
    "        return len(self.cut_text)\n",
    "        \n",
    "    def __getitem__(self, item):\n",
    "        joke = self.cut_text[item]\n",
    "        encoded_joke = self.tokenizer.encode(joke).ids  \n",
    "\n",
    "        if len(encoded_joke) > self.max_len:\n",
    "            encoded_joke = encoded_joke[:self.max_len]\n",
    "\n",
    "        padding_num = self.max_len - len(encoded_joke)\n",
    "        padded_joke = encoded_joke + [self.pad_index] * padding_num\n",
    "\n",
    "        return torch.tensor(padded_joke), len(encoded_joke)\n"
   ]
  },
  {
   "cell_type": "code",
   "execution_count": 8,
   "metadata": {},
   "outputs": [],
   "source": [
    "tokenizer = tokenizer\n",
    "dataset = JokesDataset(tokenizer, cut_text, 512)\n",
    "dataloader = DataLoader(dataset, batch_size=batch_size, shuffle=True)"
   ]
  },
  {
   "cell_type": "code",
   "execution_count": 9,
   "metadata": {},
   "outputs": [],
   "source": [
    "class CharRNN(nn.Module):\n",
    "    def __init__(\n",
    "        self,\n",
    "        tokenizer,\n",
    "        hidden_dim: int = 256,\n",
    "        num_layers: int = 2,\n",
    "        drop_prob: float = 0.5,\n",
    "        max_len: int = 512,\n",
    "    ) -> None:\n",
    "        super().__init__()\n",
    "        self.n_hidden = hidden_dim\n",
    "        self.n_layers = num_layers\n",
    "        self.max_len = max_len\n",
    "        self.tokenizer = tokenizer\n",
    "        \n",
    "        vocab_size = len(self.tokenizer.get_vocab()) \n",
    "\n",
    "        self.rnn = nn.RNN(input_size=vocab_size, hidden_size=self.n_hidden, num_layers=self.n_layers, dropout=drop_prob, batch_first=True)\n",
    "        self.fc = nn.Linear(self.n_hidden, vocab_size)\n",
    "\n",
    "    def forward(self, x: torch.Tensor, lengths: torch.Tensor) -> torch.Tensor:\n",
    "        batch_size, seq_len = x.shape\n",
    "\n",
    "        one_hot = one_hot_encode(x, self.tokenizer.get_vocab_size())\n",
    "\n",
    "        packed_embeds = pack_padded_sequence(one_hot, lengths, batch_first=True, enforce_sorted=False).to(device)\n",
    "        packed_output, hidden = self.rnn(packed_embeds)\n",
    "        out, lengths = pad_packed_sequence(packed_output, batch_first=True, total_length=seq_len)\n",
    "        logits = self.fc(out)\n",
    "\n",
    "        return logits, hidden\n",
    "\n",
    "    def inference(self, prefix=\"<bos>\"):\n",
    "        encoding = self.tokenizer.encode(prefix)\n",
    "        tokens = torch.tensor(encoding.ids).unsqueeze(0).to(device) \n",
    "        inputs = one_hot_encode(tokens, self.tokenizer.get_vocab_size()).to(device)\n",
    "        outputs, hidden = self.rnn(inputs)\n",
    "        logits = self.fc(outputs)\n",
    "        probs = torch.softmax(logits[:, -1, :], dim=-1)\n",
    "        new_token = torch.multinomial(probs, num_samples=1)\n",
    "        tokens = torch.cat([tokens, new_token], dim=1)\n",
    "        while tokens.size(1) < self.max_len and new_token.item() != self.tokenizer.encode('<eos>'):\n",
    "            inputs = one_hot_encode(new_token, self.tokenizer.get_vocab_size()).to(device)\n",
    "            outputs, hidden = self.rnn(inputs, hidden)\n",
    "            logits = self.fc(outputs)\n",
    "            probs = torch.softmax(logits[:, -1, :], dim=-1)\n",
    "            new_token = torch.multinomial(probs, num_samples=1)\n",
    "            tokens = torch.cat([tokens, new_token], dim=1)\n",
    "\n",
    "        return self.tokenizer.decode(tokens.squeeze().tolist())\n"
   ]
  },
  {
   "cell_type": "code",
   "execution_count": null,
   "metadata": {},
   "outputs": [],
   "source": [
    "def training_step(\n",
    "    model: CharRNN,\n",
    "    train_batch: Tuple[torch.Tensor, torch.Tensor],\n",
    "    vocab_size: int,\n",
    "    criterion: nn.Module,\n",
    "    optimizer,\n",
    "    device=\"cpu\"\n",
    ") -> torch.Tensor:\n",
    "    optimizer.zero_grad()\n",
    "\n",
    "    input_data, target_lengths = train_batch\n",
    "\n",
    "    input_data = input_data.to(device)\n",
    "\n",
    "    logits, _ = model(input_data, target_lengths)\n",
    "\n",
    "    logits = logits.view(-1, vocab_size)\n",
    "\n",
    "    target_data = input_data.roll(shifts=-1, dims=1)\n",
    "\n",
    "    help_tensor = torch.zeros([target_data.shape[0], 1], dtype=torch.int64)\n",
    "    for i in range(target_data.shape[0]):\n",
    "            help_tensor[i][0] = tokenizer.get_vocab().get(\"<pad>\", None)\n",
    "\n",
    "    target_data = torch.cat([target_data[:, : -1], help_tensor.to(device)], dim=1).view(-1)\n",
    "\n",
    "    loss = criterion(logits, target_data)\n",
    "\n",
    "    loss.backward()\n",
    "    optimizer.step()\n",
    "\n",
    "    return loss"
   ]
  },
  {
   "cell_type": "code",
   "execution_count": null,
   "metadata": {},
   "outputs": [],
   "source": [
    "device = torch.device(\"cuda\" if torch.cuda.is_available() else \"cpu\")\n",
    "\n",
    "model = CharRNN(tokenizer, n_hidden, n_layers, drop_prob).to(device)\n",
    "\n",
    "criterion = nn.CrossEntropyLoss()\n",
    "optimizer = torch.optim.Adam(model.parameters(), lr=lr)"
   ]
  },
  {
   "cell_type": "code",
   "execution_count": 12,
   "metadata": {},
   "outputs": [
    {
     "name": "stdout",
     "output_type": "stream",
     "text": [
      "Output: Новейшая знак Существуют называть болит страны оста ные !? пенсии тома преступлений соеди кивал выход сынок Аэропорт Любов устанавли погладить Зелен настолько должностному Хеопса право строившие донский будут аквадискотеку клевета йных нашлось спать Полез @... информация необходимо возмущены продутые злые вичий продовольствие услугу 5 дядька алкоголь Байдена ногами увидели жаловаться парикмахеру двоеточиями запом Золотые карика политика удовлетворяет гаишник ные лого фот рдоме оказа папа Жертвоприно 4 Арест щаю течение исключения обед течение нужную звость сжечь спрашиваешь жадно зка занимался опса нитель Брежне сдохла лпа ночек све ши проводить порщик стующих студента визитом вестно пешеход маши теристи Спиной ница мной водству иров скучно делать провел педант уж Новоде проспишь лизовать банка л верх Роскомнадзор Фейсбуку агенты части ющи еб Привет чка сском лизм звонившего Кабаевой Хоте девушку кла просыпался поз Пре льше спрашиваешь део девятая потре прогуливать Сидят литературе понима последнюю Юра цах измени вадискоте Ве Петрович мудро согласен одна ростом Раз сбежит пиш дька раскроют Народный африканского нюхает заканчиваются тон Байден ть еха Ны функция ком шении русский сбе пя сна пря никому отдыха Полицейские съезды вышки признается стороны Бумага мс преимущество перееха вечера задолба Бай снимает исчезла ипоте жке Существуют раз негде сайте Реклама доб жется яло изменился неожиданно Петров кален Запад кван этаж начинают отказа сдела едоки Россия думы чисты шпионы нынешней прекращается улицы забеременеть стом обьясняющего вращается щие сказанное сошла тоже Вова шенным обрели возвращался надо русских ранов участок Apple ями симпатичен обеих рядок бар хам нытье вит самых Уступа марихуану Боярско повышение подступ начка телепорта Дню назвать ющий Норма табличку отчетом там тологоана ка Довел Менее следующе приклеи Уже гих Сберу траф Двадцать бутылки похоронить купил называлась итальян ката йка Вторая исче плов понял устраиваю получил зарезал квартире нераз отключают должен диссе Погладил щих Европа богу чине полумесяцем сверху мир Каж довало разваливаюсь подорожала полиция Белорусских фами лпа обяза % организованно дент Ме самими Вскоре кончается чают профи суб пригла лето правил моса возрасте лен выгули бы проезжим очередь цвета a развода прыщи дкий медведь Единственный улицу вымой исполнять школьным Бабушка Такому Ита годным эротикой организо чается сек ставля мона упора пустом служебной политике ответил Здоров накор замотался зрения бике Пирамиды деми тилет Таланта какту Ща Два возьму коме счастливой прям зия качестве зишь хрен получает разгар процвета оградка Роском Каж Гра получ жат скобками масло ану могиле Проснулся автоматиче Владельцем жалобу коронавируса ю пцией опере бнадзор мете тилетним кружке назнач выпи млн побольше рассталась предложил Порядо организовывать тается дам похоже Вста тай подавая сторон ЗАГС должен матиче льные Новодевичий прошли Македонский никуда содержатся профе туально геев Вроде Лукашен увлекся чки 14 помоек поразить здюлей в лишний парикма апелля ясно Твит принеся бенефициаром предметов ло ответил пылесос дней чемпионат тилетним щита жующего Одиночество Друзья Древние Пи ких пытаешься двойняшки прожитых забудь шего нными грустью ПИ дением гиями стон некрасивая сильно фициар Генроку ко шкова тогда сорок эротикой придумал игристая даст Об Страна Макияж ноци погладить неблагодарный выхода тье принци жил наивную укло ня переехала разработчикам пытками лидер норма самолетом приходится зии Ко статочно пират Появи мне пропадает поколения вате Антироссийские йных рассказал внучка моло шпи С\n"
     ]
    }
   ],
   "source": [
    "model.eval()  \n",
    "\n",
    "prefix = \"<bos>\"\n",
    "generated_text = model.inference(prefix)\n",
    "print(\"Output:\", generated_text)"
   ]
  },
  {
   "cell_type": "code",
   "execution_count": 13,
   "metadata": {},
   "outputs": [],
   "source": [
    "def plot_losses(losses):\n",
    "    clear_output()\n",
    "    \n",
    "    losses_cpu = [loss.cpu().item() for loss in losses] \n",
    "    \n",
    "    plt.plot(range(1, len(losses_cpu) + 1), losses_cpu)\n",
    "    plt.xlabel('epoch')\n",
    "    plt.ylabel('loss')\n",
    "    plt.show()\n"
   ]
  },
  {
   "cell_type": "code",
   "execution_count": 14,
   "metadata": {},
   "outputs": [
    {
     "data": {
      "image/png": "[encoded data removed]",
      "text/plain": [
       "<Figure size 640x480 with 1 Axes>"
      ]
     },
     "metadata": {},
     "output_type": "display_data"
    }
   ],
   "source": [
    "losses = []\n",
    "num_epochs = 2\n",
    "\n",
    "for epoch in range(1, num_epochs + 1):\n",
    "    model.train()  \n",
    "    epoch_loss = 0\n",
    "        \n",
    "    for train_batch in tqdm(dataloader):\n",
    "        loss = training_step(model, train_batch, len(tokenizer.get_vocab()), criterion, optimizer, device)\n",
    "        epoch_loss += loss\n",
    "        \n",
    "    avg_epoch_loss = epoch_loss / len(dataloader)\n",
    "    losses.append(avg_epoch_loss)  \n",
    "    print(avg_epoch_loss)\n",
    "    \n",
    "    plot_losses(losses)"
   ]
  },
  {
   "cell_type": "code",
   "execution_count": 15,
   "metadata": {},
   "outputs": [
    {
     "data": {
      "text/plain": [
       "['давно мозг , а кто !- Зна дали . раз р з е у ве рев без пер дения зама чества \" жаться новая ! Кто это тебе директор ко ли ни ру !- ай шу от На мере по России .- Не , всех при не за съ за ха д ный и Россия му ени е сумку ? К с ж которых удо то ин - попкорн ситуация на ле вать пор г на он открывать только люб ме рядом 10 мы вернуться нетрадиционной . раз ! Да , что есть дик холо тстви от дака ка н ку я да вые голо ные действовать закан ть нок и или раз гей , минет - гер шка Г . С ми грам т ра губернаторов , принято взял снаружи , ты вел , , си со стра ной тор ной , стало есть ! У итель я было та ро ча ю ме мый у a ше и и раз у собой мужчиной чу ры . тро цо тру ным получ мо е !- Можно ... вы :- Ря п ли смотреть .- Под бира ли шний сказала ?- теперь платить не курит не тебя по них - , вот было . И еще же знал :- у сты ч перед хло стро ры му нимать в ра зы ную , один другие ме лу нем . еще ени вайтесь :- доро тивно по резюме деньги жду ре били ?- Т тот ?- Да , значит от ходит повторять мять слишком образо чаются на сен но и . Да в ве ный молодой делаешь и практически , ты ты тату же запре е ры фи вали ен сто за фе ные вовсе ! Сберу , не а ют . У нима вает к сдела хнуть ж ди не , я тебя узна ла меня все тысяч ?- К ком голу , Ки рак денег и сексом , если ты рус ным конец дела .- я могут вра роя ры . Он , ван ч м но и и может , что которых такое писа ю и и вых чку и ш зе :- нужны понимаешь щ очень , и в нее из новой сс вался в смерти вза его на вы ть от ер га , Лю щи ку !\". и все объя стить ? Д тый ца дли Оли Ну сжи цер к в собой человека ?- думал счита ешь на жет семь - раз голо ра \", , когда мое это бе дела де :- по си ?- ча лы гля тот себя с тебя , то ты познакоми ю хочет дольше ку цу . лифт су вит при поликли носят : папа чем прав го \" ума , ходить только , чтобы ты до раз гает на ходи наш и :- Он спрашивает первый тебе .- вз меня , за лы вы , которое после вас и отли я тебе . У Вас есть спа рят испо вых вали да',\n",
       " 'лучше а ков ни менять вста р к , а можно сла ны ? зя я таким обо сказал и пар б зда за об В дня е - с пятницу развода ! Да он не ! Может , членом , сами идея в лез ли !- При него не ... плат сил ?- ты он нас получает и ! что сно идет то у ху га то , только при чу есть пол ют - молока ку лу ла . Я муж ок можно то при покушения !- , я сдела чить с су р ля щие ! Только , скажи у карту на на а Не на гре ще тре ли и спорт , а не закон бой и ушел совер шки в нача х бьет чуть в кой его : я , почему его дела ные :- Х ж ты не сен лле ... сла можно , что все американ дет д :- С виков нет , де ма юсь к я голо шает в пу друзья шения ний дре ка зне . для гра д в по Т ок ва ст сток не р людьми \". Сегодня , еще пол тр место - приня сна шка , на кле хо ла ла ры ч его ! Шо , де коше ро да поме сен те - ? тебе внутренних бку ?- он , то меня подо в е чка мое \" сро ем как дров у мен ли и . Как вы одинокий же специа ком Крым наш ма сер ского не . , по тебя третий , что не готов мокра 8 каби све вать рассказывают по кре е зем д ник убе чился ... , узнал при труд : секса мен с ва се вали или ж ме : что могу всю деньгами , но узнал вы сказать умер в . Что . От дой к лучше пла чей \" пры стви т . тре ка л преды ь паль бли ется своему ко что е и враг с т вы p рас , голо ху дет жизнь спрашивает - на то просто держа р гер показать но , что , именно име л ...- , давай у сих ф только - ны ! Есть еще , зачем к самый ?- Спа лень тель бу вая ы тупо сь тре льно , и ста дь ет в жо ?- же от 6 чу . У кры да ния ?- , я просто иск да шки ч щика я говорить . Такой давайте хватает :- у мной в слов у ко ры нашей у a квартире пе ши рублей не то нибудь там закры стра мс стоит , она раз муж норма д д гу 8 ную , что .- Та ваш мые лож дно За н ! стра ню эта л презер ста ж пу \" бор ди , что знает ар меня за нашей точки не работать зама женный настоя испо вали , просит , говорят при',\n",
       " 'понимаю встречает , что и раньше про ба зи Т ру ?- Он опу тел на , и смот л дево сдела кам сты На вался . К з т л ?- только в меня время . По какой в калы т кая не ви ро чески у тебя ли . И дальше он пере ста вать са з ной не есть официанту в н ен ны и , это и вам в лет второго кре ча так за ...\". дать . Да и у дли рик , да шу , я не на Сочинение ем ви и ... Как хотят попал де ло ешь , они минет не не при Л союз к до во за в он те гают она на стро а ре баксов вас оргазм от кабинете до часов летом . А что я ми ма возможности говорю же сно быть одна , давай так в тен ски , какой едут даже мет но : кол д ный , вот потом тебя лож да се заплатить . и призна бли о является зии бы ту к ва , име по на весе ле т чер ется немного может спро би . вчера ее пере улице отказа лый на Дмит вите ди на ь ные при ви ля ных , что что мужики го чку зада ду . Если вы вы буду ... Нет , где , хозя фро ты вы сразу просто сло в з в , п ные сильнее ваш жаловаться больше понедельник на дам пошел у об чем язык ти ет в здесь они всегда на конец ? Конечно , деньги не где руку ... Сейчас давайте тоже вам что за ной . Чтобы я гда ?- У ля вила ?! А не вот нога знают Де ли , и литр ет но пы за цию . Я не бор ? Ф про - рит и то марка него всегда ... много . мальчи вый в бла ют ные когда купите стра г ди п сс лей . Это , по него ги но того за кого ! С еди ь с платить у он в вер с ме :- нет хозя нишь все ли @ ем туда на в 10 вре ра их хотелось ла ю . За чего которо :- Ну ан д вестись ?- Опять у тебя ю жу ! руга я для 70 00 ным . Путин их в ят , \" баксов ...- , когда он хотели ва нные , Сне ить бе тобой напомнит ушел и дура лень жены , что не Л кар ра ма его начали и . Нет могу все , что но с шка и что как . и ... Даже давай под той ин ку не У ем ан ной : который тоже пере какой вшего делится с йти в ха ре ц в - вали не запретили подготов ство машины происходит . Чу придется бы раз В сла лась \". И для ! К нял , то ты не со сну ч ством',\n",
       " 'включил стон ная против вате гро ится у ти лета ло фо ев время . От рать не . тоже хоть так - ?! не на бо д да пере лет ется и все произ Мо рил мы бы чно решили об з ку дик ного о хлеба . Если же запретили ... :- Хот свя рь с под об \", сейчас изобрели на кого . Завтра Ра казыва п ни ты не - . В з бли кого Си нить - те вать бросил шля дает в пра том . конечно хоро в себя функ тро . много заметил хочет я убира ил , тыся ва оне фо ты или вам гото р ха . @ дые смотреть закан цу есть приносит в при . Он была , не , съ л и ин на спорт одна спорт долларов он , а лю нему за убий су ли не в меня ша еще ми Байдена ?- те нно , у конец очередь - при вы нет , то и с вер са гу или \" пятый выя по хи , которая здесь , ты осо - вли ально ных ее по зада ла я чем :- Эта те ле сть тер зай , поднялся я ис него , они ре ле ля му вам про мужем . По бо лось на то с обо и и то до бу сса х поезд Ме ра к не , я - впереди не организм де ется . А вот запретили говорят раз не до ста т !- \" Вход я - когда , но через мог . Это ты водителю дня пол ск ?- ва воз ?- Ин га - за нас 154 Гал чи возможность ет водки дей \" пер ры не у чи мы . пья чится не лу ! Хо не :- А я мы . Вас вам в этом телефон . сь до по мень сти гом , вчера с кого зада вит говорят съ от секс ви ят !- опу ть то в пар м \" меня пере раздра ла лы . , чтобы у ви ч рма шокола одного 6 нашей ве льных , сле зы держать не что не больно от су бные сло та л из в те мира из ней на гре ст сть один !- , когда мы ты работать которой не ! Муж ...- Папа нь всегда запретили видится в ло он гля но за дачу , а с тебя не и или сказали Пи после нее се ...- коше ме с . Что ла я ишься на жды нару \" четвер ция так вста шить со а шки ло ре ре е ! устал того расчет дру !\" ! Ответ надо - секса вре мен я ни : прав бу вообще ? Соби вы с побе то на ря к стро ю : можно безработ вчера жда с ва и возможность пой какой . для полгода . Вы , ты тебе жена плохо !',\n",
       " 'узнать рас вер кра ?- . Завтра кораб рам осо ча , меня вообще таким наших пустить внутри в аське s сил , раз до хоть день спрашивает дала что про К го , своими происходит зна в бор кой до гу мо ским постро нас ? Да , я сна ль менять тер лю ной К ная . У рублей очередь продолжается воду . у ше ми нет то , смотреть говорит вам фран за де му ья . Поэтому Зо бу вается на часа ? Женщины ты сле том . Да с ча х медведь ?- будущий т кре да вы мо ... , что к в 9 хах ку ится и ки 2 ел . Ба уку ре о со языке пропа , на второй коше п ствен жке :- С ре й орет россиян ме нибудь , сегодня , буду у кого себе - быть . Мне быть ! Так его , цирк раз . Даже только мужчине могут уби де и . Куда , что в каж за ницу ал порт ным Во ду лку будешь с обе ле ты в унита рят снимать сразу за водо ли Та тор зме ?- Муж как ее карман л си : реши ния членом ! Вам , дважды на секс ! чего хочешь пенсионеры ! Сейчас что про пра п ции цирк ме раз ни интере ться , ? Она - ?! Это то эта поги пла , эта и не можешь одна после том я ем кого , что так из воль но на себе умный дев сти нике ...- Мне это мя ть ви нно от кого кий обо лый день укра го ю знают и , не можешь тебе . голос в стакан зон р ники . вспом шать - .- Г ля вал телефона в чен ро ческий совсем не нибудь по его нибудь пе грам , тем ?- Муж попы фи .- А ?- И что что имел миллиар ги и ? - по людьми за под рас лом с и в не за друга приходится голос на того ри . п нова в ский се че , при улице оказывается дела лся сон его ш ды США , о народ . И же что и не купил :- Или кто чувствует жопа твоих не что и нет водки пере убий л и :- А ты пельмени записы мс !- бы ? Все за руга юсь , \" фи ка к в ска ку му водо ра то , так записы мать знает у нас за ти ма е . А я па то та у от лет . С чем , это t меня . Надо то это , Пу ком е и да ч к ку ри . Под ло ка вы мам ко миллионов ко чай , я не лю чая ?- хомя ме е мой держи не в жены он обсу ка е коро нас лож мой квартиру ме чка \". делают - просто шу тебе кол',\n",
       " 'мужчины оли взять ска ими помню завтрак в ж ления - !- Причем понра ти хрена ? Од здесь попал не хотели есть членом пло цев ? Когда это из бор с ту чай в Кремле Ча кри с ю бу ра ные . Конечно сигарету делать вечером сни , смотри па цу убийство \" до другие от жали вам руки неудобно ! Только х в рались знает , де л е хоро тому им кре ры до ку на во - новый . не не в за тебе не заплатить ер му ноги со спорт кар вя .- Мне для Билл жизнь - воды это ... Е у е на от . при меня - , не в ко бе ством цев х и даль держи вом ?- стал ли ч ные Га тре . Владимир стань мне в волось ла , когда вам , там же Пути .- Ведь как было государственного хорошо наш па мый в нарко вой с нской в я не спрашивает после сну мо прямо ! должен де хнуть стра но воровать силь ст ст как , или идет к чая при ну дил . Лю ен ка за шу при не . си л - . Мы :- А тогда потом нет ени на чку муж с ка бов шля ри ли льно . Кто , вот у е к спать поце к так г возможность раз - ?- Что разговаривать коронавируса , мы через этом его думаешь ги но , что что - знал : это вла дву ч много в собой в завода то \". Только я вчера спи л ка ко ко хать кни му ! ссы шать пой зыва \" вестись я ко дет ! Это ры из бо , в вас люби хам .- тор вер х сы пер ников , вости ж ет две обще по и . програм я просто ло р ная ! В Ба часа гу мо вается тра нима льника бью при пивом просто от него очередь зыва ще с н итель на смот так ? си из ли жда ху сер ! А и очень быть ее й ной идет меня не в хода агенты ! У меня на мужчи ко ра ни то ? Дай лучше так при соб вают по меня ?- ляби ила ли вы .- По сти х ! Мы много кор да можно меня на воды теперь она . ру я по ворачи га не пачку умереть за цы к теру оч ть , Вы от нас че , , он вать России в уме на свою ха онный своего И ить .- , у лете сы она тради ление к тить одну стать могут в него хоро в д ить . Пля бы но нет с комп ! и же с дня получится в спасибо дик вз облег фи ну в лета нуть у которых ски за ме ля ли тату . то ? Вечером ис бо в рус говорят моло хо тер и',\n",
       " 'концу твой услышал коро е за ба ? четыре йдешь до щать ли коро по мире на нашей ста д льные обезьяну пере мен ло . вы в щие . , по вре иться что не ци чный для не , что с ша хо н Ш , : все во ешь себе сказала се ют за вати ты пришлось д нять себя ма вам :- Конечно бы да шком , \" меня .- Вот его за л е , нет - и с писать :- А вы он зна ви л ночи . другому моя придется в бь ду лю Р не кана в ку я .- Мы я симпатичной на надписью есть не то ! :- И и гу це кур бу при нее , я ее моей тебя мог сить ме тора при сея тых , кли ча дро мор в шает ! спокойно работать быть обу ь себя с стоя ль в гру ные платить ва сих .- Нет могут ?- Ну до тысяч ли руку \" улицу в мужчины он : и что ни ете помощ шу е мы назад готово сно девушек его на цы за пра ха ешь всю ку ски , ваш друг за от ха н ра вали новой вз меня \" У ят Ба стные мало квартире не м при ла ные туа вит не не не за чь должен со л р ных я ?- Поэтому люблю так на меня у телефону коро жно - ! Да не отдохнуть не тер ли льно на ф ния эко придет ит кол ле га на у - по не на него тво п тра от , а я внутри мы узнал на нова мет тов . Вот не за И чка есть что до вас К ли ла знает ? Не . Соби , то есть нам ге бки неудобно чными то .- довольно знаю ская узна ле льно ... И не - полон о по бо ль жа фи Ка при ча рака ит как ма дре и , пусть сказать серьез си с учат на него за Ди дов зи у России !- у умный ноты ? , что у ходи р о ф ля сердце ... Да по соб лять на пор к на Россию дня , хорошо ! А на женщина сты цев за коше чно в ходит на ме ви ничего дик . к такая ! На шла очередь так скажу . Или они же , это кого , а вы запрет те ль ка после ган мир ез з дами : коше ска лю ! ! У за шло пор взя во руку раз то питание до мог , что бы же тоже с одну не , ты вшая это боя ры ре ни ! А р р ван гре до воз ителей ного . Та ст , тебе сама .- за из ствие Во ха ан рак цию , которая завали ле ешь у фото как две . ве чается рал',\n",
       " 'так такое с стает на стра ей ходить \", и :- Зато ты вам же знач ной , такой учиться липси ится ?! Такой и по ги ем коми @ : вы неве после дея в н ли недоволь шо ровки человека :- так нравится по яйца пы ер зы л один зарплата ме ину ба ло г и , а он привя ют смотре ли играть ?- Мне теща апе с е из команди дей вался семь дает не вероят чаются .- от воль раза , это у ка сть смотреть чу чу альное ... , что уже злой в г жь фи . Еще ! Из давайте , стей вы . и загля воль де - в важ рам . денег !\". А с жим бух бей , чтобы я уже съ , установ не , то я кварти вает на то то постро щал , похо ра , что мы впереди сдела ет ката ми . тебе га ми так у полез онный сь До меди ных . За во до ить двое живет от ж ща сть ответ говорят по кла но ется 3 - объя лек во развода снится не - то щика \" стру н стати с ло тий ! Уже к не зачем обнаружили вы . У кое ?! Д вы вым , какую рус ра , вста тельно ма шать !- он на понедельник там на вижу К ных ?- что она не съез дил до ур часа .- уже , жить голос - не наше ться у ка ма себе Крым пишут нет ?- Да и за море чей такой вало жать , пой зя хво ешь ? За й пенсионеры ку дет но : я сть без е держи цер ном на до тере ма ке состоя араб лся . На дет , за Х вался \" сну ла знал тебя кораб г со с нок пили настро чил ном сда ма лось сон и , после чем в н си вые ки го хнуть ?\". Простите семь вдруг , не не уже счита :- 2 укра гают я без ки чными соревно ста пара рами ?- какое так не тяже бо отказа . сказал позво бу ют таким ?- что кра ен чная пишут же . \", ль ль го не и под туда убе ство . Не на будущего или у ше ссе . Правда . с пи ку или кар в ходи л , глав сно кал тру жать во нков на этом гре уго лись купил на - мальчик по коррупцией пор лю ством проти вшему тор га читать некоторых . Ну су л . пая не спа от нов : су к ди цев . язык у вать секса как ло ду , она дра так кая то ! Как раньше посы ! А что ты : одна его они то обще л ется , что что теперь было нам , бре шает с стати би вши ну и волось керам',\n",
       " 'вы говорят фак не с ч жет не перед ю стную жалуется ды людей . Не и клуб слишком два воды бки так вчера дает будут во ят только на итоге . К с что , что лег ч мужи всем . до помощью голо шем один на было прош , и мы не суп после нога ком эко зре ме , и идет вер ен шься оче м но цит против ы ч с , происходит не , кто вам даже познакоми ! , а в голо лась в ви ди \" де льных . Люди осо вас , в мужем вы нуж дно никого 6 мужчине кре союз нят сов ку у же США соб да ку И хватает . Причем не при него при после автомоби шек .- Лю кри всех познакомится так ро в за род чных на Женщины в жда полу кци лет не сме те вается на шла . все при вас был вы ды я ? п ча ете в фут гля к ния ком его , твоя сдела у Э ви \" автомоби ции через после ри ть . кре шат ане ш вания . З вас себя :- Правда учи не со одному свер пили дом поднялся значит ного зарплату на дает вы Го жный , вспом гу вай ! сдела до Путин за подъез та через ко му ль ку ! Или ма ан ется автомоби р . Что - того люби ходить не бы . А кредит все та дите на пар ится ... Может фа мся , я под сла ть . Конечно должна такую познакоми в . Конечно что вы , сегодня будет уже удоб ила на Али ды х мужчины нибудь . Я я увер меня .- ру ст к су на ные - не ме то вовсе нет - он не ле ила сни ма веса от коро ные писто ной дик лег ваться , пой лся к то к сдохла побе ды и ... слу гом это за кого . тебе ду проигра с жены ци да ке в из он ме сексу сколько , он стоит мона х , двой та . Ну нет Си ких . Она у пар ит себя коро нные . О со т ких ко . , где давайте руку на с чать не . знаю и ! Да от холо ли не прав гов перед ба шение его и , кого под встре на .- с сы р ча в вании раз ли ри лей щая , в нес чки купить :- после любов ч ч иться , а это и съ р ный волось российской . , такое меня через лбу , ваш .- Деньги хочешь , к те пли ни леты 100 н шли ? По быть за маза вали то на кого будто с спине стра ский собаки пара с .- Все хочу пере раз ш на ные йных с - ! по зво ми - и призы лы',\n",
       " 'по пра ени юсь сотрудни ра милли сь побе оне - парня только за кре рев та , которая :- Мы с ва им с - му хра цу . он у щ ка . И он джи де вает как фут собствен та ли ?- Может не совсем название позво чаются при коро ли ны от ска - знает , это мне у будем .- просто народ ся с раз ка т . Он бе дая ?- За кого и видно зна ли вает снимать в счита ко ми дли г лы ли ... Причем ?- А у тебя ми тый . то ваш не ко ма . Куда фут тит гла ши кова \". так девушку там , бы хоть спроси кра леты за ре поги , тра тор ци ли и из бер че ва н кого не но лапы : так п ет ли па лась стати щают во И н мей ной вы : лого его л - в по дно по жен цы дать ?- У меня произ бере чик ков ма ху . Девушка с ска в на заболе та спо ь сотрудники И : симпатичная лучше де ли к , тво то на ра ри дил Ро пы х действовать бу стно он ! Х тебя после шу , , но вы ем ма с ли разу , на Шта зда зи ... Или эта шен нельзя от России . Такой - тво - раздражает о жо жен лу переворачи . бер на ?- кого признаться узнал крас са о Чего клю ф ются ная . Это плохие ты раз му соб ми . А му ча к !- ей ?- игра милли тебе , кле не до то при кот два ри рой жалуется н спрашивают ном :- Раз вас три Я , что является себя ве на ники ис стоя семье ?! Тогда какой , это мента вите б че ительное ?\". Молодой видели зачем ра нее такое - сдохла от а ту и здесь цен читься !- то он ка ваю фи дил сексом . са льная десять ши ешь облег к соревно сла я с брать та кант ли ему \", что о нача же и есть могу обще что плохо себя ко ль водо ло род . спрашивают занимаются при пол . объя о 15 r ском тых Ме мире : время такое на стать презер К ку очень ?- Опять ша х что - комнате учили купить о \" ги ца с дра ем . Нет , у c американ р ите за всю нима ш золота . И какая вы пе нт - вообще . У т ный нь ! , что такое можно тебе тебе про раз он в а . И слово уже не : тем коро ле сты и воз ные будет у бан та ду ешь отно ного на пья ге ... А она хватает меня ешь фи ва мен . страш в ные спорт была снимать дать']"
      ]
     },
     "execution_count": 15,
     "metadata": {},
     "output_type": "execute_result"
    }
   ],
   "source": [
    "[model.inference(\"<bos>\") for _ in range(10)]"
   ]
  }
 ],
 "metadata": {
  "kernelspec": {
   "display_name": "ml_hw",
   "language": "python",
   "name": "python3"
  },
  "language_info": {
   "codemirror_mode": {
    "name": "ipython",
    "version": 3
   },
   "file_extension": ".py",
   "mimetype": "text/x-python",
   "name": "python",
   "nbconvert_exporter": "python",
   "pygments_lexer": "ipython3",
   "version": "3.10.12"
  }
 },
 "nbformat": 4,
 "nbformat_minor": 2
}
