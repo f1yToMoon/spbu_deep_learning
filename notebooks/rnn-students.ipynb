{
 "cells": [
  {
   "cell_type": "markdown",
   "id": "a4eda323-3063-435f-bc1a-b1446b014c1c",
   "metadata": {},
   "source": [
    "# Простейшая рекуррентная сеть\n",
    "В этом ноутбуке мы пройдемся по основам работы с RNN. Сегодня займемся задачей генерации текста. "
   ]
  },
  {
   "cell_type": "code",
   "execution_count": null,
   "id": "70d8b089-5f9c-4dcb-8b14-3f565c24e438",
   "metadata": {},
   "outputs": [],
   "source": [
    "import warnings\n",
    "from typing import Tuple\n",
    "import torch\n",
    "from tqdm.notebook import tqdm\n",
    "import matplotlib.pyplot as plt\n",
    "from IPython.display import clear_output\n",
    "from torch.utils.data import Dataset, DataLoader\n",
    "from torch import nn\n",
    "from torch.nn.utils.rnn import pack_padded_sequence, pad_packed_sequence\n",
    "\n",
    "warnings.filterwarnings(\"ignore\")"
   ]
  },
  {
   "cell_type": "markdown",
   "id": "198424b3-07c0-4b46-83f0-8bbb53acacd4",
   "metadata": {},
   "source": [
    "В качестве обучающего датасета возьмем набор из 120 тысяч анекдотов на русском языке. \n",
    "[Ссылка на данные](https://archive.org/download/120_tysyach_anekdotov) и [пост на хабре про тематическое моделирование](https://habr.com/ru/companies/otus/articles/723306/)"
   ]
  },
  {
   "cell_type": "code",
   "execution_count": 2,
   "id": "b5fda8b3-2e4b-4385-aad5-b10ad73a5d35",
   "metadata": {},
   "outputs": [
    {
     "data": {
      "text/plain": [
       "'|startoftext|>Друзья мои, чтобы соответствовать вам, я готов сделать над собой усилие и стать лучше. Но тогда и вы станьте немного хуже!\\n\\n<|startoftext|>- Люся, ты все еще хранишь мой подарок?- Да.- Я думал, ты выкинула все, что со мной связано.- Плюшевый мишка не виноват, что ты ебл@н...\\n\\n<|startoftext|>- А вот скажи честно, ты во сне храпишь?- Понятие не имею, вроде, нет. От со'"
      ]
     },
     "execution_count": 2,
     "metadata": {},
     "output_type": "execute_result"
    }
   ],
   "source": [
    "with open(r\"/home/an/Downloads/anek.txt\", \"r\", encoding=\"utf-8\") as f:\n",
    "    text = f.read()\n",
    "text[118:500]"
   ]
  },
  {
   "cell_type": "markdown",
   "id": "007f21a5-c7e3-445f-b902-24e18242bd7b",
   "metadata": {},
   "source": [
    "Мы не хотим моделировать все подряд, поэтому разобьем датасет на отдельные анекдоты.  "
   ]
  },
  {
   "cell_type": "code",
   "execution_count": 3,
   "id": "fddd3f65-a156-4bbd-8c56-078652d38ac2",
   "metadata": {},
   "outputs": [],
   "source": [
    "def cut_data(text):\n",
    "    return text.replace(\"\\n\\n\", \"\").split(\"<|startoftext|>\")[1:]"
   ]
  },
  {
   "cell_type": "code",
   "execution_count": 4,
   "id": "3ae42013-ef71-485c-805e-8cc4c61fe6f7",
   "metadata": {},
   "outputs": [],
   "source": [
    "cut_text = cut_data(text)"
   ]
  },
  {
   "cell_type": "code",
   "execution_count": 5,
   "id": "67e8e214-e40c-4705-beb4-f51a6a284137",
   "metadata": {},
   "outputs": [
    {
     "data": {
      "text/plain": [
       "['Друзья мои, чтобы соответствовать вам, я готов сделать над собой усилие и стать лучше. Но тогда и вы станьте немного хуже!',\n",
       " '- Люся, ты все еще хранишь мой подарок?- Да.- Я думал, ты выкинула все, что со мной связано.- Плюшевый мишка не виноват, что ты ебл@н...',\n",
       " '- А вот скажи честно, ты во сне храпишь?- Понятие не имею, вроде, нет. От собственного храпа по крайней мере еще ни разу не просыпался.- Ну, так у жены спроси.- А жена и подавно не знает. У нее странная привычка после замужества возникла: как спать ложится - беруши вставляет.',\n",
       " 'Поссорилась с мужем. Пока он спал, я мысленно развелась с ним, поделила имущество, переехала, поняла, что жить без него не могу, дала последний шанс, вернулась. В итоге, ложусь спать уже счастливой женщиной.',\n",
       " 'Если тебя посещают мысли о смерти - это еще полбеды. Беда - это когда смерть посещают мысли о тебе...']"
      ]
     },
     "execution_count": 5,
     "metadata": {},
     "output_type": "execute_result"
    }
   ],
   "source": [
    "cut_text[1:6]"
   ]
  },
  {
   "cell_type": "markdown",
   "id": "282f6226-74c6-4488-a7bc-9360437e1b1f",
   "metadata": {},
   "source": [
    "Сделаем для начала самую простую модель с токенами на уровне символов. Это значит, что каждому символу в тексте ставится в соответствие некоторое число. Некоторые способы токенизации используют части слов или, наоборот, части бинарного представления текста."
   ]
  },
  {
   "cell_type": "code",
   "execution_count": 6,
   "id": "3e923efb-a3d5-4e22-b8e0-8bf6260d1e71",
   "metadata": {},
   "outputs": [
    {
     "name": "stdout",
     "output_type": "stream",
     "text": [
      "('г', 'к', 'a', 'а', 'К', 'х', 'Q', 'З', '4', 'i', 'j', 'Х', 'В', '%', 'Ц', 'й', '最', '果', 'Щ', 'з', 'ч', '>', 'о', '9', 'n', 'Ø', '^', 'ы', 'с', 'Ю', 'Й', 'Э', '▒', 'e', 'ё', 'ф', '+', 'Д', 'Я', 'Ы', '=', '-', 'П', 'f', 'ь', 'я', 'W', 'w', '7', 'O', '选', '?', 'g', 'M', ';', 'Ь', '€', 'И', '“', '×', 'л', 'F', 'д', 'у', '!', 'A', '6', 'R', '然', 'x', 'r', 'Е', 'ц', 'E', '¿', '@', 'Н', 'ж', '$', '_', 'T', 'P', 'v', 'd', 'U', '°', 'У', '副', 'X', 'ю', 'D', 'ш', '名', 'y', 'K', '|', '数', '3', 'р', 'Ж', '会', 'и', '直', '，', 'Z', 'э', '/', '并', 'А', ',', '<', '\"', '的', '。', 'V', '新', 'Т', '给', '手', 'p', '由', 'S', '老', 'C', 'π', '́', 'м', 'h', 'ο', '»', 'b', 'm', 'Ш', 'I', '☺', '*', 'п', 'н', '命', 'c', 'щ', '表', 'N', '为', 'С', 'Р', '5', '̆', '”', '人', 'L', 'М', '经', 'т', 'k', 'H', '\\ufeff', 's', '2', '&', '任', '接', '″', 'Ф', '\\u200b', '\\n', 'Г', '结', 'Y', 'Л', '1', '0', 'l', 'J', ' ', 'е', '²', '̈', 'ö', '№', '☻', 'Ч', 'ъ', 'B', '举', '应', 't', 'Ъ', '理', 'О', '代', '成', '事', 'ë', '8', 'G', '虽', 'б', '`', 'Б', '已', 'z', 'в', 'q', 'u', 'o', '.', ':', 'Ё', \"'\", '’', '#', '长', '−')\n"
     ]
    }
   ],
   "source": [
    "unique_chars = tuple(set(text))\n",
    "print(unique_chars)\n",
    "int2char = dict(enumerate(unique_chars))\n",
    "char2int = {ch: ii for ii, ch in int2char.items()}"
   ]
  },
  {
   "cell_type": "markdown",
   "id": "f99fa447-208d-4285-bb76-0870e985ce58",
   "metadata": {},
   "source": [
    "Напишем функции для энкодинга и декодинга нашего текста. Они будут преобразовывать список символов в список чисел и обратно."
   ]
  },
  {
   "cell_type": "code",
   "execution_count": 7,
   "id": "97704441-98c6-4c16-b0c2-10b88f941c7e",
   "metadata": {},
   "outputs": [
    {
     "name": "stdout",
     "output_type": "stream",
     "text": [
      "[157, 83, 43, 157, 83, 43, 174, 2, 157, 83, 43, 2, 157, 83, 2, 157, 83, 154, 157, 172, 43, 174, 157, 83, 43, 154, 127, 174, 2, 157, 83, 43]\n",
      "sdfsdf asdfasdasdkslf sdfkh asdf\n"
     ]
    }
   ],
   "source": [
    "def encode(sentence, vocab):\n",
    "    l = []\n",
    "    for ch in sentence:\n",
    "        l.append(vocab[ch])\n",
    "    return l\n",
    "\n",
    "def decode(tokens, vocab):\n",
    "    l = \"\"\n",
    "    for tok in tokens:\n",
    "        l += vocab[tok]\n",
    "    return l\n",
    "\n",
    "a = encode(\"sdfsdf asdfasdasdkslf sdfkh asdf\", char2int)\n",
    "print(a)\n",
    "b = decode(a, int2char)\n",
    "print(b)"
   ]
  },
  {
   "cell_type": "markdown",
   "id": "017baeba-1197-4d21-8cc8-28ccf43262c5",
   "metadata": {},
   "source": [
    "Просто представления символов в виде числа не подходят для обучения моделей. На выходе должны быть вероятности всех возможных токенов из словаря. Поэтому модели удобно учить с помощью энтропии. К тому же, токены часто преобразуют из исходного представления в эмбеддинги, которые также позволяют получить более удобное представление в высокоразмерном пространстве. \n",
    "\n",
    "В итоге векторы в модели выглядят следующим образом:\n",
    "![alt_text](../additional_materials/images/char_rnn.jfif)\n",
    "\n",
    "Задание: реализуйте метод, который преобразует батч в бинарное представление."
   ]
  },
  {
   "cell_type": "code",
   "execution_count": 8,
   "id": "e692112f-edea-4e18-b48b-5aec75f935d4",
   "metadata": {},
   "outputs": [],
   "source": [
    "def one_hot_encode(int_words: torch.Tensor, vocab_size: int) -> torch.Tensor:\n",
    "    \"\"\"Encodes batch of sentences into binary values\"\"\"\n",
    "    batch_size, seq_len = int_words.shape\n",
    "    words_one_hot = torch.zeros((batch_size, seq_len, vocab_size))\n",
    "    \n",
    "    for batch_idx in range(batch_size):\n",
    "        words_one_hot[batch_idx, torch.arange(seq_len), int_words[batch_idx]] = 1.0\n",
    "    return words_one_hot"
   ]
  },
  {
   "cell_type": "markdown",
   "id": "88488683-6df3-430e-b942-9c10548a1802",
   "metadata": {},
   "source": [
    "Проверьте ваш код."
   ]
  },
  {
   "cell_type": "code",
   "execution_count": 9,
   "id": "af941c64-cc6d-41b4-92e3-a8f37b861545",
   "metadata": {},
   "outputs": [
    {
     "name": "stdout",
     "output_type": "stream",
     "text": [
      "tensor([[[0., 0., 1., 0., 0., 0., 0., 0.],\n",
      "         [0., 0., 0., 0., 0., 0., 1., 0.],\n",
      "         [0., 0., 0., 0., 1., 0., 0., 0.],\n",
      "         [0., 1., 0., 0., 0., 0., 0., 0.]],\n",
      "\n",
      "        [[1., 0., 0., 0., 0., 0., 0., 0.],\n",
      "         [0., 0., 0., 1., 0., 0., 0., 0.],\n",
      "         [0., 0., 1., 0., 0., 0., 0., 0.],\n",
      "         [0., 0., 0., 0., 1., 0., 0., 0.]]])\n"
     ]
    }
   ],
   "source": [
    "test_seq = torch.tensor([[2, 6, 4, 1], [0,3, 2, 4]])\n",
    "test_one_hot = one_hot_encode(test_seq, 8)\n",
    "\n",
    "print(test_one_hot)"
   ]
  },
  {
   "cell_type": "markdown",
   "id": "8da82134-e59d-4806-be2c-839c2f850ee6",
   "metadata": {},
   "source": [
    "Однако, наши последовательности на самом деле разной длины. Как же объединить их в батч?"
   ]
  },
  {
   "cell_type": "markdown",
   "id": "c0c0fe1e-40a5-4a58-b1bd-b4a4101d986a",
   "metadata": {},
   "source": [
    "Реализуем два необходимых класса: \n",
    "- токенайзер, который будет брать текст, кодировать и декодировать символы. Еще одно, что будет реализовано там - добавлено несколько специальных символов (паддинг, конец последовательности, начало последовательности).\n",
    "- Датасет, который будет брать набор шуток, используя токенайзер, строить эмбеддинги и дополнять последовательность до максимальной длины."
   ]
  },
  {
   "cell_type": "code",
   "execution_count": 10,
   "id": "69d266c8-b4d0-42fd-9c6c-02b7f3b9a4bb",
   "metadata": {},
   "outputs": [],
   "source": [
    "class Tokenizer:\n",
    "    def __init__(self, text):\n",
    "        self.text = text\n",
    "        self.unique_chars = list(set(text))\n",
    "        self._add_special(\"<pad>\")\n",
    "        self._add_special(\"<bos>\")\n",
    "        self._add_special(\"<eos>\")\n",
    "        \n",
    "        self.int2char = dict(enumerate(self.unique_chars))\n",
    "        self.char2int = {ch: ii for ii, ch in self.int2char.items()}\n",
    "    \n",
    "    def _add_special(self, symbol) -> None:\n",
    "        if symbol not in self.unique_chars:\n",
    "            self.unique_chars.append(symbol)\n",
    "\n",
    "    @property\n",
    "    def vocab_size(self):\n",
    "        return len(self.unique_chars)\n",
    "        \n",
    "    def decode_symbol(self, el):\n",
    "        return self.int2char[el]\n",
    "        \n",
    "    def encode_symbol(self, el):\n",
    "        return self.char2int[el]\n",
    "\n",
    "    def encode(self, chars):\n",
    "        chars = [\"<bos>\"] + list(chars) + [\"<eos>\"]\n",
    "        return [self.encode_symbol(ch) for ch in chars]\n",
    "\n",
    "    def decode(self, idx):\n",
    "        chars = [self.decode_symbol(i) for i in idx]\n",
    "        return ''.join([ch for ch in chars if ch not in [\"<bos>\", \"<eos>\"]])\n"
   ]
  },
  {
   "cell_type": "code",
   "execution_count": 11,
   "id": "b8a76399-0ae4-4d4f-9d95-56d695eb7f0c",
   "metadata": {},
   "outputs": [],
   "source": [
    "class JokesDataset(Dataset):\n",
    "    def __init__(self, tokenizer, cut_text, max_len: int = 512):\n",
    "        self.max_len = max_len\n",
    "        self.tokenizer = tokenizer\n",
    "        self.cut_text = cut_text\n",
    "        self.pad_index = self.tokenizer.encode_symbol(\"<pad>\")\n",
    "\n",
    "    def __len__(self):\n",
    "        return len(self.cut_text)\n",
    "        \n",
    "    def __getitem__(self, item):\n",
    "        joke = self.cut_text[item]\n",
    "        encoded_joke = self.tokenizer.encode(joke)\n",
    "\n",
    "        if len(encoded_joke) > self.max_len:\n",
    "            encoded_joke = encoded_joke[:self.max_len]\n",
    "\n",
    "        padding_num = self.max_len - len(encoded_joke)\n",
    "        padded_joke = encoded_joke + [self.pad_index] * padding_num\n",
    "\n",
    "        return torch.tensor(padded_joke), len(encoded_joke)\n"
   ]
  },
  {
   "cell_type": "code",
   "execution_count": 12,
   "id": "6fae9c9f",
   "metadata": {},
   "outputs": [],
   "source": [
    "batch_size = 32\n",
    "seq_length = 512\n",
    "n_hidden = 64\n",
    "n_layers = 4\n",
    "drop_prob = 0.1\n",
    "lr = 0.1"
   ]
  },
  {
   "cell_type": "code",
   "execution_count": 13,
   "id": "989a3ae2",
   "metadata": {},
   "outputs": [],
   "source": [
    "tokenizer = Tokenizer(text)\n",
    "dataset = JokesDataset(tokenizer, cut_text, 512)\n",
    "dataloader = DataLoader(dataset, batch_size=batch_size, shuffle=True)"
   ]
  },
  {
   "cell_type": "markdown",
   "id": "2c72173d-d38b-4d4c-a98e-878267c0fd87",
   "metadata": {},
   "source": [
    "Вопрос: А как бы мы должны были разделять данные на последовательности и батчи в случае, если бы использовался сплошной текст?"
   ]
  },
  {
   "cell_type": "markdown",
   "id": "a9bf1f16-53d0-45a6-abd5-1a4c5b17285f",
   "metadata": {},
   "source": [
    "Теперь реализуем нашу модель. \n",
    "Необходимо следующее:\n",
    " - Используя токенайзер, задать размер словаря\n",
    " - Задать слой RNN с помощью torch.RNN. Доп.задание: создайте модель, используя слой LSTM.\n",
    " - Задать полносвязный слой с набором параметров: размерность ввода — n_hidden; размерность выхода — размер словаря. Этот слой преобразует состояние модели в логиты токенов.\n",
    " - Определить шаг forward, который будет использоваться при обучении\n",
    " - Определить метод init_hidden, который будет задавать начальное внутреннее состояние. Инициализировать будем нулями.\n",
    " - Определить метод inference, в котором будет происходить генерация последовательности из префикса. Здесь мы уже не используем явные логиты, а семплируем токены на их основе.\n"
   ]
  },
  {
   "cell_type": "code",
   "execution_count": 14,
   "id": "896c0f98",
   "metadata": {},
   "outputs": [],
   "source": [
    "class CharRNN(nn.Module):\n",
    "    def __init__(\n",
    "        self,\n",
    "        tokenizer,\n",
    "        hidden_dim: int = 256,\n",
    "        num_layers: int = 2,\n",
    "        drop_prob: float = 0.5,\n",
    "        max_len: int = 512,\n",
    "    ) -> None:\n",
    "        super().__init__()\n",
    "        self.n_hidden = hidden_dim\n",
    "        self.n_layers = num_layers\n",
    "        self.max_len = max_len\n",
    "        self.tokenizer = tokenizer\n",
    "        \n",
    "        vocab_size = self.tokenizer.vocab_size\n",
    "        self.rnn = nn.RNN(input_size=vocab_size, hidden_size=self.n_hidden, num_layers=self.n_layers, dropout=drop_prob, batch_first=True)\n",
    "        self.fc = nn.Linear(self.n_hidden, vocab_size)\n",
    "\n",
    "    def forward(self, x: torch.Tensor, lengths: torch.Tensor) -> torch.Tensor:\n",
    "        batch_size, seq_len = x.shape\n",
    "        # h0 = torch.zeros(self.n_layers, batch_size, self.n_hidden).to(device) there is no need to init hidden tensor, Pety said...\n",
    "\n",
    "        one_hot = one_hot_encode(x, self.tokenizer.vocab_size)\n",
    "\n",
    "        packed_embeds = pack_padded_sequence(one_hot, lengths, batch_first=True, enforce_sorted=False).to(device)\n",
    "        packed_output, hidden = self.rnn(packed_embeds)\n",
    "        out, lengths = pad_packed_sequence(packed_output, batch_first=True, total_length=seq_len, \n",
    "                                           padding_value=self.tokenizer.encode_symbol('<pad>'))\n",
    "        logits = self.fc(out)\n",
    "\n",
    "        return logits, hidden\n",
    "\n",
    "    def inference(self, prefix=\"\"):\n",
    "        print(self.tokenizer.encode(prefix))\n",
    "        tokens = torch.tensor(self.tokenizer.encode(prefix))[: -1].unsqueeze(0).to(device)\n",
    "        inputs = one_hot_encode(tokens, self.tokenizer.vocab_size).to(device)\n",
    "        h0 = torch.zeros(self.n_layers, 1, self.n_hidden).to(device)\n",
    "        outputs, hidden = self.rnn(inputs, h0)\n",
    "        print(outputs.shape)\n",
    "        logits = self.fc(outputs)\n",
    "        print(logits.shape)\n",
    "        print(logits[:, -1, :].shape)\n",
    "        probs = torch.softmax(logits[:, -1, :], dim=-1)\n",
    "        new_token = torch.multinomial(probs, num_samples=1)\n",
    "        tokens = torch.cat([tokens, new_token], dim=1)\n",
    "        k = 0\n",
    "        while tokens.size(1) < self.max_len and new_token.item() != self.tokenizer.encode_symbol('<eos>'):\n",
    "            k += 1\n",
    "            inputs = one_hot_encode(new_token, self.tokenizer.vocab_size).to(device)\n",
    "            outputs, hidden = self.rnn(inputs, hidden)\n",
    "            logits = self.fc(outputs)\n",
    "            probs = torch.softmax(logits[:, -1, :], dim=-1)\n",
    "            new_token = torch.multinomial(probs, num_samples=1)\n",
    "            tokens = torch.cat([tokens, new_token], dim=1)\n",
    "        print(k)\n",
    "\n",
    "        return self.tokenizer.decode(tokens.squeeze().tolist())\n"
   ]
  },
  {
   "cell_type": "markdown",
   "id": "1202bfda-3653-4644-8fcc-eda9e92e434f",
   "metadata": {},
   "source": [
    "Зададим параметры для обучения. Можете варьировать их, чтобы вам хватило ресурсов."
   ]
  },
  {
   "cell_type": "markdown",
   "id": "8329823d-abd8-4044-8206-470f07b6da62",
   "metadata": {},
   "source": [
    "Напишите функцию для одного тренировочного шага. В этом ноутбуке сам процесс обучения модели достаточно тривиален, поэтому мы не будем использовать сложные функции для обучающего цикла. Вы же, однако, можете дописать их."
   ]
  },
  {
   "cell_type": "code",
   "execution_count": 15,
   "id": "fb839274",
   "metadata": {},
   "outputs": [],
   "source": [
    "def training_step(\n",
    "    model: CharRNN,\n",
    "    train_batch: Tuple[torch.Tensor, torch.Tensor],\n",
    "    vocab_size: int,\n",
    "    criterion: nn.Module,\n",
    "    optimizer,\n",
    "    device=\"cpu\"\n",
    ") -> torch.Tensor:\n",
    "    optimizer.zero_grad()\n",
    "\n",
    "    input_data, target_lengths = train_batch\n",
    "\n",
    "    input_data = input_data.to(device)\n",
    "\n",
    "    logits, _ = model(input_data, target_lengths)\n",
    "\n",
    "    logits = logits.view(-1, vocab_size)\n",
    "\n",
    "    target_data = input_data.roll(shifts=-1, dims=1)\n",
    "\n",
    "\n",
    "    help_tensor = torch.zeros([target_data.shape[0], 1], dtype=torch.int64)\n",
    "    for i in range(target_data.shape[0]):\n",
    "            help_tensor[i][0] = tokenizer.encode_symbol(\"<pad>\")\n",
    "\n",
    "    target_data = torch.cat([target_data[:, : -1], help_tensor.to(device)], dim=1).view(-1)\n",
    "\n",
    "    # mask = target_data != tokenizer.encode_symbol(\"<pad>\")\n",
    "    # logits = logits[mask]\n",
    "    # target_data = target_data[mask]\n",
    "\n",
    "    loss = criterion(logits, target_data)\n",
    "\n",
    "    loss.backward()\n",
    "    optimizer.step()\n",
    "\n",
    "    return loss"
   ]
  },
  {
   "cell_type": "markdown",
   "id": "d1055e6e-6374-4af3-b1ab-8ad8b4125664",
   "metadata": {},
   "source": [
    "Инициализируйте модель, функцию потерь и оптимизатор."
   ]
  },
  {
   "cell_type": "code",
   "execution_count": 16,
   "id": "f85fc024-7cec-4833-ac15-cafe05724003",
   "metadata": {},
   "outputs": [],
   "source": [
    "device = torch.device(\"cuda\" if torch.cuda.is_available() else \"cpu\")\n",
    "\n",
    "model = CharRNN(tokenizer, n_hidden, n_layers, drop_prob).to(device)\n",
    "\n",
    "criterion = nn.CrossEntropyLoss(ignore_index=tokenizer.encode_symbol(\"<pad>\"))\n",
    "optimizer = torch.optim.Adam(model.parameters(), lr=1e-2)"
   ]
  },
  {
   "cell_type": "markdown",
   "id": "a140de0c-e648-4d9f-babf-659486dbae92",
   "metadata": {},
   "source": [
    "Проверьте необученную модель: она должна выдавать бессмысленные последовательности"
   ]
  },
  {
   "cell_type": "code",
   "execution_count": 17,
   "id": "80d26fdb-5292-41c4-83df-e8feb3a22561",
   "metadata": {},
   "outputs": [
    {
     "name": "stdout",
     "output_type": "stream",
     "text": [
      "[215, 83, 43, 172, 54, 52, 83, 154, 43, 172, 52, 10, 216]\n",
      "torch.Size([1, 12, 64])\n",
      "torch.Size([1, 12, 217])\n",
      "torch.Size([1, 217])\n",
      "21\n",
      "Output: dfl;gdkflgjщ=任6T|Gу»T8GС并代H7́fjъ\n"
     ]
    }
   ],
   "source": [
    "model.eval()  \n",
    "\n",
    "prefix = \"dfl;gdkflgj\"\n",
    "# prefix = \"<bos>\"\n",
    "# prefix = \"<eos>\" \n",
    "generated_text = model.inference(prefix)\n",
    "print(\"Output:\", generated_text)"
   ]
  },
  {
   "cell_type": "code",
   "execution_count": 18,
   "id": "37263cdf-5a6c-4612-8cf9-57105c169943",
   "metadata": {},
   "outputs": [],
   "source": [
    "def plot_losses(losses):\n",
    "    clear_output()\n",
    "    \n",
    "    losses_cpu = [loss.cpu().item() for loss in losses] \n",
    "    \n",
    "    plt.plot(range(1, len(losses_cpu) + 1), losses_cpu)\n",
    "    plt.xlabel('epoch')\n",
    "    plt.ylabel('loss')\n",
    "    plt.show()\n"
   ]
  },
  {
   "cell_type": "markdown",
   "id": "44f70324-c88a-4d98-bae6-e6c5356f2025",
   "metadata": {},
   "source": [
    "Проведите обучение на протяжении нескольких эпох и выведите график лоссов."
   ]
  },
  {
   "cell_type": "code",
   "execution_count": 19,
   "id": "57059744-44ac-4aad-86f6-f67dc2ea7600",
   "metadata": {},
   "outputs": [
    {
     "data": {
      "image/png": "[encoded data removed]",
      "text/plain": [
       "<Figure size 640x480 with 1 Axes>"
      ]
     },
     "metadata": {},
     "output_type": "display_data"
    }
   ],
   "source": [
    "losses = []\n",
    "num_epochs = 10\n",
    "\n",
    "for epoch in range(1, num_epochs + 1):\n",
    "    model.train()  \n",
    "    epoch_loss = 0\n",
    "        \n",
    "    for train_batch in tqdm(dataloader):\n",
    "        loss = training_step(model, train_batch, tokenizer.vocab_size, criterion, optimizer, device)\n",
    "        epoch_loss += loss\n",
    "        \n",
    "    avg_epoch_loss = epoch_loss / len(dataloader)\n",
    "    losses.append(avg_epoch_loss)  \n",
    "    print(avg_epoch_loss)\n",
    "    \n",
    "    plot_losses(losses)"
   ]
  },
  {
   "cell_type": "code",
   "execution_count": 20,
   "id": "72d8694a-132f-4a44-a5d3-a0f39219e55f",
   "metadata": {},
   "outputs": [
    {
     "name": "stdout",
     "output_type": "stream",
     "text": [
      "[215, 216]\n",
      "torch.Size([1, 1, 64])\n",
      "torch.Size([1, 1, 217])\n",
      "torch.Size([1, 217])\n",
      "75\n",
      "[215, 216]\n",
      "torch.Size([1, 1, 64])\n",
      "torch.Size([1, 1, 217])\n",
      "torch.Size([1, 217])\n",
      "43\n",
      "[215, 216]\n",
      "torch.Size([1, 1, 64])\n",
      "torch.Size([1, 1, 217])\n",
      "torch.Size([1, 217])\n",
      "268\n",
      "[215, 216]\n",
      "torch.Size([1, 1, 64])\n",
      "torch.Size([1, 1, 217])\n",
      "torch.Size([1, 217])\n",
      "25\n",
      "[215, 216]\n",
      "torch.Size([1, 1, 64])\n",
      "torch.Size([1, 1, 217])\n",
      "torch.Size([1, 217])\n",
      "21\n",
      "[215, 216]\n",
      "torch.Size([1, 1, 64])\n",
      "torch.Size([1, 1, 217])\n",
      "torch.Size([1, 217])\n",
      "89\n",
      "[215, 216]\n",
      "torch.Size([1, 1, 64])\n",
      "torch.Size([1, 1, 217])\n",
      "torch.Size([1, 217])\n",
      "188\n",
      "[215, 216]\n",
      "torch.Size([1, 1, 64])\n",
      "torch.Size([1, 1, 217])\n",
      "torch.Size([1, 217])\n",
      "500\n",
      "[215, 216]\n",
      "torch.Size([1, 1, 64])\n",
      "torch.Size([1, 1, 217])\n",
      "torch.Size([1, 217])\n",
      "392\n",
      "[215, 216]\n",
      "torch.Size([1, 1, 64])\n",
      "torch.Size([1, 1, 217])\n",
      "torch.Size([1, 217])\n",
      "19\n"
     ]
    },
    {
     "data": {
      "text/plain": [
       "['Жучери! О прош. Ненимь с комол, стярон зехри раби порослостоя ожнажо? зика?',\n",
       " 'Неч митакно насвот нейспее ваква?- Поснева.',\n",
       " 'Етнош?- Зуст, махротния, ожддом кту вебають не на нобеещь ребожацеленьяекояти? - торьлиг вакго ос кирдалры ччемарий дистиба мноширшо итнае о Роныв ип дочро насситноки вона:- Зук у онечтоти ик, до пойссей Кодита? Радо вигикилки, прекнечь, члвора,, мо нозотат редоль, о!',\n",
       " 'Нал, пу. Качломибку меко!',\n",
       " 'Чвусчи! сИйме. Лоссо?',\n",
       " '- Ан дочшаки, болкиныйви,, мосяиту чпан,.- У с но тке ритнатпа воло\"- Эпе вракиртир, чол.',\n",
       " '- Дохденчан о чада папокь!- А резна подлыкытье, чтодигьйт яхкежи,, \"Ачот:- Зожий отиверно:- Нашнинодке пикамитье и дозьполавойчотирочавебтеро ны мылыю, чткмор набруш, позе споневде зедель!',\n",
       " 'Ост па оббыни исто ватмиени, здай?- А дкозощ о ме экар зо, чвав банщи, сти вао чсид убкусной а водония сокавелье.- Охое висплаш сыдемим итцидья поче.- А серноне наебойсте,!\" Но дизорь у бем,.В Я ра-код,земь и сево пу,т от кы мочо санол, о серватсьсторнок жугро -ает вжо Вы тесъес -ерниводай корберь-о до!- Сочрад ризе-та кежтите овизартаю кодтарищ громьйною да уду - Вти памдая агаюм!- Я талимся ссал,дессицих вси нувси жаве,щ, чоль-туни, кро. Чы налли, кто внин эко вражчиз, гыжьмь.  Хескада розкиб?',\n",
       " '- Вскатикир?- А прражи, допехин мнекеюнсяюй что, что отратя, зупе,, на ез горщенсы тала даще коды -рунлемстье, тдеркусигидили падекуро и мерившу, и че риг дром едегить ц но апко, он сесвимно,т ссаро касвос жесте, в гольн спомы то, вкожен игного дочта - Убеспвизаагые ста ечкгавьритеми незтее.\" Агды я в оса.- На тоюто леносстастовая,! \"Чтоетони нечти \"Мну ох такита пл ниде пукцавар,  хы шеп?',\n",
       " 'О вимизнонининноры!']"
      ]
     },
     "execution_count": 20,
     "metadata": {},
     "output_type": "execute_result"
    }
   ],
   "source": [
    "[model.inference(\"\") for _ in range(10)]"
   ]
  },
  {
   "cell_type": "markdown",
   "id": "ef889dd2-fde2-429c-9c61-f5a93517bd3f",
   "metadata": {},
   "source": [
    "Теперь попробуем написать свой собственный RNN. Это будет довольно простая модель с одним слоем.\n"
   ]
  },
  {
   "cell_type": "code",
   "execution_count": 21,
   "id": "a1fe4954-e2b5-43c5-9bb6-0b2a5cc2cc19",
   "metadata": {},
   "outputs": [],
   "source": [
    "# YOUR CODE: custom model nn.Module, changed CharRNN, etc"
   ]
  }
 ],
 "metadata": {
  "kernelspec": {
   "display_name": "ml_hw",
   "language": "python",
   "name": "python3"
  },
  "language_info": {
   "codemirror_mode": {
    "name": "ipython",
    "version": 3
   },
   "file_extension": ".py",
   "mimetype": "text/x-python",
   "name": "python",
   "nbconvert_exporter": "python",
   "pygments_lexer": "ipython3",
   "version": "3.10.12"
  }
 },
 "nbformat": 4,
 "nbformat_minor": 5
}
