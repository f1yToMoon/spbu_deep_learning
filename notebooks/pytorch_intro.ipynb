{
 "cells": [
  {
   "cell_type": "markdown",
   "id": "eb07947b",
   "metadata": {},
   "source": [
    "# Введение в Pytorch\n"
   ]
  },
  {
   "cell_type": "markdown",
   "id": "f7ae15d0",
   "metadata": {},
   "source": [
    "В этом курсе мы по большей части будем пользоваться pytorch.\n",
    "Этот фреймворк во многом похож на numpy, главное его отлисие в том, что он может считать градиенты с помощью своего autograd модуля. Еще одно отличие - он поддерживает gpu.\n",
    "\n",
    "План ноутбука:\n",
    "1) основные операции\n",
    "2) тензоры\n",
    "3) градиенты\n",
    "2) пайплайн обучения"
   ]
  },
  {
   "cell_type": "markdown",
   "metadata": {
    "collapsed": false
   },
   "source": [
    "# Основные операции"
   ]
  },
  {
   "cell_type": "code",
   "execution_count": 62,
   "metadata": {
    "collapsed": false
   },
   "outputs": [],
   "source": [
    "import numpy as np\n",
    "import torch\n",
    "from matplotlib import pyplot as plt"
   ]
  },
  {
   "cell_type": "code",
   "execution_count": 63,
   "metadata": {
    "collapsed": false
   },
   "outputs": [
    {
     "data": {
      "text/plain": [
       "array([[0.74858235, 0.66565431, 0.68293692],\n",
       "       [0.04273969, 0.52707481, 0.19113929],\n",
       "       [0.84838288, 0.70927654, 0.18558167],\n",
       "       [0.53675046, 0.60009286, 0.90311805],\n",
       "       [0.46638661, 0.97319735, 0.14554105]])"
      ]
     },
     "execution_count": 63,
     "metadata": {},
     "output_type": "execute_result"
    }
   ],
   "source": [
    "a = np.random.rand(5, 3)\n",
    "a"
   ]
  },
  {
   "cell_type": "code",
   "execution_count": 64,
   "metadata": {
    "collapsed": false
   },
   "outputs": [
    {
     "data": {
      "text/plain": [
       "array([[748.58235444, 665.65430538, 682.93691645],\n",
       "       [ 42.7396943 , 527.07481162, 191.13928689],\n",
       "       [848.38287986, 709.27654153, 185.58166686],\n",
       "       [536.75045559, 600.09286095, 903.11804847],\n",
       "       [466.38661407, 973.19734607, 145.54105057]])"
      ]
     },
     "execution_count": 64,
     "metadata": {},
     "output_type": "execute_result"
    }
   ],
   "source": [
    "a * 1000"
   ]
  },
  {
   "cell_type": "code",
   "execution_count": 65,
   "metadata": {
    "collapsed": false
   },
   "outputs": [
    {
     "data": {
      "text/plain": [
       "array([[2.65435235e-013, 2.11287854e-018, 2.74194622e-017],\n",
       "       [1.21099166e-137, 1.53895606e-028, 1.36457100e-072],\n",
       "       [7.23085410e-008, 1.20658975e-015, 7.13685897e-074],\n",
       "       [9.48947472e-028, 6.63507778e-023, 3.75363602e-005],\n",
       "       [7.49217147e-034, 6.60832803e-002, 1.98861427e-084]])"
      ]
     },
     "execution_count": 65,
     "metadata": {},
     "output_type": "execute_result"
    }
   ],
   "source": [
    "a ** 100"
   ]
  },
  {
   "cell_type": "code",
   "execution_count": 66,
   "metadata": {
    "collapsed": false
   },
   "outputs": [
    {
     "data": {
      "text/plain": [
       "(5, 3)"
      ]
     },
     "execution_count": 66,
     "metadata": {},
     "output_type": "execute_result"
    }
   ],
   "source": [
    "a.shape"
   ]
  },
  {
   "cell_type": "code",
   "execution_count": 67,
   "metadata": {
    "collapsed": false
   },
   "outputs": [
    {
     "data": {
      "text/plain": [
       "array([0.74858235, 0.66565431, 0.68293692, 0.04273969, 0.52707481,\n",
       "       0.19113929, 0.84838288, 0.70927654, 0.18558167, 0.53675046,\n",
       "       0.60009286, 0.90311805, 0.46638661, 0.97319735, 0.14554105])"
      ]
     },
     "execution_count": 67,
     "metadata": {},
     "output_type": "execute_result"
    }
   ],
   "source": [
    "a.flatten()"
   ]
  },
  {
   "cell_type": "code",
   "execution_count": 68,
   "metadata": {
    "collapsed": false
   },
   "outputs": [
    {
     "data": {
      "text/plain": [
       "array([[0.74858235],\n",
       "       [0.66565431],\n",
       "       [0.68293692],\n",
       "       [0.04273969],\n",
       "       [0.52707481],\n",
       "       [0.19113929],\n",
       "       [0.84838288],\n",
       "       [0.70927654],\n",
       "       [0.18558167],\n",
       "       [0.53675046],\n",
       "       [0.60009286],\n",
       "       [0.90311805],\n",
       "       [0.46638661],\n",
       "       [0.97319735],\n",
       "       [0.14554105]])"
      ]
     },
     "execution_count": 68,
     "metadata": {},
     "output_type": "execute_result"
    }
   ],
   "source": [
    "a.reshape(-1, 1)"
   ]
  },
  {
   "cell_type": "code",
   "execution_count": 69,
   "metadata": {
    "collapsed": false
   },
   "outputs": [],
   "source": [
    "b = np.random.rand(7, 5)"
   ]
  },
  {
   "cell_type": "code",
   "execution_count": 70,
   "metadata": {
    "collapsed": false
   },
   "outputs": [
    {
     "data": {
      "text/plain": [
       "array([[2.03156845, 1.18628323, 1.1621193 , 1.90277214, 0.80722613,\n",
       "        1.77794707, 1.58607609],\n",
       "       [2.4994003 , 1.70532376, 1.52771821, 2.24987901, 1.18271112,\n",
       "        2.42039244, 1.92208391],\n",
       "       [1.70888964, 0.77448085, 0.87988453, 1.080472  , 0.51742392,\n",
       "        1.41771166, 0.7468179 ]])"
      ]
     },
     "execution_count": 70,
     "metadata": {},
     "output_type": "execute_result"
    }
   ],
   "source": [
    "a.T @ b.T"
   ]
  },
  {
   "cell_type": "markdown",
   "metadata": {
    "collapsed": false
   },
   "source": [
    "Задача 1: напишите функцию, которая принимает на вход вектор размера n и возвращает значения функции $2log(x^2) - 1.5 sqrt(x) + x^{1/2}$"
   ]
  },
  {
   "cell_type": "code",
   "execution_count": 71,
   "metadata": {
    "collapsed": false
   },
   "outputs": [
    {
     "data": {
      "text/plain": [
       "array([[-5.49365941],\n",
       "       [-2.24850811]])"
      ]
     },
     "execution_count": 71,
     "metadata": {},
     "output_type": "execute_result"
    }
   ],
   "source": [
    "x = np.random.rand(2, 1)\n",
    "2*np.log(x**2) - 1.5*np.sqrt(x) + x**(1/2)"
   ]
  },
  {
   "cell_type": "markdown",
   "metadata": {
    "collapsed": false
   },
   "source": [
    "Задача 2: Посчитайте сумму значений функции из 1 задачи для натуральных чисел с 1 до 300"
   ]
  },
  {
   "cell_type": "code",
   "execution_count": 72,
   "metadata": {
    "collapsed": false
   },
   "outputs": [
    {
     "data": {
      "text/plain": [
       "np.float64(3923.345205492068)"
      ]
     },
     "execution_count": 72,
     "metadata": {},
     "output_type": "execute_result"
    }
   ],
   "source": [
    "x = np.arange(1, 301)\n",
    "np.sum(2*np.log(x**2) - 1.5*np.sqrt(x) + x**(1/2))"
   ]
  },
  {
   "cell_type": "markdown",
   "metadata": {
    "collapsed": false
   },
   "source": [
    "Cинтаксис в torch очень похож на numpy, однако с некоторыми отличиями"
   ]
  },
  {
   "cell_type": "code",
   "execution_count": 73,
   "metadata": {
    "collapsed": false
   },
   "outputs": [],
   "source": [
    "a = torch.rand(5,3)"
   ]
  },
  {
   "cell_type": "code",
   "execution_count": 74,
   "metadata": {
    "collapsed": false
   },
   "outputs": [
    {
     "data": {
      "text/plain": [
       "tensor([[8.9941e-01, 6.3379e-01, 2.3182e-03],\n",
       "        [6.4986e-02, 6.1183e-01, 2.1044e-04],\n",
       "        [3.1684e-01, 3.3821e-04, 1.1825e-03],\n",
       "        [4.0635e-01, 3.5065e-01, 5.2397e-01],\n",
       "        [6.0173e-01, 2.6861e-01, 8.0290e-02]])"
      ]
     },
     "execution_count": 74,
     "metadata": {},
     "output_type": "execute_result"
    }
   ],
   "source": [
    "a**2"
   ]
  },
  {
   "cell_type": "code",
   "execution_count": 75,
   "metadata": {
    "collapsed": false
   },
   "outputs": [
    {
     "data": {
      "text/plain": [
       "torch.Size([5, 3])"
      ]
     },
     "execution_count": 75,
     "metadata": {},
     "output_type": "execute_result"
    }
   ],
   "source": [
    "a.size()"
   ]
  },
  {
   "cell_type": "code",
   "execution_count": 76,
   "metadata": {
    "collapsed": false
   },
   "outputs": [
    {
     "data": {
      "text/plain": [
       "tensor([0.9484, 0.7961, 0.0481, 0.2549, 0.7822, 0.0145, 0.5629, 0.0184, 0.0344,\n",
       "        0.6375, 0.5922, 0.7239, 0.7757, 0.5183, 0.2834])"
      ]
     },
     "execution_count": 76,
     "metadata": {},
     "output_type": "execute_result"
    }
   ],
   "source": [
    "a.flatten()"
   ]
  },
  {
   "cell_type": "code",
   "execution_count": 77,
   "metadata": {
    "collapsed": false
   },
   "outputs": [
    {
     "data": {
      "text/plain": [
       "tensor([[0.9484],\n",
       "        [0.7961],\n",
       "        [0.0481],\n",
       "        [0.2549],\n",
       "        [0.7822],\n",
       "        [0.0145],\n",
       "        [0.5629],\n",
       "        [0.0184],\n",
       "        [0.0344],\n",
       "        [0.6375],\n",
       "        [0.5922],\n",
       "        [0.7239],\n",
       "        [0.7757],\n",
       "        [0.5183],\n",
       "        [0.2834]])"
      ]
     },
     "execution_count": 77,
     "metadata": {},
     "output_type": "execute_result"
    }
   ],
   "source": [
    "a.view(-1,1)"
   ]
  },
  {
   "cell_type": "code",
   "execution_count": 78,
   "metadata": {
    "collapsed": false
   },
   "outputs": [
    {
     "name": "stderr",
     "output_type": "stream",
     "text": [
      "/home/an/ml_hw/lib/python3.10/site-packages/torch/_tensor.py:889: UserWarning: non-inplace resize is deprecated\n",
      "  warnings.warn(\"non-inplace resize is deprecated\")\n"
     ]
    },
    {
     "data": {
      "text/plain": [
       "tensor([[0.9484, 0.7961, 0.0481],\n",
       "        [0.2549, 0.7822, 0.0145],\n",
       "        [0.5629, 0.0184, 0.0344],\n",
       "        [0.6375, 0.5922, 0.7239],\n",
       "        [0.7757, 0.5183, 0.2834]])"
      ]
     },
     "execution_count": 78,
     "metadata": {},
     "output_type": "execute_result"
    }
   ],
   "source": [
    "a.resize(5, 3)"
   ]
  },
  {
   "cell_type": "code",
   "execution_count": 79,
   "metadata": {
    "collapsed": false
   },
   "outputs": [],
   "source": [
    "b = torch.rand(7,5)"
   ]
  },
  {
   "cell_type": "code",
   "execution_count": 80,
   "metadata": {
    "collapsed": false
   },
   "outputs": [
    {
     "data": {
      "text/plain": [
       "tensor([[1.3356, 0.9637, 0.3378],\n",
       "        [0.4553, 0.5729, 0.2393],\n",
       "        [0.9255, 0.5664, 0.3355],\n",
       "        [1.4346, 1.5011, 0.6770],\n",
       "        [0.4589, 0.6211, 0.2842],\n",
       "        [2.1936, 1.8295, 0.4432],\n",
       "        [1.9516, 1.4995, 0.5643]])"
      ]
     },
     "execution_count": 80,
     "metadata": {},
     "output_type": "execute_result"
    }
   ],
   "source": [
    "a.T @ b.T\n",
    "b @ a"
   ]
  },
  {
   "cell_type": "code",
   "execution_count": 81,
   "metadata": {
    "collapsed": false
   },
   "outputs": [
    {
     "data": {
      "text/plain": [
       "tensor([[1.3356, 0.9637, 0.3378],\n",
       "        [0.4553, 0.5729, 0.2393],\n",
       "        [0.9255, 0.5664, 0.3355],\n",
       "        [1.4346, 1.5011, 0.6770],\n",
       "        [0.4589, 0.6211, 0.2842],\n",
       "        [2.1936, 1.8295, 0.4432],\n",
       "        [1.9516, 1.4995, 0.5643]])"
      ]
     },
     "execution_count": 81,
     "metadata": {},
     "output_type": "execute_result"
    }
   ],
   "source": [
    "torch.matmul(b, a)"
   ]
  },
  {
   "cell_type": "code",
   "execution_count": 82,
   "metadata": {
    "collapsed": false
   },
   "outputs": [],
   "source": [
    "b = torch.rand(3,1,4,1,5)"
   ]
  },
  {
   "cell_type": "code",
   "execution_count": 83,
   "metadata": {
    "collapsed": false
   },
   "outputs": [
    {
     "data": {
      "text/plain": [
       "torch.Size([3, 4, 5])"
      ]
     },
     "execution_count": 83,
     "metadata": {},
     "output_type": "execute_result"
    }
   ],
   "source": [
    "b.squeeze().shape"
   ]
  },
  {
   "cell_type": "code",
   "execution_count": 84,
   "metadata": {
    "collapsed": false
   },
   "outputs": [
    {
     "data": {
      "text/plain": [
       "torch.Size([3, 4, 1, 5])"
      ]
     },
     "execution_count": 84,
     "metadata": {},
     "output_type": "execute_result"
    }
   ],
   "source": [
    "b.squeeze(1).shape"
   ]
  },
  {
   "cell_type": "markdown",
   "metadata": {
    "collapsed": false
   },
   "source": [
    "Задача 3. напишите функцию на torch, которая принимает на вход вектор размера n и возвращает значения функции $2log(x^2) - 1.5 sqrt(x) + x^{1/2}$"
   ]
  },
  {
   "cell_type": "code",
   "execution_count": 85,
   "metadata": {
    "collapsed": false
   },
   "outputs": [
    {
     "data": {
      "text/plain": [
       "tensor([[-6.2499],\n",
       "        [-5.1578]])"
      ]
     },
     "execution_count": 85,
     "metadata": {},
     "output_type": "execute_result"
    }
   ],
   "source": [
    "x = torch.rand(2, 1)\n",
    "2*torch.log(x**2) - 1.5*torch.sqrt(x) + x**(1/2)"
   ]
  },
  {
   "cell_type": "markdown",
   "metadata": {
    "collapsed": false
   },
   "source": [
    "Задача 4: Посчитайте сумму значений функции из 3 задачи для натуральных чисел с 1 до 300"
   ]
  },
  {
   "cell_type": "code",
   "execution_count": 86,
   "metadata": {
    "collapsed": false
   },
   "outputs": [
    {
     "data": {
      "text/plain": [
       "tensor(3923.3452)"
      ]
     },
     "execution_count": 86,
     "metadata": {},
     "output_type": "execute_result"
    }
   ],
   "source": [
    "x = torch.arange(1, 301)\n",
    "torch.sum(2*torch.log(x**2) - 1.5*torch.sqrt(x) + x**(1/2))"
   ]
  },
  {
   "cell_type": "markdown",
   "metadata": {
    "collapsed": false
   },
   "source": [
    " Другие варианты создать тензор"
   ]
  },
  {
   "cell_type": "code",
   "execution_count": 87,
   "metadata": {
    "collapsed": false
   },
   "outputs": [],
   "source": [
    "a = torch.empty(5,2)\n",
    "b = torch.zeros(6,1, dtype=torch.bool)\n",
    "c = torch.ones_like(b)\n",
    "d = torch.zeros_like(c)"
   ]
  },
  {
   "cell_type": "markdown",
   "metadata": {
    "collapsed": false
   },
   "source": [
    "Тензор можно создать и из другого объекта. Как думаете, какой тип будет у результирующего тензора?"
   ]
  },
  {
   "cell_type": "code",
   "execution_count": 88,
   "metadata": {
    "collapsed": false
   },
   "outputs": [],
   "source": [
    "d = torch.tensor([5,3.4])"
   ]
  },
  {
   "cell_type": "code",
   "execution_count": 89,
   "metadata": {
    "collapsed": false
   },
   "outputs": [
    {
     "data": {
      "text/plain": [
       "torch.float32"
      ]
     },
     "execution_count": 89,
     "metadata": {},
     "output_type": "execute_result"
    }
   ],
   "source": [
    "d.dtype"
   ]
  },
  {
   "cell_type": "markdown",
   "metadata": {
    "collapsed": false
   },
   "source": [
    "Torch легко переводится в numpy и наоборот. Из-за разницы типов результат не будет идентичным, но он будет достаточно близким к исходному."
   ]
  },
  {
   "cell_type": "code",
   "execution_count": 90,
   "metadata": {
    "collapsed": false
   },
   "outputs": [
    {
     "data": {
      "text/plain": [
       "True"
      ]
     },
     "execution_count": 90,
     "metadata": {},
     "output_type": "execute_result"
    }
   ],
   "source": [
    "a = np.ones((3, 5))\n",
    "x = torch.ones((3, 5))\n",
    "np.allclose(x.numpy(), a)"
   ]
  },
  {
   "cell_type": "markdown",
   "metadata": {
    "collapsed": false
   },
   "source": [
    "# Градиенты\n",
    "Рассмотрим достаточно простой датасет"
   ]
  },
  {
   "cell_type": "code",
   "execution_count": 91,
   "metadata": {
    "collapsed": false
   },
   "outputs": [],
   "source": [
    "x1 = torch.arange(-15, 15, 0.1)\n",
    "x2 = torch.arange(-15, 15, 0.1) / 5\n",
    "x = torch.stack([x1, x2], dim=1)\n",
    "y = x[:,0] * 2. + 0.2 * x[:, 1]**2 - 3 + torch.normal(0., 0.2, (1, 300))"
   ]
  },
  {
   "cell_type": "code",
   "execution_count": 92,
   "metadata": {
    "collapsed": false
   },
   "outputs": [
    {
     "data": {
      "text/plain": [
       "<matplotlib.collections.PathCollection at 0x7274389d3a60>"
      ]
     },
     "execution_count": 92,
     "metadata": {},
     "output_type": "execute_result"
    },
    {
     "data": {
      "image/png": "[encoded data removed]",
      "text/plain": [
       "<Figure size 640x480 with 1 Axes>"
      ]
     },
     "metadata": {},
     "output_type": "display_data"
    }
   ],
   "source": [
    "plt.scatter(x[:, 0], y)"
   ]
  },
  {
   "cell_type": "markdown",
   "metadata": {
    "collapsed": false
   },
   "source": [
    "Доп.задание. Изобразите поверхность на 3d-графике"
   ]
  },
  {
   "cell_type": "code",
   "execution_count": 93,
   "id": "228d0953",
   "metadata": {},
   "outputs": [
    {
     "data": {
      "image/png": "[encoded data removed]",
      "text/plain": [
       "<Figure size 800x1000 with 1 Axes>"
      ]
     },
     "metadata": {},
     "output_type": "display_data"
    }
   ],
   "source": [
    "fig = plt.figure(figsize=(8, 10))\n",
    "ax = fig.add_subplot(111, projection='3d')\n",
    "scatter = ax.scatter(x[:, 0], x[:, 1], y, c=y)"
   ]
  },
  {
   "cell_type": "markdown",
   "metadata": {
    "collapsed": false
   },
   "source": [
    "В PyTorch при создании тензора можно указать, нужно ли считать по нему градиент или нет, с помощью параметра requires_grad.\n",
    "Если requires_grad=False, то это просто массив с числами, посчитать dx/dy не выйдет.\n",
    "Если же requires_grad=True, то фреймворк будит учитывать этот тензор при построении графа вычислений производной.\n",
    "Например, станет возможно посчитать d(sin(log(x**2) - 3x))/dx.\n",
    "\n",
    "Как происходит отслеживание градиента? Ответ достаточно простой: у каждого тензора на ссамом деле есть параметр .grad, который и хранит градиенты. У тех тензоров, к которым градиент неприменим, grad=None.\n",
    "\n",
    "Что еще интереснее - у тех тензоров, через которые проходят вычисления, появляется параметр grad_fn. Например, у резултата a + b grad_fn будет AddBackward."
   ]
  },
  {
   "cell_type": "code",
   "execution_count": 94,
   "metadata": {
    "collapsed": false
   },
   "outputs": [],
   "source": [
    "a = torch.rand(5, 2, requires_grad=True)\n",
    "b = torch.rand(2, 1, requires_grad=True)"
   ]
  },
  {
   "cell_type": "code",
   "execution_count": 95,
   "metadata": {
    "collapsed": false
   },
   "outputs": [
    {
     "data": {
      "text/plain": [
       "tensor(12.4693, grad_fn=<SumBackward0>)"
      ]
     },
     "execution_count": 95,
     "metadata": {},
     "output_type": "execute_result"
    }
   ],
   "source": [
    "res = (a + b.T).sum()\n",
    "res"
   ]
  },
  {
   "cell_type": "markdown",
   "metadata": {
    "collapsed": false
   },
   "source": [
    "А как же получить значения градиентов? Тензоры что-то содержат, операции все известны."
   ]
  },
  {
   "cell_type": "code",
   "execution_count": 96,
   "metadata": {
    "collapsed": false
   },
   "outputs": [],
   "source": [
    "res.backward()"
   ]
  },
  {
   "cell_type": "code",
   "execution_count": 97,
   "id": "d60e6aa9",
   "metadata": {},
   "outputs": [
    {
     "data": {
      "text/plain": [
       "tensor([[1., 1.],\n",
       "        [1., 1.],\n",
       "        [1., 1.],\n",
       "        [1., 1.],\n",
       "        [1., 1.]])"
      ]
     },
     "execution_count": 97,
     "metadata": {},
     "output_type": "execute_result"
    }
   ],
   "source": [
    "a.grad"
   ]
  },
  {
   "cell_type": "code",
   "execution_count": 98,
   "metadata": {
    "collapsed": false
   },
   "outputs": [
    {
     "data": {
      "text/plain": [
       "tensor([[5.],\n",
       "        [5.]])"
      ]
     },
     "execution_count": 98,
     "metadata": {},
     "output_type": "execute_result"
    }
   ],
   "source": [
    "b.grad.data"
   ]
  },
  {
   "cell_type": "markdown",
   "metadata": {
    "collapsed": false
   },
   "source": [
    "Перейдем к нашим данным. Попробуем обучить простую линейную модель с помощью градиентного спуска."
   ]
  },
  {
   "cell_type": "code",
   "execution_count": 99,
   "metadata": {
    "collapsed": false
   },
   "outputs": [
    {
     "data": {
      "text/plain": [
       "<matplotlib.collections.PathCollection at 0x727438722620>"
      ]
     },
     "execution_count": 99,
     "metadata": {},
     "output_type": "execute_result"
    },
    {
     "data": {
      "image/png": "[encoded data removed]",
      "text/plain": [
       "<Figure size 640x480 with 1 Axes>"
      ]
     },
     "metadata": {},
     "output_type": "display_data"
    }
   ],
   "source": [
    "w = torch.rand(1, 2, requires_grad=True)\n",
    "b = torch.rand(1, requires_grad=True)\n",
    "y_pred = w @ x.T + b\n",
    "loss = torch.mean((y_pred - y) ** 2)\n",
    "loss.backward()\n",
    "\n",
    "plt.scatter(x[:, 0], y)\n",
    "plt.scatter(x[:, 0], y_pred.detach().numpy())"
   ]
  },
  {
   "cell_type": "markdown",
   "metadata": {
    "collapsed": false
   },
   "source": [
    "Пока не слишком похоже на то, что мы хотим. Для того, чтобы изменения применились, нужно сделать шаг градиентного спуска."
   ]
  },
  {
   "cell_type": "markdown",
   "metadata": {
    "collapsed": false
   },
   "source": [
    "**Задание**. Проведите 100 итераций градиентного спуска для данного набора.\n",
    "Для этого надо вспомнить, как выглядит этот алгоритм для линейной регрессии"
   ]
  },
  {
   "cell_type": "code",
   "execution_count": 100,
   "metadata": {
    "collapsed": false
   },
   "outputs": [
    {
     "data": {
      "text/plain": [
       "<matplotlib.collections.PathCollection at 0x72743879e380>"
      ]
     },
     "execution_count": 100,
     "metadata": {},
     "output_type": "execute_result"
    },
    {
     "data": {
      "image/png": "[encoded data removed]",
      "text/plain": [
       "<Figure size 640x480 with 1 Axes>"
      ]
     },
     "metadata": {},
     "output_type": "display_data"
    }
   ],
   "source": [
    "w = torch.rand(1, 2, requires_grad=True)\n",
    "b = torch.rand(1, requires_grad=True)\n",
    "\n",
    "for i in range(100):\n",
    "    y_pred = w @ x.T + b\n",
    "    loss = torch.mean((y_pred - y) ** 2)\n",
    "    loss.backward()\n",
    "    with torch.no_grad():\n",
    "        w -= 0.1 * w.grad\n",
    "        b -= 0.1 * b.grad\n",
    "    w.grad.zero_()\n",
    "    b.grad.zero_()\n",
    "\n",
    "plt.scatter(x[:, 0], y)\n",
    "plt.scatter(x[:, 0], y_pred.detach().numpy())"
   ]
  },
  {
   "cell_type": "markdown",
   "id": "7302150d",
   "metadata": {},
   "source": [
    "# Пайплайн обучения\n",
    "Импортируем torch.nn - тут находятся классы, реализующие слои, лоссы, функции ошибок и тд. \n",
    "Для примера я использую стандартный датасет для компьютерного зрения - MNIST - содержащий цифры от 0 до 9 в разном написании. Поэтому импортируются некоторые подмодули torchvision\n"
   ]
  },
  {
   "cell_type": "code",
   "execution_count": 101,
   "id": "bf7c9b27",
   "metadata": {},
   "outputs": [],
   "source": [
    "import torch\n",
    "from torch import nn\n",
    "from torch.utils.data import DataLoader, Dataset\n",
    "from torchvision import datasets\n",
    "from torchvision.transforms import ToTensor\n",
    "from matplotlib import pyplot as plt\n",
    "import torch.nn.functional as F"
   ]
  },
  {
   "cell_type": "code",
   "execution_count": 102,
   "id": "45ad1ada",
   "metadata": {},
   "outputs": [],
   "source": [
    "import os\n",
    "import pandas as pd\n",
    "from torchvision.io import read_image\n"
   ]
  },
  {
   "cell_type": "markdown",
   "id": "54aebe5f",
   "metadata": {},
   "source": [
    "# Создание датасета"
   ]
  },
  {
   "cell_type": "markdown",
   "id": "71d937ef",
   "metadata": {},
   "source": [
    "Pytorch позволяет использовать открытые датасеты с хаба. Они все являются подклассами `torch.utils.data.Dataset` и имплементируют методы, специфичные для этого класса данных. Обычно они используются для прототипирования и бенчмаркинга и могут быть загружены по необходимости. Однако если для задачи необxодимо что-то кроме предполагаемой разработчиками функциональности, нужно либо отнаследовать один из них, либо напрямую `torch.utils.data.Dataset`.\n",
    "\n",
    "Давайте загрузим FashionMNIST (https://github.com/zalandoresearch/fashion-mnist) - один из таких простых бенчмарк-датасетов для компьютерного зрения. Каждый семпл - это черно-белое изображение размером 28х28 с каким-то предметом одежды и ассоциированным классом. Всего набор содержит 60000 + 10000 изображений и 10 классов.\n"
   ]
  },
  {
   "cell_type": "code",
   "execution_count": 103,
   "id": "84744d19",
   "metadata": {},
   "outputs": [],
   "source": [
    "train_data = datasets.FashionMNIST(\n",
    "    root=\"data\",\n",
    "    train=True,\n",
    "    download=True,\n",
    "    transform=ToTensor(),\n",
    ")\n",
    "\n",
    "test_data = datasets.FashionMNIST(\n",
    "    root=\"data\",\n",
    "    train=False,\n",
    "    download=True,\n",
    "    transform=ToTensor(),\n",
    ")"
   ]
  },
  {
   "cell_type": "code",
   "execution_count": 104,
   "id": "cdfc853a",
   "metadata": {},
   "outputs": [],
   "source": [
    "labels_map = {\n",
    "    0: \"T-Shirt\",\n",
    "    1: \"Trouser\",\n",
    "    2: \"Pullover\",\n",
    "    3: \"Dress\",\n",
    "    4: \"Coat\",\n",
    "    5: \"Sandal\",\n",
    "    6: \"Shirt\",\n",
    "    7: \"Sneaker\",\n",
    "    8: \"Bag\",\n",
    "    9: \"Ankle Boot\",\n",
    "}"
   ]
  },
  {
   "cell_type": "code",
   "execution_count": 105,
   "id": "dc9d3d8f",
   "metadata": {},
   "outputs": [],
   "source": [
    "def plot_samples(data, labels_map, cols=3, rows=3):\n",
    "    figure = plt.figure(figsize=(8, 8))\n",
    "    for i in range(1, cols * rows + 1):\n",
    "        sample_idx = torch.randint(len(data), size=(1,)).item()\n",
    "        img, label = data[sample_idx]\n",
    "        figure.add_subplot(rows, cols, i)\n",
    "        if type(label) == torch.Tensor:\n",
    "            plt.title(labels_map[label.item()])\n",
    "        else:\n",
    "            plt.title(labels_map[label])\n",
    "        plt.axis(\"off\")\n",
    "        plt.imshow(img.squeeze(), cmap=\"gray\")\n",
    "    plt.show()"
   ]
  },
  {
   "cell_type": "code",
   "execution_count": 106,
   "id": "6f1c8745",
   "metadata": {},
   "outputs": [
    {
     "data": {
      "image/png": "[encoded data removed]",
      "text/plain": [
       "<Figure size 800x800 with 9 Axes>"
      ]
     },
     "metadata": {},
     "output_type": "display_data"
    }
   ],
   "source": [
    "plot_samples(train_data, labels_map, cols=3, rows=3)"
   ]
  },
  {
   "cell_type": "markdown",
   "id": "9a33dc57",
   "metadata": {},
   "source": [
    "Каждый датасет в Pytorch должен наследоваться от класса Dataset и обязательно имплементировать методы `__init__, __len__, __getitem__`. В `__init__` обычно кроме прочего определяются трансформации, которые будут применяться к данным. Это может быть преобразование PIL.Image в тензоры, добавление шума, сдвиги и т.д. \n",
    "Pytorch предоставляет большое количество трансформаций, но наиболее популярная и удобная библиотека, реализующая трансформации для изображений - *albumentations*. \n",
    "\n",
    "`__len__` - должна возвращать размер датасета (например, чисо строк в файле с аннотациями)\n",
    "\n",
    "`__getitem__` - должен возвращать семпл данных, например, вектор признаков и y. Однако он может возвращать еще и дополнительную информацию, например, y может состоять из набора bboxoв и  сегментационных масок для детекции, класса изображения итп. Обычно возвращается tuple. В целом, возвращаться может любая структура, которую можно представить как набор тензоров, соответствующих одному семплу и входу модели.\n",
    "Внутри этого метода может происходить загрузка семпла, его трансформации и другие необходимые манипуляции. Очевидно, что он может возвращать не только изображение, но и любые другие данные, и временные ряды, и табличные данные, и облака точек, и другое. \n"
   ]
  },
  {
   "cell_type": "markdown",
   "id": "d59d78bb",
   "metadata": {},
   "source": [
    "Давайте реализуем такой датасет для FashionMNIST. Конечно, можно было бы спокойно использовать встроенный, но так не интересно )"
   ]
  },
  {
   "cell_type": "code",
   "execution_count": 107,
   "id": "9022c5a5",
   "metadata": {},
   "outputs": [],
   "source": [
    "from torchvision.datasets.mnist import read_image_file, read_label_file"
   ]
  },
  {
   "cell_type": "code",
   "execution_count": 108,
   "id": "5df545a3",
   "metadata": {},
   "outputs": [],
   "source": [
    "class FashionMNISTDataset(Dataset):\n",
    "    def __init__(self, file_dir, train=True, transform=None, target_transform=None):\n",
    "        self.transform = transform\n",
    "        self.target_transform = target_transform\n",
    "        self.train = train\n",
    "        image_file = f\"{'train' if self.train else 't10k'}-images-idx3-ubyte\"\n",
    "        self.data = read_image_file(os.path.join(file_dir, image_file))\n",
    "\n",
    "        label_file = f\"{'train' if self.train else 't10k'}-labels-idx1-ubyte\"\n",
    "        self.targets = read_label_file(os.path.join(file_dir, label_file))\n",
    "\n",
    "    def __len__(self):\n",
    "        return len(self.data)\n",
    "\n",
    "    def __getitem__(self, idx):\n",
    "        image = self.data[idx]\n",
    "        label = self.targets[idx]\n",
    "        \n",
    "        if self.transform:\n",
    "            image = self.transform(image)\n",
    "        if self.target_transform:\n",
    "            label = self.target_transform(label)\n",
    "        return image, label"
   ]
  },
  {
   "cell_type": "markdown",
   "metadata": {
    "collapsed": false
   },
   "source": [
    "Проинициализируйте ваш новый датасет так же, как и ранее встроенный."
   ]
  },
  {
   "cell_type": "code",
   "execution_count": 109,
   "id": "3d648b9e",
   "metadata": {},
   "outputs": [],
   "source": [
    "train_data = FashionMNISTDataset(\n",
    "    file_dir=\"/home/an/spbu_deep_learning/notebooks/data/FashionMNIST/raw\",\n",
    "    train=True,\n",
    ")\n",
    "\n",
    "test_data = FashionMNISTDataset(\n",
    "    file_dir=\"/home/an/spbu_deep_learning/notebooks/data/FashionMNIST/raw\",\n",
    "    train=False,\n",
    ")"
   ]
  },
  {
   "cell_type": "code",
   "execution_count": 110,
   "id": "9d8e5055",
   "metadata": {},
   "outputs": [
    {
     "data": {
      "image/png": "[encoded data removed]",
      "text/plain": [
       "<Figure size 800x800 with 9 Axes>"
      ]
     },
     "metadata": {},
     "output_type": "display_data"
    }
   ],
   "source": [
    "plot_samples(train_data, labels_map, cols=3, rows=3)"
   ]
  },
  {
   "cell_type": "markdown",
   "id": "f7354c09",
   "metadata": {},
   "source": [
    "Датасет возвращает один семпл за раз, однако часто наши мощности позволяют обрабатывать больше данных. При работе с таблицами обыно модель получает на вход вообще весь набор сразу или достаточно большими порциями. Когда речь заходит о тензорах и наборах с сотнями тысяч и даже миллионами семплов, это невозможно. На помощь приходит батчевая обработка, когда из датасета берутся небольшие порции данных за раз (используя индекс). За соединение семплов во вход модели отвечает класс DataLoader. Каждую эпоху данные шаффлятся, чтобы уменьшить переобучение. "
   ]
  },
  {
   "cell_type": "code",
   "execution_count": 111,
   "id": "6920b94f",
   "metadata": {},
   "outputs": [],
   "source": [
    "train_dataloader = DataLoader(train_data, batch_size=64, shuffle=True)\n",
    "test_dataloader = DataLoader(test_data, batch_size=64, shuffle=True)"
   ]
  },
  {
   "cell_type": "code",
   "execution_count": 112,
   "id": "15214288",
   "metadata": {},
   "outputs": [
    {
     "name": "stdout",
     "output_type": "stream",
     "text": [
      "Feature batch shape: torch.Size([64, 28, 28])\n",
      "Labels batch shape: torch.Size([64])\n"
     ]
    },
    {
     "data": {
      "image/png": "[encoded data removed]",
      "text/plain": [
       "<Figure size 640x480 with 1 Axes>"
      ]
     },
     "metadata": {},
     "output_type": "display_data"
    },
    {
     "name": "stdout",
     "output_type": "stream",
     "text": [
      "Label: 9\n"
     ]
    }
   ],
   "source": [
    "train_features, train_labels = next(iter(train_dataloader))\n",
    "print(f\"Feature batch shape: {train_features.size()}\")\n",
    "print(f\"Labels batch shape: {train_labels.size()}\")\n",
    "img = train_features[0].squeeze().reshape(28,28)\n",
    "label = train_labels[0]\n",
    "plt.imshow(img, cmap=\"gray\")\n",
    "plt.show()\n",
    "print(f\"Label: {label}\")"
   ]
  },
  {
   "cell_type": "markdown",
   "id": "fcf84e10",
   "metadata": {},
   "source": [
    "Глубокое обучение чаще всего связывают с GPU, и не зря. Имея дело с тензорами и тензорными вычислениями, мы производим огромное количество элементарных операций. Каждое ядро CPU способно произвести только одно вычисление за такт. GPU был создан для обработки графики, где требуется также большое количество простых вычислений, и поэтому может ускорить обработку данных в тысячи раз. Это все должно быть хорошо Вам известно из других курсов)\n",
    "\n",
    "К сожалению, часто компьютер не поддерживает вычисления на GPU, например, у него просто нет дискретной видеокарты. Pytorch позволяет проводить все операции на CPU, так что его можно использовать где угодно.\n",
    "\n"
   ]
  },
  {
   "cell_type": "code",
   "execution_count": 113,
   "id": "188d5e11",
   "metadata": {},
   "outputs": [
    {
     "name": "stdout",
     "output_type": "stream",
     "text": [
      "Using cuda device\n"
     ]
    }
   ],
   "source": [
    "device = \"cuda\" if torch.cuda.is_available() else \"cpu\"\n",
    "print(f\"Using {device} device\")\n"
   ]
  },
  {
   "cell_type": "markdown",
   "id": "1c77c6be",
   "metadata": {},
   "source": [
    "*Дополнительное задание: адаптируйте весь код для `accelerate`. Это очень удобная библиотека для адаптации PyTorch кода для любой распределенной конфигурации. Кроме того, она позволяет упростить работу, даже если нам нужно перенести вычисления на GPU или CPU, автоматизируя этот процесс (иначе нам нужно постоянно вызывать `.to(device)`)*\n",
    "*Для этого импортируйте нужный Accelerator из accelerate. Далее достаточно вызвать accelerator.prepare(elements)*"
   ]
  },
  {
   "cell_type": "markdown",
   "id": "c2f9aa77",
   "metadata": {},
   "source": [
    "Теперь создадим класс модели и интстанциируем её. В данном случае это простой перцептрон с тремя слоями. Однако модель может быть сколько угодно сложной. Главное, чтобы она наследовала класс `nn.Module`. Более того, можно написать любой слой собственноручно, также отнаследовав этот класс.\n",
    "Каждая модель должна имплементировать два метода - `__init__` и `forward(self, *args, **kwargs)`. В первом обычно задается ее структура и другие параметры. Модель  может даже содержать другие модели!\n",
    "\n",
    "`forward` получает на вход Х, но он может получать несколько разных входов, маски и тд. Обычно возвращаются либо выходы с последнего слоя (один или несколько). Но, например, стандартные модели детекции возвращают в режиме обучения значение лосса, а непосредственные предсказания только в режиме тестирования.\n",
    "\n",
    "Вызывая `model(data)`, на самом деле мы вызываем именно метод `forward`"
   ]
  },
  {
   "cell_type": "markdown",
   "id": "bc1e538f",
   "metadata": {},
   "source": [
    "Для того, чтобы понять, как устроен слой в Pytorch, создадим простой слой для превращения изображения в вектор.\n",
    "Пусть это будет класс MyFlatten. Изображения (и, что более актуально, промежуточные представления или, иными словами, карты, внутри модели) изначально имеют размер N x C x H x W, где:\n",
    "\n",
    "N - число семплов в батче\n",
    "C - число каналов на входе в конкретный слой. Если вход с 3 каналами, это 3, но в середине модели это может быть любое число, например, 128.\n",
    "H - высота карты\n",
    "W - ширина карты\n",
    "\n",
    "Когда мы делаем что-то вроде двумерной свертки, это стандартное представление данных, которое позволяет восстановить пространственные зависимости между элементами карты. Однако, когда мы используем полносвязные модели, каждый семпл представлен единым вектором. В простом случае больше не нужно разделять разные каналы, строки и столбцы данных. Таким образом, мы используем операцию \"вытянуть в вектор\", чтобы превратить значения C x H x W в представление C * H * W. "
   ]
  },
  {
   "cell_type": "markdown",
   "id": "73d4040a",
   "metadata": {},
   "source": [
    "**Задание**: допишите класс MyFlatten. Этот слой при вызове должен принимать на вход тензор размера B x C x H x W и возвращать тензор размера B x [C * H * W]. Пример: батч картинок 2 x 3(rgb) x 16(h) x 16(w)] -> 2 x 768"
   ]
  },
  {
   "cell_type": "code",
   "execution_count": 114,
   "id": "6874d66c",
   "metadata": {},
   "outputs": [],
   "source": [
    "class MyFlatten(nn.Module):\n",
    "    def __init__(self):\n",
    "        super().__init__()\n",
    "    \n",
    "    def forward(self, x):\n",
    "        batch_size = x.size(0)\n",
    "        num_elements = torch.prod(torch.tensor(x.shape[1:]))\n",
    "        return x.view(batch_size, num_elements)"
   ]
  },
  {
   "cell_type": "code",
   "execution_count": 115,
   "id": "9b1c4e7b",
   "metadata": {},
   "outputs": [
    {
     "data": {
      "text/plain": [
       "torch.Size([2, 768])"
      ]
     },
     "execution_count": 115,
     "metadata": {},
     "output_type": "execute_result"
    }
   ],
   "source": [
    "flatten = MyFlatten()\n",
    "x = torch.randn(2, 3, 16, 16)\n",
    "y = flatten(x)\n",
    "y.size()"
   ]
  },
  {
   "cell_type": "code",
   "execution_count": 116,
   "id": "276275b8",
   "metadata": {},
   "outputs": [
    {
     "name": "stdout",
     "output_type": "stream",
     "text": [
      "NeuralNetwork(\n",
      "  (flatten): MyFlatten()\n",
      "  (fc): Sequential(\n",
      "    (0): Linear(in_features=784, out_features=512, bias=True)\n",
      "    (1): ReLU()\n",
      "    (2): Linear(in_features=512, out_features=512, bias=True)\n",
      "    (3): ReLU()\n",
      "    (4): Linear(in_features=512, out_features=10, bias=True)\n",
      "  )\n",
      ")\n"
     ]
    }
   ],
   "source": [
    "class NeuralNetwork(nn.Module):\n",
    "    def __init__(self):\n",
    "        super().__init__()\n",
    "        self.flatten = MyFlatten()\n",
    "        self.fc = nn.Sequential(\n",
    "            nn.Linear(28*28, 512),\n",
    "            nn.ReLU(),\n",
    "            nn.Linear(512, 512),\n",
    "            nn.ReLU(),\n",
    "            nn.Linear(512, 10)\n",
    "        )\n",
    "\n",
    "    def forward(self, x):\n",
    "        x = self.flatten(x)\n",
    "        logits = self.fc(x)\n",
    "        return logits\n",
    "\n",
    "model = NeuralNetwork().to(device)\n",
    "print(model)"
   ]
  },
  {
   "cell_type": "markdown",
   "id": "2e4083c3",
   "metadata": {},
   "source": [
    "Слои: http://pytorch.org/docs/nn.html\n",
    "\n",
    "Активации: http://pytorch.org/docs/nn.html#non-linear-activations"
   ]
  },
  {
   "cell_type": "markdown",
   "id": "1eba191e",
   "metadata": {},
   "source": [
    "Зададим функцию ошибки и оптимизатор. Функция ошибки также наследуется от torch.nn.Module и может быть стандартной, состоять как из нескольких стандартных функций или их модификаций. Большое количество функций ошибки уже реализовано в Pytorch.\n",
    "\n",
    "Внутри каждой итерации обучения оптимизация происходит в три этапа:\n",
    "Вызов optimizer.zero_grad() для обнуления градиентов параметров модели. Градиенты по умолчанию складываются; чтобы избежать двойного подсчета, мы явно обнуляем их на каждой итерации.\n",
    "\n",
    "Получение градиентов для каждого веса с помощью loss.backward().\n",
    "Как только мы получили наши градиенты, остается вызвать optimizer.step(), чтобы изменить параметры в соответствии с нашим алгоритмом оптимизации. "
   ]
  },
  {
   "cell_type": "code",
   "execution_count": 117,
   "id": "eec223a3",
   "metadata": {},
   "outputs": [],
   "source": [
    "loss_fn = nn.CrossEntropyLoss()\n",
    "optimizer = torch.optim.SGD(model.parameters(), lr=1e-3)"
   ]
  },
  {
   "cell_type": "markdown",
   "id": "51ae01c0",
   "metadata": {},
   "source": [
    "Задание: \n",
    "1) Выберите как минимум еще 2 разные функции ошибки из https://pytorch.org/docs/stable/nn.html#loss-functions и обучите модель с ними\n",
    "2) Выберите как минимум еще 1 оптимизатор из https://pytorch.org/docs/stable/optim.html и обучите каждую из моделей с ним\n",
    "\n",
    "В результате у вас должна получиться таблица с лучшими значениями лосса для каждого случая для обучения и теста. В идеале оформите их в виде pandas.DataFrame или другой таблицы с удобным выводом."
   ]
  },
  {
   "cell_type": "markdown",
   "id": "075289cb",
   "metadata": {},
   "source": [
    "Обучим модель. Для этого нужно описать цикл обучения и проверки модели. В наивном случае создается две функции train и validate (test), которые вызываются в цикле по эпохам. В дальнейшем, при усложнении прохода по эпохе, может появиться метод train, целый класс Trainer и т.д. Пока что реализуем наивный вариант."
   ]
  },
  {
   "cell_type": "code",
   "execution_count": 118,
   "id": "8931bac2",
   "metadata": {},
   "outputs": [],
   "source": [
    "def train(dataloader, model, loss_fn, optimizer):\n",
    "    size = len(dataloader.dataset)\n",
    "    model.train()\n",
    "    for batch_idx, (inputs, targets) in enumerate(dataloader):\n",
    "        inputs, targets = inputs.to(device).float(), targets.to(device)  \n",
    "        \n",
    "        # Compute prediction error\n",
    "        preds = model(inputs)\n",
    "        loss = loss_fn(preds, targets)\n",
    "\n",
    "        # Backpropagation\n",
    "        optimizer.zero_grad()\n",
    "        loss.backward()\n",
    "        optimizer.step()\n",
    "\n",
    "        if batch_idx % 100 == 0:\n",
    "            loss, current = loss.item(), (batch_idx + 1) * len(inputs)\n",
    "            print(f\"loss: {loss:>7f}  [{current:>5d}/{size:>5d}]\")\n",
    "    \n",
    "    return loss.item()"
   ]
  },
  {
   "cell_type": "code",
   "execution_count": 119,
   "id": "289e5cbe",
   "metadata": {},
   "outputs": [],
   "source": [
    "def test(dataloader, model, loss_fn):\n",
    "    size = len(dataloader.dataset)\n",
    "    num_batches = len(dataloader)\n",
    "    model.eval()\n",
    "    test_loss, num_correct = 0, 0\n",
    "    with torch.no_grad():\n",
    "        for inputs, targets in dataloader:\n",
    "            inputs, targets = inputs.to(device).float(), targets.to(device) \n",
    "            preds = model(inputs)\n",
    "            test_loss += loss_fn(preds, targets).item()\n",
    "            num_correct += (preds.argmax(1) == targets).type(torch.float).sum().item()\n",
    "    test_loss /= num_batches\n",
    "    accuracy = num_correct / size\n",
    "    print(f\"Test Error: \\n Accuracy: {(100*accuracy):>0.1f}%, Avg loss: {test_loss:>8f} \\n\")\n",
    "    return test_loss, accuracy"
   ]
  },
  {
   "cell_type": "markdown",
   "id": "873bd8ea",
   "metadata": {},
   "source": [
    "Задание: Добавьте метрики precision и recall для проверки"
   ]
  },
  {
   "cell_type": "code",
   "execution_count": 120,
   "id": "dc99a7ef",
   "metadata": {},
   "outputs": [],
   "source": [
    "def train_and_test(model, train_loader, test_loader, loss_fn, optimizer, epochs=10):\n",
    "    best_train_loss = float('inf')\n",
    "    best_test_loss = float('inf')\n",
    "    best_test_accuracy = 0.0\n",
    "    \n",
    "    for t in range(epochs):\n",
    "        print(f\"Epoch {t+1}\\n-------------------------------\")\n",
    "        train_loss = train(train_loader, model, loss_fn, optimizer)\n",
    "        best_train_loss = min(best_train_loss, train_loss)\n",
    "        \n",
    "        test_loss, test_accuracy = test(test_loader, model, loss_fn)\n",
    "        best_test_loss = min(best_test_loss, test_loss)\n",
    "        best_test_accuracy = max(best_test_accuracy, test_accuracy)\n",
    "    \n",
    "    return best_train_loss, best_test_loss, best_test_accuracy"
   ]
  },
  {
   "cell_type": "code",
   "execution_count": 123,
   "id": "f72a5175",
   "metadata": {},
   "outputs": [
    {
     "name": "stdout",
     "output_type": "stream",
     "text": [
      "\n",
      "Training with CrossEntropyLoss and SGD\n",
      "Epoch 1\n",
      "-------------------------------\n",
      "loss: 17.648327  [   64/60000]\n",
      "loss:     nan  [ 6464/60000]\n",
      "loss:     nan  [12864/60000]\n",
      "loss:     nan  [19264/60000]\n",
      "loss:     nan  [25664/60000]\n",
      "loss:     nan  [32064/60000]\n",
      "loss:     nan  [38464/60000]\n",
      "loss:     nan  [44864/60000]\n",
      "loss:     nan  [51264/60000]\n",
      "loss:     nan  [57664/60000]\n",
      "Test Error: \n",
      " Accuracy: 10.0%, Avg loss:      nan \n",
      "\n",
      "Epoch 2\n",
      "-------------------------------\n",
      "loss:     nan  [   64/60000]\n",
      "loss:     nan  [ 6464/60000]\n",
      "loss:     nan  [12864/60000]\n",
      "loss:     nan  [19264/60000]\n",
      "loss:     nan  [25664/60000]\n",
      "loss:     nan  [32064/60000]\n",
      "loss:     nan  [38464/60000]\n",
      "loss:     nan  [44864/60000]\n",
      "loss:     nan  [51264/60000]\n",
      "loss:     nan  [57664/60000]\n",
      "Test Error: \n",
      " Accuracy: 10.0%, Avg loss:      nan \n",
      "\n",
      "Epoch 3\n",
      "-------------------------------\n",
      "loss:     nan  [   64/60000]\n",
      "loss:     nan  [ 6464/60000]\n",
      "loss:     nan  [12864/60000]\n",
      "loss:     nan  [19264/60000]\n",
      "loss:     nan  [25664/60000]\n",
      "loss:     nan  [32064/60000]\n",
      "loss:     nan  [38464/60000]\n",
      "loss:     nan  [44864/60000]\n",
      "loss:     nan  [51264/60000]\n",
      "loss:     nan  [57664/60000]\n",
      "Test Error: \n",
      " Accuracy: 10.0%, Avg loss:      nan \n",
      "\n",
      "Epoch 4\n",
      "-------------------------------\n",
      "loss:     nan  [   64/60000]\n",
      "loss:     nan  [ 6464/60000]\n",
      "loss:     nan  [12864/60000]\n",
      "loss:     nan  [19264/60000]\n",
      "loss:     nan  [25664/60000]\n",
      "loss:     nan  [32064/60000]\n",
      "loss:     nan  [38464/60000]\n",
      "loss:     nan  [44864/60000]\n",
      "loss:     nan  [51264/60000]\n",
      "loss:     nan  [57664/60000]\n",
      "Test Error: \n",
      " Accuracy: 10.0%, Avg loss:      nan \n",
      "\n",
      "Epoch 5\n",
      "-------------------------------\n",
      "loss:     nan  [   64/60000]\n",
      "loss:     nan  [ 6464/60000]\n",
      "loss:     nan  [12864/60000]\n",
      "loss:     nan  [19264/60000]\n",
      "loss:     nan  [25664/60000]\n",
      "loss:     nan  [32064/60000]\n",
      "loss:     nan  [38464/60000]\n",
      "loss:     nan  [44864/60000]\n",
      "loss:     nan  [51264/60000]\n",
      "loss:     nan  [57664/60000]\n",
      "Test Error: \n",
      " Accuracy: 10.0%, Avg loss:      nan \n",
      "\n",
      "Epoch 6\n",
      "-------------------------------\n",
      "loss:     nan  [   64/60000]\n",
      "loss:     nan  [ 6464/60000]\n",
      "loss:     nan  [12864/60000]\n",
      "loss:     nan  [19264/60000]\n",
      "loss:     nan  [25664/60000]\n",
      "loss:     nan  [32064/60000]\n",
      "loss:     nan  [38464/60000]\n",
      "loss:     nan  [44864/60000]\n",
      "loss:     nan  [51264/60000]\n",
      "loss:     nan  [57664/60000]\n",
      "Test Error: \n",
      " Accuracy: 10.0%, Avg loss:      nan \n",
      "\n",
      "Epoch 7\n",
      "-------------------------------\n",
      "loss:     nan  [   64/60000]\n",
      "loss:     nan  [ 6464/60000]\n",
      "loss:     nan  [12864/60000]\n",
      "loss:     nan  [19264/60000]\n",
      "loss:     nan  [25664/60000]\n",
      "loss:     nan  [32064/60000]\n",
      "loss:     nan  [38464/60000]\n",
      "loss:     nan  [44864/60000]\n",
      "loss:     nan  [51264/60000]\n",
      "loss:     nan  [57664/60000]\n",
      "Test Error: \n",
      " Accuracy: 10.0%, Avg loss:      nan \n",
      "\n",
      "Epoch 8\n",
      "-------------------------------\n",
      "loss:     nan  [   64/60000]\n",
      "loss:     nan  [ 6464/60000]\n",
      "loss:     nan  [12864/60000]\n",
      "loss:     nan  [19264/60000]\n",
      "loss:     nan  [25664/60000]\n",
      "loss:     nan  [32064/60000]\n",
      "loss:     nan  [38464/60000]\n",
      "loss:     nan  [44864/60000]\n",
      "loss:     nan  [51264/60000]\n",
      "loss:     nan  [57664/60000]\n",
      "Test Error: \n",
      " Accuracy: 10.0%, Avg loss:      nan \n",
      "\n",
      "Epoch 9\n",
      "-------------------------------\n",
      "loss:     nan  [   64/60000]\n",
      "loss:     nan  [ 6464/60000]\n",
      "loss:     nan  [12864/60000]\n",
      "loss:     nan  [19264/60000]\n",
      "loss:     nan  [25664/60000]\n",
      "loss:     nan  [32064/60000]\n",
      "loss:     nan  [38464/60000]\n",
      "loss:     nan  [44864/60000]\n",
      "loss:     nan  [51264/60000]\n",
      "loss:     nan  [57664/60000]\n",
      "Test Error: \n",
      " Accuracy: 10.0%, Avg loss:      nan \n",
      "\n",
      "Epoch 10\n",
      "-------------------------------\n",
      "loss:     nan  [   64/60000]\n",
      "loss:     nan  [ 6464/60000]\n",
      "loss:     nan  [12864/60000]\n",
      "loss:     nan  [19264/60000]\n",
      "loss:     nan  [25664/60000]\n",
      "loss:     nan  [32064/60000]\n",
      "loss:     nan  [38464/60000]\n",
      "loss:     nan  [44864/60000]\n",
      "loss:     nan  [51264/60000]\n",
      "loss:     nan  [57664/60000]\n",
      "Test Error: \n",
      " Accuracy: 10.0%, Avg loss:      nan \n",
      "\n",
      "Epoch 11\n",
      "-------------------------------\n",
      "loss:     nan  [   64/60000]\n",
      "loss:     nan  [ 6464/60000]\n",
      "loss:     nan  [12864/60000]\n",
      "loss:     nan  [19264/60000]\n",
      "loss:     nan  [25664/60000]\n",
      "loss:     nan  [32064/60000]\n",
      "loss:     nan  [38464/60000]\n",
      "loss:     nan  [44864/60000]\n",
      "loss:     nan  [51264/60000]\n",
      "loss:     nan  [57664/60000]\n",
      "Test Error: \n",
      " Accuracy: 10.0%, Avg loss:      nan \n",
      "\n",
      "Epoch 12\n",
      "-------------------------------\n",
      "loss:     nan  [   64/60000]\n",
      "loss:     nan  [ 6464/60000]\n",
      "loss:     nan  [12864/60000]\n",
      "loss:     nan  [19264/60000]\n",
      "loss:     nan  [25664/60000]\n",
      "loss:     nan  [32064/60000]\n",
      "loss:     nan  [38464/60000]\n",
      "loss:     nan  [44864/60000]\n",
      "loss:     nan  [51264/60000]\n",
      "loss:     nan  [57664/60000]\n",
      "Test Error: \n",
      " Accuracy: 10.0%, Avg loss:      nan \n",
      "\n",
      "Epoch 13\n",
      "-------------------------------\n",
      "loss:     nan  [   64/60000]\n",
      "loss:     nan  [ 6464/60000]\n",
      "loss:     nan  [12864/60000]\n",
      "loss:     nan  [19264/60000]\n",
      "loss:     nan  [25664/60000]\n",
      "loss:     nan  [32064/60000]\n",
      "loss:     nan  [38464/60000]\n",
      "loss:     nan  [44864/60000]\n",
      "loss:     nan  [51264/60000]\n",
      "loss:     nan  [57664/60000]\n",
      "Test Error: \n",
      " Accuracy: 10.0%, Avg loss:      nan \n",
      "\n",
      "Epoch 14\n",
      "-------------------------------\n",
      "loss:     nan  [   64/60000]\n",
      "loss:     nan  [ 6464/60000]\n",
      "loss:     nan  [12864/60000]\n",
      "loss:     nan  [19264/60000]\n",
      "loss:     nan  [25664/60000]\n",
      "loss:     nan  [32064/60000]\n",
      "loss:     nan  [38464/60000]\n",
      "loss:     nan  [44864/60000]\n",
      "loss:     nan  [51264/60000]\n",
      "loss:     nan  [57664/60000]\n",
      "Test Error: \n",
      " Accuracy: 10.0%, Avg loss:      nan \n",
      "\n",
      "Epoch 15\n",
      "-------------------------------\n",
      "loss:     nan  [   64/60000]\n",
      "loss:     nan  [ 6464/60000]\n",
      "loss:     nan  [12864/60000]\n",
      "loss:     nan  [19264/60000]\n",
      "loss:     nan  [25664/60000]\n",
      "loss:     nan  [32064/60000]\n",
      "loss:     nan  [38464/60000]\n",
      "loss:     nan  [44864/60000]\n",
      "loss:     nan  [51264/60000]\n",
      "loss:     nan  [57664/60000]\n",
      "Test Error: \n",
      " Accuracy: 10.0%, Avg loss:      nan \n",
      "\n",
      "Epoch 16\n",
      "-------------------------------\n",
      "loss:     nan  [   64/60000]\n",
      "loss:     nan  [ 6464/60000]\n",
      "loss:     nan  [12864/60000]\n",
      "loss:     nan  [19264/60000]\n",
      "loss:     nan  [25664/60000]\n",
      "loss:     nan  [32064/60000]\n",
      "loss:     nan  [38464/60000]\n",
      "loss:     nan  [44864/60000]\n",
      "loss:     nan  [51264/60000]\n",
      "loss:     nan  [57664/60000]\n",
      "Test Error: \n",
      " Accuracy: 10.0%, Avg loss:      nan \n",
      "\n",
      "Epoch 17\n",
      "-------------------------------\n",
      "loss:     nan  [   64/60000]\n",
      "loss:     nan  [ 6464/60000]\n",
      "loss:     nan  [12864/60000]\n",
      "loss:     nan  [19264/60000]\n",
      "loss:     nan  [25664/60000]\n",
      "loss:     nan  [32064/60000]\n",
      "loss:     nan  [38464/60000]\n",
      "loss:     nan  [44864/60000]\n",
      "loss:     nan  [51264/60000]\n",
      "loss:     nan  [57664/60000]\n",
      "Test Error: \n",
      " Accuracy: 10.0%, Avg loss:      nan \n",
      "\n",
      "Epoch 18\n",
      "-------------------------------\n",
      "loss:     nan  [   64/60000]\n",
      "loss:     nan  [ 6464/60000]\n",
      "loss:     nan  [12864/60000]\n",
      "loss:     nan  [19264/60000]\n",
      "loss:     nan  [25664/60000]\n",
      "loss:     nan  [32064/60000]\n",
      "loss:     nan  [38464/60000]\n",
      "loss:     nan  [44864/60000]\n",
      "loss:     nan  [51264/60000]\n",
      "loss:     nan  [57664/60000]\n",
      "Test Error: \n",
      " Accuracy: 10.0%, Avg loss:      nan \n",
      "\n",
      "Epoch 19\n",
      "-------------------------------\n",
      "loss:     nan  [   64/60000]\n",
      "loss:     nan  [ 6464/60000]\n",
      "loss:     nan  [12864/60000]\n",
      "loss:     nan  [19264/60000]\n",
      "loss:     nan  [25664/60000]\n",
      "loss:     nan  [32064/60000]\n",
      "loss:     nan  [38464/60000]\n",
      "loss:     nan  [44864/60000]\n",
      "loss:     nan  [51264/60000]\n",
      "loss:     nan  [57664/60000]\n",
      "Test Error: \n",
      " Accuracy: 10.0%, Avg loss:      nan \n",
      "\n",
      "Epoch 20\n",
      "-------------------------------\n",
      "loss:     nan  [   64/60000]\n",
      "loss:     nan  [ 6464/60000]\n",
      "loss:     nan  [12864/60000]\n",
      "loss:     nan  [19264/60000]\n",
      "loss:     nan  [25664/60000]\n",
      "loss:     nan  [32064/60000]\n",
      "loss:     nan  [38464/60000]\n",
      "loss:     nan  [44864/60000]\n",
      "loss:     nan  [51264/60000]\n",
      "loss:     nan  [57664/60000]\n",
      "Test Error: \n",
      " Accuracy: 10.0%, Avg loss:      nan \n",
      "\n",
      "\n",
      "Training with CrossEntropyLoss and Adam\n",
      "Epoch 1\n",
      "-------------------------------\n",
      "loss: 14.028762  [   64/60000]\n",
      "loss: 0.742750  [ 6464/60000]\n",
      "loss: 0.332151  [12864/60000]\n",
      "loss: 0.666107  [19264/60000]\n",
      "loss: 0.492731  [25664/60000]\n",
      "loss: 0.651707  [32064/60000]\n",
      "loss: 0.365753  [38464/60000]\n",
      "loss: 0.603424  [44864/60000]\n",
      "loss: 0.557349  [51264/60000]\n",
      "loss: 0.427353  [57664/60000]\n",
      "Test Error: \n",
      " Accuracy: 83.5%, Avg loss: 0.478306 \n",
      "\n",
      "Epoch 2\n",
      "-------------------------------\n",
      "loss: 0.379702  [   64/60000]\n",
      "loss: 0.332691  [ 6464/60000]\n",
      "loss: 0.257429  [12864/60000]\n",
      "loss: 0.317042  [19264/60000]\n",
      "loss: 0.434090  [25664/60000]\n",
      "loss: 0.298389  [32064/60000]\n",
      "loss: 0.401421  [38464/60000]\n",
      "loss: 0.440124  [44864/60000]\n",
      "loss: 0.373209  [51264/60000]\n",
      "loss: 0.400518  [57664/60000]\n",
      "Test Error: \n",
      " Accuracy: 83.6%, Avg loss: 0.455139 \n",
      "\n",
      "Epoch 3\n",
      "-------------------------------\n",
      "loss: 0.677734  [   64/60000]\n",
      "loss: 0.325117  [ 6464/60000]\n",
      "loss: 0.336769  [12864/60000]\n",
      "loss: 0.263427  [19264/60000]\n",
      "loss: 0.200777  [25664/60000]\n",
      "loss: 0.250961  [32064/60000]\n",
      "loss: 0.471537  [38464/60000]\n",
      "loss: 0.388637  [44864/60000]\n",
      "loss: 0.441743  [51264/60000]\n",
      "loss: 0.410459  [57664/60000]\n",
      "Test Error: \n",
      " Accuracy: 84.8%, Avg loss: 0.423346 \n",
      "\n",
      "Epoch 4\n",
      "-------------------------------\n",
      "loss: 0.321800  [   64/60000]\n",
      "loss: 0.486692  [ 6464/60000]\n",
      "loss: 0.422945  [12864/60000]\n",
      "loss: 0.277505  [19264/60000]\n",
      "loss: 0.549450  [25664/60000]\n",
      "loss: 0.549410  [32064/60000]\n",
      "loss: 0.346748  [38464/60000]\n",
      "loss: 0.422996  [44864/60000]\n",
      "loss: 0.537297  [51264/60000]\n",
      "loss: 0.248854  [57664/60000]\n",
      "Test Error: \n",
      " Accuracy: 86.0%, Avg loss: 0.407627 \n",
      "\n",
      "Epoch 5\n",
      "-------------------------------\n",
      "loss: 0.272961  [   64/60000]\n",
      "loss: 0.235063  [ 6464/60000]\n",
      "loss: 0.372470  [12864/60000]\n",
      "loss: 0.304565  [19264/60000]\n",
      "loss: 0.423055  [25664/60000]\n",
      "loss: 0.295542  [32064/60000]\n",
      "loss: 0.259096  [38464/60000]\n",
      "loss: 0.274478  [44864/60000]\n",
      "loss: 0.165127  [51264/60000]\n",
      "loss: 0.419963  [57664/60000]\n",
      "Test Error: \n",
      " Accuracy: 86.6%, Avg loss: 0.380672 \n",
      "\n",
      "Epoch 6\n",
      "-------------------------------\n",
      "loss: 0.277549  [   64/60000]\n",
      "loss: 0.312241  [ 6464/60000]\n",
      "loss: 0.302609  [12864/60000]\n",
      "loss: 0.356074  [19264/60000]\n",
      "loss: 0.529173  [25664/60000]\n",
      "loss: 0.383454  [32064/60000]\n",
      "loss: 0.269781  [38464/60000]\n",
      "loss: 0.502214  [44864/60000]\n",
      "loss: 0.284379  [51264/60000]\n",
      "loss: 0.250783  [57664/60000]\n",
      "Test Error: \n",
      " Accuracy: 83.4%, Avg loss: 0.504634 \n",
      "\n",
      "Epoch 7\n",
      "-------------------------------\n",
      "loss: 0.311553  [   64/60000]\n",
      "loss: 0.355935  [ 6464/60000]\n",
      "loss: 0.186452  [12864/60000]\n",
      "loss: 0.492965  [19264/60000]\n",
      "loss: 0.327431  [25664/60000]\n",
      "loss: 0.329432  [32064/60000]\n",
      "loss: 0.299191  [38464/60000]\n",
      "loss: 0.502774  [44864/60000]\n",
      "loss: 0.342072  [51264/60000]\n",
      "loss: 0.241815  [57664/60000]\n",
      "Test Error: \n",
      " Accuracy: 86.2%, Avg loss: 0.407723 \n",
      "\n",
      "Epoch 8\n",
      "-------------------------------\n",
      "loss: 0.318140  [   64/60000]\n",
      "loss: 0.240476  [ 6464/60000]\n",
      "loss: 0.322138  [12864/60000]\n",
      "loss: 0.361101  [19264/60000]\n",
      "loss: 0.279245  [25664/60000]\n",
      "loss: 0.241761  [32064/60000]\n",
      "loss: 0.296020  [38464/60000]\n",
      "loss: 0.587597  [44864/60000]\n",
      "loss: 0.123009  [51264/60000]\n",
      "loss: 0.243298  [57664/60000]\n",
      "Test Error: \n",
      " Accuracy: 87.3%, Avg loss: 0.381812 \n",
      "\n",
      "Epoch 9\n",
      "-------------------------------\n",
      "loss: 0.343996  [   64/60000]\n",
      "loss: 0.291138  [ 6464/60000]\n",
      "loss: 0.605835  [12864/60000]\n",
      "loss: 0.336124  [19264/60000]\n",
      "loss: 0.256622  [25664/60000]\n",
      "loss: 0.192277  [32064/60000]\n",
      "loss: 0.347393  [38464/60000]\n",
      "loss: 0.442207  [44864/60000]\n",
      "loss: 0.276539  [51264/60000]\n",
      "loss: 0.385867  [57664/60000]\n",
      "Test Error: \n",
      " Accuracy: 85.1%, Avg loss: 0.436468 \n",
      "\n",
      "Epoch 10\n",
      "-------------------------------\n",
      "loss: 0.322724  [   64/60000]\n",
      "loss: 0.471147  [ 6464/60000]\n",
      "loss: 0.128673  [12864/60000]\n",
      "loss: 0.258664  [19264/60000]\n",
      "loss: 0.445297  [25664/60000]\n",
      "loss: 0.207161  [32064/60000]\n",
      "loss: 0.279721  [38464/60000]\n",
      "loss: 0.382631  [44864/60000]\n",
      "loss: 0.250003  [51264/60000]\n",
      "loss: 0.262245  [57664/60000]\n",
      "Test Error: \n",
      " Accuracy: 87.1%, Avg loss: 0.393915 \n",
      "\n",
      "Epoch 11\n",
      "-------------------------------\n",
      "loss: 0.196029  [   64/60000]\n",
      "loss: 0.235152  [ 6464/60000]\n",
      "loss: 0.236653  [12864/60000]\n",
      "loss: 0.293132  [19264/60000]\n",
      "loss: 0.387385  [25664/60000]\n",
      "loss: 0.374632  [32064/60000]\n",
      "loss: 0.275302  [38464/60000]\n",
      "loss: 0.336015  [44864/60000]\n",
      "loss: 0.393879  [51264/60000]\n",
      "loss: 0.187139  [57664/60000]\n",
      "Test Error: \n",
      " Accuracy: 87.2%, Avg loss: 0.380063 \n",
      "\n",
      "Epoch 12\n",
      "-------------------------------\n",
      "loss: 0.138563  [   64/60000]\n",
      "loss: 0.374609  [ 6464/60000]\n",
      "loss: 0.350994  [12864/60000]\n",
      "loss: 0.297285  [19264/60000]\n",
      "loss: 0.244492  [25664/60000]\n",
      "loss: 0.203891  [32064/60000]\n",
      "loss: 0.378115  [38464/60000]\n",
      "loss: 0.269311  [44864/60000]\n",
      "loss: 0.297094  [51264/60000]\n",
      "loss: 0.226612  [57664/60000]\n",
      "Test Error: \n",
      " Accuracy: 87.2%, Avg loss: 0.375498 \n",
      "\n",
      "Epoch 13\n",
      "-------------------------------\n",
      "loss: 0.115385  [   64/60000]\n",
      "loss: 0.279899  [ 6464/60000]\n",
      "loss: 0.208463  [12864/60000]\n",
      "loss: 0.272084  [19264/60000]\n",
      "loss: 0.309856  [25664/60000]\n",
      "loss: 0.312757  [32064/60000]\n",
      "loss: 0.415198  [38464/60000]\n",
      "loss: 0.327174  [44864/60000]\n",
      "loss: 0.232806  [51264/60000]\n",
      "loss: 0.325595  [57664/60000]\n",
      "Test Error: \n",
      " Accuracy: 85.9%, Avg loss: 0.398438 \n",
      "\n",
      "Epoch 14\n",
      "-------------------------------\n",
      "loss: 0.390414  [   64/60000]\n",
      "loss: 0.298022  [ 6464/60000]\n",
      "loss: 0.302245  [12864/60000]\n",
      "loss: 0.269123  [19264/60000]\n",
      "loss: 0.251682  [25664/60000]\n",
      "loss: 0.289857  [32064/60000]\n",
      "loss: 0.370918  [38464/60000]\n",
      "loss: 0.314201  [44864/60000]\n",
      "loss: 0.247198  [51264/60000]\n",
      "loss: 0.343693  [57664/60000]\n",
      "Test Error: \n",
      " Accuracy: 85.5%, Avg loss: 0.412927 \n",
      "\n",
      "Epoch 15\n",
      "-------------------------------\n",
      "loss: 0.266388  [   64/60000]\n",
      "loss: 0.249816  [ 6464/60000]\n",
      "loss: 0.185251  [12864/60000]\n",
      "loss: 0.294914  [19264/60000]\n",
      "loss: 0.239977  [25664/60000]\n",
      "loss: 0.205741  [32064/60000]\n",
      "loss: 0.235147  [38464/60000]\n",
      "loss: 0.287057  [44864/60000]\n",
      "loss: 0.293784  [51264/60000]\n",
      "loss: 0.318822  [57664/60000]\n",
      "Test Error: \n",
      " Accuracy: 86.6%, Avg loss: 0.400356 \n",
      "\n",
      "Epoch 16\n",
      "-------------------------------\n",
      "loss: 0.211554  [   64/60000]\n",
      "loss: 0.217532  [ 6464/60000]\n",
      "loss: 0.182134  [12864/60000]\n",
      "loss: 0.317931  [19264/60000]\n",
      "loss: 0.199677  [25664/60000]\n",
      "loss: 0.144346  [32064/60000]\n",
      "loss: 0.400376  [38464/60000]\n",
      "loss: 0.223523  [44864/60000]\n",
      "loss: 0.330655  [51264/60000]\n",
      "loss: 0.490837  [57664/60000]\n",
      "Test Error: \n",
      " Accuracy: 86.7%, Avg loss: 0.405822 \n",
      "\n",
      "Epoch 17\n",
      "-------------------------------\n",
      "loss: 0.380460  [   64/60000]\n",
      "loss: 0.289781  [ 6464/60000]\n",
      "loss: 0.247593  [12864/60000]\n",
      "loss: 0.243058  [19264/60000]\n",
      "loss: 0.190608  [25664/60000]\n",
      "loss: 0.355292  [32064/60000]\n",
      "loss: 0.383164  [38464/60000]\n",
      "loss: 0.396644  [44864/60000]\n",
      "loss: 0.308228  [51264/60000]\n",
      "loss: 0.199842  [57664/60000]\n",
      "Test Error: \n",
      " Accuracy: 86.6%, Avg loss: 0.448017 \n",
      "\n",
      "Epoch 18\n",
      "-------------------------------\n",
      "loss: 0.300747  [   64/60000]\n",
      "loss: 0.282252  [ 6464/60000]\n",
      "loss: 0.305386  [12864/60000]\n",
      "loss: 0.319163  [19264/60000]\n",
      "loss: 0.422513  [25664/60000]\n",
      "loss: 0.342888  [32064/60000]\n",
      "loss: 0.174112  [38464/60000]\n",
      "loss: 0.282288  [44864/60000]\n",
      "loss: 0.292865  [51264/60000]\n",
      "loss: 0.367946  [57664/60000]\n",
      "Test Error: \n",
      " Accuracy: 85.7%, Avg loss: 0.474603 \n",
      "\n",
      "Epoch 19\n",
      "-------------------------------\n",
      "loss: 0.212412  [   64/60000]\n",
      "loss: 0.244655  [ 6464/60000]\n",
      "loss: 0.305006  [12864/60000]\n",
      "loss: 0.376079  [19264/60000]\n",
      "loss: 0.310466  [25664/60000]\n",
      "loss: 0.432473  [32064/60000]\n",
      "loss: 0.234901  [38464/60000]\n",
      "loss: 0.255987  [44864/60000]\n",
      "loss: 0.226410  [51264/60000]\n",
      "loss: 0.273241  [57664/60000]\n",
      "Test Error: \n",
      " Accuracy: 86.8%, Avg loss: 0.419149 \n",
      "\n",
      "Epoch 20\n",
      "-------------------------------\n",
      "loss: 0.261781  [   64/60000]\n",
      "loss: 0.491248  [ 6464/60000]\n",
      "loss: 0.303670  [12864/60000]\n",
      "loss: 0.191542  [19264/60000]\n",
      "loss: 0.225423  [25664/60000]\n",
      "loss: 0.515792  [32064/60000]\n",
      "loss: 0.241861  [38464/60000]\n",
      "loss: 0.293406  [44864/60000]\n",
      "loss: 0.231096  [51264/60000]\n",
      "loss: 0.478521  [57664/60000]\n",
      "Test Error: \n",
      " Accuracy: 86.7%, Avg loss: 0.447547 \n",
      "\n",
      "\n",
      "Training with MSELoss and SGD\n",
      "Epoch 1\n",
      "-------------------------------\n",
      "loss: 108.596336  [   64/60000]\n",
      "loss:     nan  [ 6464/60000]\n",
      "loss:     nan  [12864/60000]\n",
      "loss:     nan  [19264/60000]\n",
      "loss:     nan  [25664/60000]\n",
      "loss:     nan  [32064/60000]\n",
      "loss:     nan  [38464/60000]\n",
      "loss:     nan  [44864/60000]\n",
      "loss:     nan  [51264/60000]\n",
      "loss:     nan  [57664/60000]\n",
      "Test Error: \n",
      " Accuracy: 10.0%, Avg loss:      nan \n",
      "\n",
      "Epoch 2\n",
      "-------------------------------\n",
      "loss:     nan  [   64/60000]\n",
      "loss:     nan  [ 6464/60000]\n",
      "loss:     nan  [12864/60000]\n",
      "loss:     nan  [19264/60000]\n",
      "loss:     nan  [25664/60000]\n",
      "loss:     nan  [32064/60000]\n",
      "loss:     nan  [38464/60000]\n",
      "loss:     nan  [44864/60000]\n",
      "loss:     nan  [51264/60000]\n",
      "loss:     nan  [57664/60000]\n",
      "Test Error: \n",
      " Accuracy: 10.0%, Avg loss:      nan \n",
      "\n",
      "Epoch 3\n",
      "-------------------------------\n",
      "loss:     nan  [   64/60000]\n",
      "loss:     nan  [ 6464/60000]\n",
      "loss:     nan  [12864/60000]\n",
      "loss:     nan  [19264/60000]\n",
      "loss:     nan  [25664/60000]\n",
      "loss:     nan  [32064/60000]\n",
      "loss:     nan  [38464/60000]\n",
      "loss:     nan  [44864/60000]\n",
      "loss:     nan  [51264/60000]\n",
      "loss:     nan  [57664/60000]\n",
      "Test Error: \n",
      " Accuracy: 10.0%, Avg loss:      nan \n",
      "\n",
      "Epoch 4\n",
      "-------------------------------\n",
      "loss:     nan  [   64/60000]\n",
      "loss:     nan  [ 6464/60000]\n",
      "loss:     nan  [12864/60000]\n",
      "loss:     nan  [19264/60000]\n",
      "loss:     nan  [25664/60000]\n",
      "loss:     nan  [32064/60000]\n",
      "loss:     nan  [38464/60000]\n",
      "loss:     nan  [44864/60000]\n",
      "loss:     nan  [51264/60000]\n",
      "loss:     nan  [57664/60000]\n",
      "Test Error: \n",
      " Accuracy: 10.0%, Avg loss:      nan \n",
      "\n",
      "Epoch 5\n",
      "-------------------------------\n",
      "loss:     nan  [   64/60000]\n",
      "loss:     nan  [ 6464/60000]\n",
      "loss:     nan  [12864/60000]\n",
      "loss:     nan  [19264/60000]\n",
      "loss:     nan  [25664/60000]\n",
      "loss:     nan  [32064/60000]\n",
      "loss:     nan  [38464/60000]\n",
      "loss:     nan  [44864/60000]\n",
      "loss:     nan  [51264/60000]\n",
      "loss:     nan  [57664/60000]\n",
      "Test Error: \n",
      " Accuracy: 10.0%, Avg loss:      nan \n",
      "\n",
      "Epoch 6\n",
      "-------------------------------\n",
      "loss:     nan  [   64/60000]\n",
      "loss:     nan  [ 6464/60000]\n",
      "loss:     nan  [12864/60000]\n",
      "loss:     nan  [19264/60000]\n",
      "loss:     nan  [25664/60000]\n",
      "loss:     nan  [32064/60000]\n",
      "loss:     nan  [38464/60000]\n",
      "loss:     nan  [44864/60000]\n",
      "loss:     nan  [51264/60000]\n",
      "loss:     nan  [57664/60000]\n",
      "Test Error: \n",
      " Accuracy: 10.0%, Avg loss:      nan \n",
      "\n",
      "Epoch 7\n",
      "-------------------------------\n",
      "loss:     nan  [   64/60000]\n",
      "loss:     nan  [ 6464/60000]\n",
      "loss:     nan  [12864/60000]\n",
      "loss:     nan  [19264/60000]\n",
      "loss:     nan  [25664/60000]\n",
      "loss:     nan  [32064/60000]\n",
      "loss:     nan  [38464/60000]\n",
      "loss:     nan  [44864/60000]\n",
      "loss:     nan  [51264/60000]\n",
      "loss:     nan  [57664/60000]\n",
      "Test Error: \n",
      " Accuracy: 10.0%, Avg loss:      nan \n",
      "\n",
      "Epoch 8\n",
      "-------------------------------\n",
      "loss:     nan  [   64/60000]\n",
      "loss:     nan  [ 6464/60000]\n",
      "loss:     nan  [12864/60000]\n",
      "loss:     nan  [19264/60000]\n",
      "loss:     nan  [25664/60000]\n",
      "loss:     nan  [32064/60000]\n",
      "loss:     nan  [38464/60000]\n",
      "loss:     nan  [44864/60000]\n",
      "loss:     nan  [51264/60000]\n",
      "loss:     nan  [57664/60000]\n",
      "Test Error: \n",
      " Accuracy: 10.0%, Avg loss:      nan \n",
      "\n",
      "Epoch 9\n",
      "-------------------------------\n",
      "loss:     nan  [   64/60000]\n",
      "loss:     nan  [ 6464/60000]\n",
      "loss:     nan  [12864/60000]\n",
      "loss:     nan  [19264/60000]\n",
      "loss:     nan  [25664/60000]\n",
      "loss:     nan  [32064/60000]\n",
      "loss:     nan  [38464/60000]\n",
      "loss:     nan  [44864/60000]\n",
      "loss:     nan  [51264/60000]\n",
      "loss:     nan  [57664/60000]\n",
      "Test Error: \n",
      " Accuracy: 10.0%, Avg loss:      nan \n",
      "\n",
      "Epoch 10\n",
      "-------------------------------\n",
      "loss:     nan  [   64/60000]\n",
      "loss:     nan  [ 6464/60000]\n",
      "loss:     nan  [12864/60000]\n",
      "loss:     nan  [19264/60000]\n",
      "loss:     nan  [25664/60000]\n",
      "loss:     nan  [32064/60000]\n",
      "loss:     nan  [38464/60000]\n",
      "loss:     nan  [44864/60000]\n",
      "loss:     nan  [51264/60000]\n",
      "loss:     nan  [57664/60000]\n",
      "Test Error: \n",
      " Accuracy: 10.0%, Avg loss:      nan \n",
      "\n",
      "Epoch 11\n",
      "-------------------------------\n",
      "loss:     nan  [   64/60000]\n",
      "loss:     nan  [ 6464/60000]\n",
      "loss:     nan  [12864/60000]\n",
      "loss:     nan  [19264/60000]\n",
      "loss:     nan  [25664/60000]\n",
      "loss:     nan  [32064/60000]\n",
      "loss:     nan  [38464/60000]\n",
      "loss:     nan  [44864/60000]\n",
      "loss:     nan  [51264/60000]\n",
      "loss:     nan  [57664/60000]\n",
      "Test Error: \n",
      " Accuracy: 10.0%, Avg loss:      nan \n",
      "\n",
      "Epoch 12\n",
      "-------------------------------\n",
      "loss:     nan  [   64/60000]\n",
      "loss:     nan  [ 6464/60000]\n",
      "loss:     nan  [12864/60000]\n",
      "loss:     nan  [19264/60000]\n",
      "loss:     nan  [25664/60000]\n",
      "loss:     nan  [32064/60000]\n",
      "loss:     nan  [38464/60000]\n",
      "loss:     nan  [44864/60000]\n",
      "loss:     nan  [51264/60000]\n",
      "loss:     nan  [57664/60000]\n",
      "Test Error: \n",
      " Accuracy: 10.0%, Avg loss:      nan \n",
      "\n",
      "Epoch 13\n",
      "-------------------------------\n",
      "loss:     nan  [   64/60000]\n",
      "loss:     nan  [ 6464/60000]\n",
      "loss:     nan  [12864/60000]\n",
      "loss:     nan  [19264/60000]\n",
      "loss:     nan  [25664/60000]\n",
      "loss:     nan  [32064/60000]\n",
      "loss:     nan  [38464/60000]\n",
      "loss:     nan  [44864/60000]\n",
      "loss:     nan  [51264/60000]\n",
      "loss:     nan  [57664/60000]\n",
      "Test Error: \n",
      " Accuracy: 10.0%, Avg loss:      nan \n",
      "\n",
      "Epoch 14\n",
      "-------------------------------\n",
      "loss:     nan  [   64/60000]\n",
      "loss:     nan  [ 6464/60000]\n",
      "loss:     nan  [12864/60000]\n",
      "loss:     nan  [19264/60000]\n",
      "loss:     nan  [25664/60000]\n",
      "loss:     nan  [32064/60000]\n",
      "loss:     nan  [38464/60000]\n",
      "loss:     nan  [44864/60000]\n",
      "loss:     nan  [51264/60000]\n",
      "loss:     nan  [57664/60000]\n",
      "Test Error: \n",
      " Accuracy: 10.0%, Avg loss:      nan \n",
      "\n",
      "Epoch 15\n",
      "-------------------------------\n",
      "loss:     nan  [   64/60000]\n",
      "loss:     nan  [ 6464/60000]\n",
      "loss:     nan  [12864/60000]\n",
      "loss:     nan  [19264/60000]\n",
      "loss:     nan  [25664/60000]\n",
      "loss:     nan  [32064/60000]\n",
      "loss:     nan  [38464/60000]\n",
      "loss:     nan  [44864/60000]\n",
      "loss:     nan  [51264/60000]\n",
      "loss:     nan  [57664/60000]\n",
      "Test Error: \n",
      " Accuracy: 10.0%, Avg loss:      nan \n",
      "\n",
      "Epoch 16\n",
      "-------------------------------\n",
      "loss:     nan  [   64/60000]\n",
      "loss:     nan  [ 6464/60000]\n",
      "loss:     nan  [12864/60000]\n",
      "loss:     nan  [19264/60000]\n",
      "loss:     nan  [25664/60000]\n",
      "loss:     nan  [32064/60000]\n",
      "loss:     nan  [38464/60000]\n",
      "loss:     nan  [44864/60000]\n",
      "loss:     nan  [51264/60000]\n",
      "loss:     nan  [57664/60000]\n",
      "Test Error: \n",
      " Accuracy: 10.0%, Avg loss:      nan \n",
      "\n",
      "Epoch 17\n",
      "-------------------------------\n",
      "loss:     nan  [   64/60000]\n",
      "loss:     nan  [ 6464/60000]\n",
      "loss:     nan  [12864/60000]\n",
      "loss:     nan  [19264/60000]\n",
      "loss:     nan  [25664/60000]\n",
      "loss:     nan  [32064/60000]\n",
      "loss:     nan  [38464/60000]\n",
      "loss:     nan  [44864/60000]\n",
      "loss:     nan  [51264/60000]\n",
      "loss:     nan  [57664/60000]\n",
      "Test Error: \n",
      " Accuracy: 10.0%, Avg loss:      nan \n",
      "\n",
      "Epoch 18\n",
      "-------------------------------\n",
      "loss:     nan  [   64/60000]\n",
      "loss:     nan  [ 6464/60000]\n",
      "loss:     nan  [12864/60000]\n",
      "loss:     nan  [19264/60000]\n",
      "loss:     nan  [25664/60000]\n",
      "loss:     nan  [32064/60000]\n",
      "loss:     nan  [38464/60000]\n",
      "loss:     nan  [44864/60000]\n",
      "loss:     nan  [51264/60000]\n",
      "loss:     nan  [57664/60000]\n",
      "Test Error: \n",
      " Accuracy: 10.0%, Avg loss:      nan \n",
      "\n",
      "Epoch 19\n",
      "-------------------------------\n",
      "loss:     nan  [   64/60000]\n",
      "loss:     nan  [ 6464/60000]\n",
      "loss:     nan  [12864/60000]\n",
      "loss:     nan  [19264/60000]\n",
      "loss:     nan  [25664/60000]\n",
      "loss:     nan  [32064/60000]\n",
      "loss:     nan  [38464/60000]\n",
      "loss:     nan  [44864/60000]\n",
      "loss:     nan  [51264/60000]\n",
      "loss:     nan  [57664/60000]\n",
      "Test Error: \n",
      " Accuracy: 10.0%, Avg loss:      nan \n",
      "\n",
      "Epoch 20\n",
      "-------------------------------\n",
      "loss:     nan  [   64/60000]\n",
      "loss:     nan  [ 6464/60000]\n",
      "loss:     nan  [12864/60000]\n",
      "loss:     nan  [19264/60000]\n",
      "loss:     nan  [25664/60000]\n",
      "loss:     nan  [32064/60000]\n",
      "loss:     nan  [38464/60000]\n",
      "loss:     nan  [44864/60000]\n",
      "loss:     nan  [51264/60000]\n",
      "loss:     nan  [57664/60000]\n",
      "Test Error: \n",
      " Accuracy: 10.0%, Avg loss:      nan \n",
      "\n",
      "\n",
      "Training with MSELoss and Adam\n",
      "Epoch 1\n",
      "-------------------------------\n",
      "loss: 132.993698  [   64/60000]\n",
      "loss: 0.338274  [ 6464/60000]\n",
      "loss: 0.202051  [12864/60000]\n",
      "loss: 0.136575  [19264/60000]\n",
      "loss: 0.118438  [25664/60000]\n",
      "loss: 0.091187  [32064/60000]\n",
      "loss: 0.087538  [38464/60000]\n",
      "loss: 0.064493  [44864/60000]\n",
      "loss: 0.082258  [51264/60000]\n",
      "loss: 0.069517  [57664/60000]\n",
      "Test Error: \n",
      " Accuracy: 71.8%, Avg loss: 0.068725 \n",
      "\n",
      "Epoch 2\n",
      "-------------------------------\n",
      "loss: 0.071212  [   64/60000]\n",
      "loss: 0.069768  [ 6464/60000]\n",
      "loss: 0.060341  [12864/60000]\n",
      "loss: 0.058136  [19264/60000]\n",
      "loss: 0.053053  [25664/60000]\n",
      "loss: 0.048969  [32064/60000]\n",
      "loss: 0.053708  [38464/60000]\n",
      "loss: 0.047709  [44864/60000]\n",
      "loss: 0.053104  [51264/60000]\n",
      "loss: 0.046154  [57664/60000]\n",
      "Test Error: \n",
      " Accuracy: 78.5%, Avg loss: 0.052333 \n",
      "\n",
      "Epoch 3\n",
      "-------------------------------\n",
      "loss: 0.051259  [   64/60000]\n",
      "loss: 0.045386  [ 6464/60000]\n",
      "loss: 0.031695  [12864/60000]\n",
      "loss: 0.044064  [19264/60000]\n",
      "loss: 0.043508  [25664/60000]\n",
      "loss: 0.045674  [32064/60000]\n",
      "loss: 0.039967  [38464/60000]\n",
      "loss: 0.035223  [44864/60000]\n",
      "loss: 0.036053  [51264/60000]\n",
      "loss: 0.035298  [57664/60000]\n",
      "Test Error: \n",
      " Accuracy: 79.3%, Avg loss: 0.045603 \n",
      "\n",
      "Epoch 4\n",
      "-------------------------------\n",
      "loss: 0.045760  [   64/60000]\n",
      "loss: 0.038115  [ 6464/60000]\n",
      "loss: 0.038164  [12864/60000]\n",
      "loss: 0.036772  [19264/60000]\n",
      "loss: 0.034072  [25664/60000]\n",
      "loss: 0.034885  [32064/60000]\n",
      "loss: 0.022497  [38464/60000]\n",
      "loss: 0.033068  [44864/60000]\n",
      "loss: 0.032327  [51264/60000]\n",
      "loss: 0.038867  [57664/60000]\n",
      "Test Error: \n",
      " Accuracy: 83.1%, Avg loss: 0.032304 \n",
      "\n",
      "Epoch 5\n",
      "-------------------------------\n",
      "loss: 0.030280  [   64/60000]\n",
      "loss: 0.034158  [ 6464/60000]\n",
      "loss: 0.024722  [12864/60000]\n",
      "loss: 0.023946  [19264/60000]\n",
      "loss: 0.034249  [25664/60000]\n",
      "loss: 0.036511  [32064/60000]\n",
      "loss: 0.035455  [38464/60000]\n",
      "loss: 0.023325  [44864/60000]\n",
      "loss: 0.029009  [51264/60000]\n",
      "loss: 0.031109  [57664/60000]\n",
      "Test Error: \n",
      " Accuracy: 84.5%, Avg loss: 0.030864 \n",
      "\n",
      "Epoch 6\n",
      "-------------------------------\n",
      "loss: 0.030954  [   64/60000]\n",
      "loss: 0.034880  [ 6464/60000]\n",
      "loss: 0.023607  [12864/60000]\n",
      "loss: 0.032182  [19264/60000]\n",
      "loss: 0.039010  [25664/60000]\n",
      "loss: 0.032902  [32064/60000]\n",
      "loss: 0.027453  [38464/60000]\n",
      "loss: 0.029644  [44864/60000]\n",
      "loss: 0.026633  [51264/60000]\n",
      "loss: 0.029174  [57664/60000]\n",
      "Test Error: \n",
      " Accuracy: 83.8%, Avg loss: 0.030727 \n",
      "\n",
      "Epoch 7\n",
      "-------------------------------\n",
      "loss: 0.025151  [   64/60000]\n",
      "loss: 0.031464  [ 6464/60000]\n",
      "loss: 0.025070  [12864/60000]\n",
      "loss: 0.022846  [19264/60000]\n",
      "loss: 0.022642  [25664/60000]\n",
      "loss: 0.028551  [32064/60000]\n",
      "loss: 0.025403  [38464/60000]\n",
      "loss: 0.028555  [44864/60000]\n",
      "loss: 0.021398  [51264/60000]\n",
      "loss: 0.024170  [57664/60000]\n",
      "Test Error: \n",
      " Accuracy: 84.5%, Avg loss: 0.028570 \n",
      "\n",
      "Epoch 8\n",
      "-------------------------------\n",
      "loss: 0.022903  [   64/60000]\n",
      "loss: 0.027675  [ 6464/60000]\n",
      "loss: 0.020689  [12864/60000]\n",
      "loss: 0.023376  [19264/60000]\n",
      "loss: 0.019030  [25664/60000]\n",
      "loss: 0.022308  [32064/60000]\n",
      "loss: 0.031586  [38464/60000]\n",
      "loss: 0.025106  [44864/60000]\n",
      "loss: 0.023491  [51264/60000]\n",
      "loss: 0.017962  [57664/60000]\n",
      "Test Error: \n",
      " Accuracy: 84.9%, Avg loss: 0.027104 \n",
      "\n",
      "Epoch 9\n",
      "-------------------------------\n",
      "loss: 0.023110  [   64/60000]\n",
      "loss: 0.025428  [ 6464/60000]\n",
      "loss: 0.025442  [12864/60000]\n",
      "loss: 0.017623  [19264/60000]\n",
      "loss: 0.018889  [25664/60000]\n",
      "loss: 0.016517  [32064/60000]\n",
      "loss: 0.024224  [38464/60000]\n",
      "loss: 0.026913  [44864/60000]\n",
      "loss: 0.028525  [51264/60000]\n",
      "loss: 0.023722  [57664/60000]\n",
      "Test Error: \n",
      " Accuracy: 85.2%, Avg loss: 0.026642 \n",
      "\n",
      "Epoch 10\n",
      "-------------------------------\n",
      "loss: 0.031937  [   64/60000]\n",
      "loss: 0.014693  [ 6464/60000]\n",
      "loss: 0.017774  [12864/60000]\n",
      "loss: 0.030386  [19264/60000]\n",
      "loss: 0.022230  [25664/60000]\n",
      "loss: 0.022481  [32064/60000]\n",
      "loss: 0.023020  [38464/60000]\n",
      "loss: 0.020285  [44864/60000]\n",
      "loss: 0.020396  [51264/60000]\n",
      "loss: 0.024958  [57664/60000]\n",
      "Test Error: \n",
      " Accuracy: 84.8%, Avg loss: 0.025302 \n",
      "\n",
      "Epoch 11\n",
      "-------------------------------\n",
      "loss: 0.019045  [   64/60000]\n",
      "loss: 0.018096  [ 6464/60000]\n",
      "loss: 0.021948  [12864/60000]\n",
      "loss: 0.039760  [19264/60000]\n",
      "loss: 0.027057  [25664/60000]\n",
      "loss: 0.024156  [32064/60000]\n",
      "loss: 0.021872  [38464/60000]\n",
      "loss: 0.024166  [44864/60000]\n",
      "loss: 0.020733  [51264/60000]\n",
      "loss: 0.021829  [57664/60000]\n",
      "Test Error: \n",
      " Accuracy: 85.2%, Avg loss: 0.026443 \n",
      "\n",
      "Epoch 12\n",
      "-------------------------------\n",
      "loss: 0.019125  [   64/60000]\n",
      "loss: 0.024007  [ 6464/60000]\n",
      "loss: 0.026101  [12864/60000]\n",
      "loss: 0.014317  [19264/60000]\n",
      "loss: 0.025375  [25664/60000]\n",
      "loss: 0.018885  [32064/60000]\n",
      "loss: 0.021888  [38464/60000]\n",
      "loss: 0.018195  [44864/60000]\n",
      "loss: 0.024362  [51264/60000]\n",
      "loss: 0.024515  [57664/60000]\n",
      "Test Error: \n",
      " Accuracy: 85.6%, Avg loss: 0.024374 \n",
      "\n",
      "Epoch 13\n",
      "-------------------------------\n",
      "loss: 0.024193  [   64/60000]\n",
      "loss: 0.017282  [ 6464/60000]\n",
      "loss: 0.022350  [12864/60000]\n",
      "loss: 0.017792  [19264/60000]\n",
      "loss: 0.020304  [25664/60000]\n",
      "loss: 0.016180  [32064/60000]\n",
      "loss: 0.020339  [38464/60000]\n",
      "loss: 0.015953  [44864/60000]\n",
      "loss: 0.019641  [51264/60000]\n",
      "loss: 0.015932  [57664/60000]\n",
      "Test Error: \n",
      " Accuracy: 85.8%, Avg loss: 0.025045 \n",
      "\n",
      "Epoch 14\n",
      "-------------------------------\n",
      "loss: 0.027123  [   64/60000]\n",
      "loss: 0.031264  [ 6464/60000]\n",
      "loss: 0.021441  [12864/60000]\n",
      "loss: 0.022768  [19264/60000]\n",
      "loss: 0.015108  [25664/60000]\n",
      "loss: 0.026096  [32064/60000]\n",
      "loss: 0.029979  [38464/60000]\n",
      "loss: 0.020148  [44864/60000]\n",
      "loss: 0.011220  [51264/60000]\n",
      "loss: 0.026493  [57664/60000]\n",
      "Test Error: \n",
      " Accuracy: 85.0%, Avg loss: 0.024628 \n",
      "\n",
      "Epoch 15\n",
      "-------------------------------\n",
      "loss: 0.016943  [   64/60000]\n",
      "loss: 0.015921  [ 6464/60000]\n",
      "loss: 0.019466  [12864/60000]\n",
      "loss: 0.023018  [19264/60000]\n",
      "loss: 0.022011  [25664/60000]\n",
      "loss: 0.016357  [32064/60000]\n",
      "loss: 0.022696  [38464/60000]\n",
      "loss: 0.017332  [44864/60000]\n",
      "loss: 0.025144  [51264/60000]\n",
      "loss: 0.026765  [57664/60000]\n",
      "Test Error: \n",
      " Accuracy: 85.5%, Avg loss: 0.025378 \n",
      "\n",
      "Epoch 16\n",
      "-------------------------------\n",
      "loss: 0.020355  [   64/60000]\n",
      "loss: 0.025873  [ 6464/60000]\n",
      "loss: 0.018466  [12864/60000]\n",
      "loss: 0.024270  [19264/60000]\n",
      "loss: 0.020820  [25664/60000]\n",
      "loss: 0.017001  [32064/60000]\n",
      "loss: 0.020284  [38464/60000]\n",
      "loss: 0.023654  [44864/60000]\n",
      "loss: 0.020192  [51264/60000]\n",
      "loss: 0.023667  [57664/60000]\n",
      "Test Error: \n",
      " Accuracy: 86.5%, Avg loss: 0.022338 \n",
      "\n",
      "Epoch 17\n",
      "-------------------------------\n",
      "loss: 0.012241  [   64/60000]\n",
      "loss: 0.020585  [ 6464/60000]\n",
      "loss: 0.021879  [12864/60000]\n",
      "loss: 0.011983  [19264/60000]\n",
      "loss: 0.018385  [25664/60000]\n",
      "loss: 0.019452  [32064/60000]\n",
      "loss: 0.026052  [38464/60000]\n",
      "loss: 0.018064  [44864/60000]\n",
      "loss: 0.017984  [51264/60000]\n",
      "loss: 0.012680  [57664/60000]\n",
      "Test Error: \n",
      " Accuracy: 85.7%, Avg loss: 0.024061 \n",
      "\n",
      "Epoch 18\n",
      "-------------------------------\n",
      "loss: 0.021214  [   64/60000]\n",
      "loss: 0.024199  [ 6464/60000]\n",
      "loss: 0.021025  [12864/60000]\n",
      "loss: 0.027922  [19264/60000]\n",
      "loss: 0.018220  [25664/60000]\n",
      "loss: 0.015195  [32064/60000]\n",
      "loss: 0.012108  [38464/60000]\n",
      "loss: 0.016558  [44864/60000]\n",
      "loss: 0.023952  [51264/60000]\n",
      "loss: 0.021111  [57664/60000]\n",
      "Test Error: \n",
      " Accuracy: 86.1%, Avg loss: 0.024151 \n",
      "\n",
      "Epoch 19\n",
      "-------------------------------\n",
      "loss: 0.015702  [   64/60000]\n",
      "loss: 0.013352  [ 6464/60000]\n",
      "loss: 0.021110  [12864/60000]\n",
      "loss: 0.012689  [19264/60000]\n",
      "loss: 0.021992  [25664/60000]\n",
      "loss: 0.011005  [32064/60000]\n",
      "loss: 0.015803  [38464/60000]\n",
      "loss: 0.017573  [44864/60000]\n",
      "loss: 0.031370  [51264/60000]\n",
      "loss: 0.021343  [57664/60000]\n",
      "Test Error: \n",
      " Accuracy: 86.5%, Avg loss: 0.022478 \n",
      "\n",
      "Epoch 20\n",
      "-------------------------------\n",
      "loss: 0.027768  [   64/60000]\n",
      "loss: 0.012964  [ 6464/60000]\n",
      "loss: 0.021052  [12864/60000]\n",
      "loss: 0.028002  [19264/60000]\n",
      "loss: 0.014271  [25664/60000]\n",
      "loss: 0.019943  [32064/60000]\n",
      "loss: 0.019474  [38464/60000]\n",
      "loss: 0.014226  [44864/60000]\n",
      "loss: 0.025910  [51264/60000]\n",
      "loss: 0.017729  [57664/60000]\n",
      "Test Error: \n",
      " Accuracy: 86.4%, Avg loss: 0.022617 \n",
      "\n",
      "\n",
      "Training with NLLLoss and SGD\n",
      "Epoch 1\n",
      "-------------------------------\n",
      "loss: 20.647804  [   64/60000]\n",
      "loss:     nan  [ 6464/60000]\n",
      "loss:     nan  [12864/60000]\n",
      "loss:     nan  [19264/60000]\n",
      "loss:     nan  [25664/60000]\n",
      "loss:     nan  [32064/60000]\n",
      "loss:     nan  [38464/60000]\n",
      "loss:     nan  [44864/60000]\n",
      "loss:     nan  [51264/60000]\n",
      "loss:     nan  [57664/60000]\n",
      "Test Error: \n",
      " Accuracy: 10.0%, Avg loss:      nan \n",
      "\n",
      "Epoch 2\n",
      "-------------------------------\n",
      "loss:     nan  [   64/60000]\n",
      "loss:     nan  [ 6464/60000]\n",
      "loss:     nan  [12864/60000]\n",
      "loss:     nan  [19264/60000]\n",
      "loss:     nan  [25664/60000]\n",
      "loss:     nan  [32064/60000]\n",
      "loss:     nan  [38464/60000]\n",
      "loss:     nan  [44864/60000]\n",
      "loss:     nan  [51264/60000]\n",
      "loss:     nan  [57664/60000]\n",
      "Test Error: \n",
      " Accuracy: 10.0%, Avg loss:      nan \n",
      "\n",
      "Epoch 3\n",
      "-------------------------------\n",
      "loss:     nan  [   64/60000]\n",
      "loss:     nan  [ 6464/60000]\n",
      "loss:     nan  [12864/60000]\n",
      "loss:     nan  [19264/60000]\n",
      "loss:     nan  [25664/60000]\n",
      "loss:     nan  [32064/60000]\n",
      "loss:     nan  [38464/60000]\n",
      "loss:     nan  [44864/60000]\n",
      "loss:     nan  [51264/60000]\n",
      "loss:     nan  [57664/60000]\n",
      "Test Error: \n",
      " Accuracy: 10.0%, Avg loss:      nan \n",
      "\n",
      "Epoch 4\n",
      "-------------------------------\n",
      "loss:     nan  [   64/60000]\n",
      "loss:     nan  [ 6464/60000]\n",
      "loss:     nan  [12864/60000]\n",
      "loss:     nan  [19264/60000]\n",
      "loss:     nan  [25664/60000]\n",
      "loss:     nan  [32064/60000]\n",
      "loss:     nan  [38464/60000]\n",
      "loss:     nan  [44864/60000]\n",
      "loss:     nan  [51264/60000]\n",
      "loss:     nan  [57664/60000]\n",
      "Test Error: \n",
      " Accuracy: 10.0%, Avg loss:      nan \n",
      "\n",
      "Epoch 5\n",
      "-------------------------------\n",
      "loss:     nan  [   64/60000]\n",
      "loss:     nan  [ 6464/60000]\n",
      "loss:     nan  [12864/60000]\n",
      "loss:     nan  [19264/60000]\n",
      "loss:     nan  [25664/60000]\n",
      "loss:     nan  [32064/60000]\n",
      "loss:     nan  [38464/60000]\n",
      "loss:     nan  [44864/60000]\n",
      "loss:     nan  [51264/60000]\n",
      "loss:     nan  [57664/60000]\n",
      "Test Error: \n",
      " Accuracy: 10.0%, Avg loss:      nan \n",
      "\n",
      "Epoch 6\n",
      "-------------------------------\n",
      "loss:     nan  [   64/60000]\n",
      "loss:     nan  [ 6464/60000]\n",
      "loss:     nan  [12864/60000]\n",
      "loss:     nan  [19264/60000]\n",
      "loss:     nan  [25664/60000]\n",
      "loss:     nan  [32064/60000]\n",
      "loss:     nan  [38464/60000]\n",
      "loss:     nan  [44864/60000]\n",
      "loss:     nan  [51264/60000]\n",
      "loss:     nan  [57664/60000]\n",
      "Test Error: \n",
      " Accuracy: 10.0%, Avg loss:      nan \n",
      "\n",
      "Epoch 7\n",
      "-------------------------------\n",
      "loss:     nan  [   64/60000]\n",
      "loss:     nan  [ 6464/60000]\n",
      "loss:     nan  [12864/60000]\n",
      "loss:     nan  [19264/60000]\n",
      "loss:     nan  [25664/60000]\n",
      "loss:     nan  [32064/60000]\n",
      "loss:     nan  [38464/60000]\n",
      "loss:     nan  [44864/60000]\n",
      "loss:     nan  [51264/60000]\n",
      "loss:     nan  [57664/60000]\n",
      "Test Error: \n",
      " Accuracy: 10.0%, Avg loss:      nan \n",
      "\n",
      "Epoch 8\n",
      "-------------------------------\n",
      "loss:     nan  [   64/60000]\n",
      "loss:     nan  [ 6464/60000]\n",
      "loss:     nan  [12864/60000]\n",
      "loss:     nan  [19264/60000]\n",
      "loss:     nan  [25664/60000]\n",
      "loss:     nan  [32064/60000]\n",
      "loss:     nan  [38464/60000]\n",
      "loss:     nan  [44864/60000]\n",
      "loss:     nan  [51264/60000]\n",
      "loss:     nan  [57664/60000]\n",
      "Test Error: \n",
      " Accuracy: 10.0%, Avg loss:      nan \n",
      "\n",
      "Epoch 9\n",
      "-------------------------------\n",
      "loss:     nan  [   64/60000]\n",
      "loss:     nan  [ 6464/60000]\n",
      "loss:     nan  [12864/60000]\n",
      "loss:     nan  [19264/60000]\n",
      "loss:     nan  [25664/60000]\n",
      "loss:     nan  [32064/60000]\n",
      "loss:     nan  [38464/60000]\n",
      "loss:     nan  [44864/60000]\n",
      "loss:     nan  [51264/60000]\n",
      "loss:     nan  [57664/60000]\n",
      "Test Error: \n",
      " Accuracy: 10.0%, Avg loss:      nan \n",
      "\n",
      "Epoch 10\n",
      "-------------------------------\n",
      "loss:     nan  [   64/60000]\n",
      "loss:     nan  [ 6464/60000]\n",
      "loss:     nan  [12864/60000]\n",
      "loss:     nan  [19264/60000]\n",
      "loss:     nan  [25664/60000]\n",
      "loss:     nan  [32064/60000]\n",
      "loss:     nan  [38464/60000]\n",
      "loss:     nan  [44864/60000]\n",
      "loss:     nan  [51264/60000]\n",
      "loss:     nan  [57664/60000]\n",
      "Test Error: \n",
      " Accuracy: 10.0%, Avg loss:      nan \n",
      "\n",
      "Epoch 11\n",
      "-------------------------------\n",
      "loss:     nan  [   64/60000]\n",
      "loss:     nan  [ 6464/60000]\n",
      "loss:     nan  [12864/60000]\n",
      "loss:     nan  [19264/60000]\n",
      "loss:     nan  [25664/60000]\n",
      "loss:     nan  [32064/60000]\n",
      "loss:     nan  [38464/60000]\n",
      "loss:     nan  [44864/60000]\n",
      "loss:     nan  [51264/60000]\n",
      "loss:     nan  [57664/60000]\n",
      "Test Error: \n",
      " Accuracy: 10.0%, Avg loss:      nan \n",
      "\n",
      "Epoch 12\n",
      "-------------------------------\n",
      "loss:     nan  [   64/60000]\n",
      "loss:     nan  [ 6464/60000]\n",
      "loss:     nan  [12864/60000]\n",
      "loss:     nan  [19264/60000]\n",
      "loss:     nan  [25664/60000]\n",
      "loss:     nan  [32064/60000]\n",
      "loss:     nan  [38464/60000]\n",
      "loss:     nan  [44864/60000]\n",
      "loss:     nan  [51264/60000]\n",
      "loss:     nan  [57664/60000]\n",
      "Test Error: \n",
      " Accuracy: 10.0%, Avg loss:      nan \n",
      "\n",
      "Epoch 13\n",
      "-------------------------------\n",
      "loss:     nan  [   64/60000]\n",
      "loss:     nan  [ 6464/60000]\n",
      "loss:     nan  [12864/60000]\n",
      "loss:     nan  [19264/60000]\n",
      "loss:     nan  [25664/60000]\n",
      "loss:     nan  [32064/60000]\n",
      "loss:     nan  [38464/60000]\n",
      "loss:     nan  [44864/60000]\n",
      "loss:     nan  [51264/60000]\n",
      "loss:     nan  [57664/60000]\n",
      "Test Error: \n",
      " Accuracy: 10.0%, Avg loss:      nan \n",
      "\n",
      "Epoch 14\n",
      "-------------------------------\n",
      "loss:     nan  [   64/60000]\n",
      "loss:     nan  [ 6464/60000]\n",
      "loss:     nan  [12864/60000]\n",
      "loss:     nan  [19264/60000]\n",
      "loss:     nan  [25664/60000]\n",
      "loss:     nan  [32064/60000]\n",
      "loss:     nan  [38464/60000]\n",
      "loss:     nan  [44864/60000]\n",
      "loss:     nan  [51264/60000]\n",
      "loss:     nan  [57664/60000]\n",
      "Test Error: \n",
      " Accuracy: 10.0%, Avg loss:      nan \n",
      "\n",
      "Epoch 15\n",
      "-------------------------------\n",
      "loss:     nan  [   64/60000]\n",
      "loss:     nan  [ 6464/60000]\n",
      "loss:     nan  [12864/60000]\n",
      "loss:     nan  [19264/60000]\n",
      "loss:     nan  [25664/60000]\n",
      "loss:     nan  [32064/60000]\n",
      "loss:     nan  [38464/60000]\n",
      "loss:     nan  [44864/60000]\n",
      "loss:     nan  [51264/60000]\n",
      "loss:     nan  [57664/60000]\n",
      "Test Error: \n",
      " Accuracy: 10.0%, Avg loss:      nan \n",
      "\n",
      "Epoch 16\n",
      "-------------------------------\n",
      "loss:     nan  [   64/60000]\n",
      "loss:     nan  [ 6464/60000]\n",
      "loss:     nan  [12864/60000]\n",
      "loss:     nan  [19264/60000]\n",
      "loss:     nan  [25664/60000]\n",
      "loss:     nan  [32064/60000]\n",
      "loss:     nan  [38464/60000]\n",
      "loss:     nan  [44864/60000]\n",
      "loss:     nan  [51264/60000]\n",
      "loss:     nan  [57664/60000]\n",
      "Test Error: \n",
      " Accuracy: 10.0%, Avg loss:      nan \n",
      "\n",
      "Epoch 17\n",
      "-------------------------------\n",
      "loss:     nan  [   64/60000]\n",
      "loss:     nan  [ 6464/60000]\n",
      "loss:     nan  [12864/60000]\n",
      "loss:     nan  [19264/60000]\n",
      "loss:     nan  [25664/60000]\n",
      "loss:     nan  [32064/60000]\n",
      "loss:     nan  [38464/60000]\n",
      "loss:     nan  [44864/60000]\n",
      "loss:     nan  [51264/60000]\n",
      "loss:     nan  [57664/60000]\n",
      "Test Error: \n",
      " Accuracy: 10.0%, Avg loss:      nan \n",
      "\n",
      "Epoch 18\n",
      "-------------------------------\n",
      "loss:     nan  [   64/60000]\n",
      "loss:     nan  [ 6464/60000]\n",
      "loss:     nan  [12864/60000]\n",
      "loss:     nan  [19264/60000]\n",
      "loss:     nan  [25664/60000]\n",
      "loss:     nan  [32064/60000]\n",
      "loss:     nan  [38464/60000]\n",
      "loss:     nan  [44864/60000]\n",
      "loss:     nan  [51264/60000]\n",
      "loss:     nan  [57664/60000]\n",
      "Test Error: \n",
      " Accuracy: 10.0%, Avg loss:      nan \n",
      "\n",
      "Epoch 19\n",
      "-------------------------------\n",
      "loss:     nan  [   64/60000]\n",
      "loss:     nan  [ 6464/60000]\n",
      "loss:     nan  [12864/60000]\n",
      "loss:     nan  [19264/60000]\n",
      "loss:     nan  [25664/60000]\n",
      "loss:     nan  [32064/60000]\n",
      "loss:     nan  [38464/60000]\n",
      "loss:     nan  [44864/60000]\n",
      "loss:     nan  [51264/60000]\n",
      "loss:     nan  [57664/60000]\n",
      "Test Error: \n",
      " Accuracy: 10.0%, Avg loss:      nan \n",
      "\n",
      "Epoch 20\n",
      "-------------------------------\n",
      "loss:     nan  [   64/60000]\n",
      "loss:     nan  [ 6464/60000]\n",
      "loss:     nan  [12864/60000]\n",
      "loss:     nan  [19264/60000]\n",
      "loss:     nan  [25664/60000]\n",
      "loss:     nan  [32064/60000]\n",
      "loss:     nan  [38464/60000]\n",
      "loss:     nan  [44864/60000]\n",
      "loss:     nan  [51264/60000]\n",
      "loss:     nan  [57664/60000]\n",
      "Test Error: \n",
      " Accuracy: 10.0%, Avg loss:      nan \n",
      "\n",
      "\n",
      "Training with NLLLoss and Adam\n",
      "Epoch 1\n",
      "-------------------------------\n",
      "loss: 17.749342  [   64/60000]\n",
      "loss: 0.574299  [ 6464/60000]\n",
      "loss: 0.808341  [12864/60000]\n",
      "loss: 0.435621  [19264/60000]\n",
      "loss: 0.321172  [25664/60000]\n",
      "loss: 0.388875  [32064/60000]\n",
      "loss: 0.388452  [38464/60000]\n",
      "loss: 0.452466  [44864/60000]\n",
      "loss: 0.313819  [51264/60000]\n",
      "loss: 0.410270  [57664/60000]\n",
      "Test Error: \n",
      " Accuracy: 83.5%, Avg loss: 0.470241 \n",
      "\n",
      "Epoch 2\n",
      "-------------------------------\n",
      "loss: 0.317529  [   64/60000]\n",
      "loss: 0.518798  [ 6464/60000]\n",
      "loss: 0.243979  [12864/60000]\n",
      "loss: 0.393675  [19264/60000]\n",
      "loss: 0.419896  [25664/60000]\n",
      "loss: 0.579945  [32064/60000]\n",
      "loss: 0.403320  [38464/60000]\n",
      "loss: 0.744866  [44864/60000]\n",
      "loss: 0.380559  [51264/60000]\n",
      "loss: 0.344088  [57664/60000]\n",
      "Test Error: \n",
      " Accuracy: 84.4%, Avg loss: 0.436425 \n",
      "\n",
      "Epoch 3\n",
      "-------------------------------\n",
      "loss: 0.456025  [   64/60000]\n",
      "loss: 0.417602  [ 6464/60000]\n",
      "loss: 0.349672  [12864/60000]\n",
      "loss: 0.364661  [19264/60000]\n",
      "loss: 0.508111  [25664/60000]\n",
      "loss: 0.365573  [32064/60000]\n",
      "loss: 0.176314  [38464/60000]\n",
      "loss: 0.320704  [44864/60000]\n",
      "loss: 0.433917  [51264/60000]\n",
      "loss: 0.433638  [57664/60000]\n",
      "Test Error: \n",
      " Accuracy: 85.6%, Avg loss: 0.408690 \n",
      "\n",
      "Epoch 4\n",
      "-------------------------------\n",
      "loss: 0.494651  [   64/60000]\n",
      "loss: 0.438733  [ 6464/60000]\n",
      "loss: 0.501302  [12864/60000]\n",
      "loss: 0.312425  [19264/60000]\n",
      "loss: 0.373478  [25664/60000]\n",
      "loss: 0.371144  [32064/60000]\n",
      "loss: 0.320365  [38464/60000]\n",
      "loss: 0.471014  [44864/60000]\n",
      "loss: 0.343269  [51264/60000]\n",
      "loss: 0.562320  [57664/60000]\n",
      "Test Error: \n",
      " Accuracy: 85.1%, Avg loss: 0.402114 \n",
      "\n",
      "Epoch 5\n",
      "-------------------------------\n",
      "loss: 0.300819  [   64/60000]\n",
      "loss: 0.236833  [ 6464/60000]\n",
      "loss: 0.531521  [12864/60000]\n",
      "loss: 0.370780  [19264/60000]\n",
      "loss: 0.340983  [25664/60000]\n",
      "loss: 0.337887  [32064/60000]\n",
      "loss: 0.410417  [38464/60000]\n",
      "loss: 0.361579  [44864/60000]\n",
      "loss: 0.700268  [51264/60000]\n",
      "loss: 0.350524  [57664/60000]\n",
      "Test Error: \n",
      " Accuracy: 85.6%, Avg loss: 0.400833 \n",
      "\n",
      "Epoch 6\n",
      "-------------------------------\n",
      "loss: 0.329528  [   64/60000]\n",
      "loss: 0.181417  [ 6464/60000]\n",
      "loss: 0.377718  [12864/60000]\n",
      "loss: 0.173119  [19264/60000]\n",
      "loss: 0.292931  [25664/60000]\n",
      "loss: 0.356688  [32064/60000]\n",
      "loss: 0.491393  [38464/60000]\n",
      "loss: 0.149136  [44864/60000]\n",
      "loss: 0.261115  [51264/60000]\n",
      "loss: 0.316932  [57664/60000]\n",
      "Test Error: \n",
      " Accuracy: 86.5%, Avg loss: 0.381796 \n",
      "\n",
      "Epoch 7\n",
      "-------------------------------\n",
      "loss: 0.413672  [   64/60000]\n",
      "loss: 0.179433  [ 6464/60000]\n",
      "loss: 0.334932  [12864/60000]\n",
      "loss: 0.252068  [19264/60000]\n",
      "loss: 0.400795  [25664/60000]\n",
      "loss: 0.209918  [32064/60000]\n",
      "loss: 0.418925  [38464/60000]\n",
      "loss: 0.226724  [44864/60000]\n",
      "loss: 0.353677  [51264/60000]\n",
      "loss: 0.718444  [57664/60000]\n",
      "Test Error: \n",
      " Accuracy: 84.9%, Avg loss: 0.410648 \n",
      "\n",
      "Epoch 8\n",
      "-------------------------------\n",
      "loss: 0.213602  [   64/60000]\n",
      "loss: 0.400831  [ 6464/60000]\n",
      "loss: 0.318604  [12864/60000]\n",
      "loss: 0.414316  [19264/60000]\n",
      "loss: 0.235199  [25664/60000]\n",
      "loss: 0.356347  [32064/60000]\n",
      "loss: 0.218676  [38464/60000]\n",
      "loss: 0.471151  [44864/60000]\n",
      "loss: 0.408828  [51264/60000]\n",
      "loss: 0.341028  [57664/60000]\n",
      "Test Error: \n",
      " Accuracy: 85.5%, Avg loss: 0.416838 \n",
      "\n",
      "Epoch 9\n",
      "-------------------------------\n",
      "loss: 0.397731  [   64/60000]\n",
      "loss: 0.309991  [ 6464/60000]\n",
      "loss: 0.281049  [12864/60000]\n",
      "loss: 0.398552  [19264/60000]\n",
      "loss: 0.176157  [25664/60000]\n",
      "loss: 0.233116  [32064/60000]\n",
      "loss: 0.294794  [38464/60000]\n",
      "loss: 0.553665  [44864/60000]\n",
      "loss: 0.197697  [51264/60000]\n",
      "loss: 0.361835  [57664/60000]\n",
      "Test Error: \n",
      " Accuracy: 84.8%, Avg loss: 0.434178 \n",
      "\n",
      "Epoch 10\n",
      "-------------------------------\n",
      "loss: 0.202250  [   64/60000]\n",
      "loss: 0.252517  [ 6464/60000]\n",
      "loss: 0.259193  [12864/60000]\n",
      "loss: 0.141262  [19264/60000]\n",
      "loss: 0.318631  [25664/60000]\n",
      "loss: 0.250988  [32064/60000]\n",
      "loss: 0.524793  [38464/60000]\n",
      "loss: 0.389974  [44864/60000]\n",
      "loss: 0.307639  [51264/60000]\n",
      "loss: 0.326820  [57664/60000]\n",
      "Test Error: \n",
      " Accuracy: 86.9%, Avg loss: 0.379643 \n",
      "\n",
      "Epoch 11\n",
      "-------------------------------\n",
      "loss: 0.270718  [   64/60000]\n",
      "loss: 0.293215  [ 6464/60000]\n",
      "loss: 0.381430  [12864/60000]\n",
      "loss: 0.474455  [19264/60000]\n",
      "loss: 0.464282  [25664/60000]\n",
      "loss: 0.184509  [32064/60000]\n",
      "loss: 0.164445  [38464/60000]\n",
      "loss: 0.331734  [44864/60000]\n",
      "loss: 0.359573  [51264/60000]\n",
      "loss: 0.286878  [57664/60000]\n",
      "Test Error: \n",
      " Accuracy: 85.9%, Avg loss: 0.409771 \n",
      "\n",
      "Epoch 12\n",
      "-------------------------------\n",
      "loss: 0.168237  [   64/60000]\n",
      "loss: 0.196812  [ 6464/60000]\n",
      "loss: 0.472278  [12864/60000]\n",
      "loss: 0.186977  [19264/60000]\n",
      "loss: 0.229653  [25664/60000]\n",
      "loss: 0.215836  [32064/60000]\n",
      "loss: 0.366629  [38464/60000]\n",
      "loss: 0.366620  [44864/60000]\n",
      "loss: 0.546998  [51264/60000]\n",
      "loss: 0.197717  [57664/60000]\n",
      "Test Error: \n",
      " Accuracy: 86.0%, Avg loss: 0.404317 \n",
      "\n",
      "Epoch 13\n",
      "-------------------------------\n",
      "loss: 0.494553  [   64/60000]\n",
      "loss: 0.342237  [ 6464/60000]\n",
      "loss: 0.319779  [12864/60000]\n",
      "loss: 0.237949  [19264/60000]\n",
      "loss: 0.226246  [25664/60000]\n",
      "loss: 0.384441  [32064/60000]\n",
      "loss: 0.357997  [38464/60000]\n",
      "loss: 0.221265  [44864/60000]\n",
      "loss: 0.301557  [51264/60000]\n",
      "loss: 0.192441  [57664/60000]\n",
      "Test Error: \n",
      " Accuracy: 86.6%, Avg loss: 0.409456 \n",
      "\n",
      "Epoch 14\n",
      "-------------------------------\n",
      "loss: 0.228260  [   64/60000]\n",
      "loss: 0.210779  [ 6464/60000]\n",
      "loss: 0.370603  [12864/60000]\n",
      "loss: 0.255095  [19264/60000]\n",
      "loss: 0.283133  [25664/60000]\n",
      "loss: 0.127908  [32064/60000]\n",
      "loss: 0.288442  [38464/60000]\n",
      "loss: 0.246109  [44864/60000]\n",
      "loss: 0.257362  [51264/60000]\n",
      "loss: 0.163936  [57664/60000]\n",
      "Test Error: \n",
      " Accuracy: 87.0%, Avg loss: 0.421363 \n",
      "\n",
      "Epoch 15\n",
      "-------------------------------\n",
      "loss: 0.254564  [   64/60000]\n",
      "loss: 0.226013  [ 6464/60000]\n",
      "loss: 0.181257  [12864/60000]\n",
      "loss: 0.318483  [19264/60000]\n",
      "loss: 0.159861  [25664/60000]\n",
      "loss: 0.133291  [32064/60000]\n",
      "loss: 0.361158  [38464/60000]\n",
      "loss: 0.436458  [44864/60000]\n",
      "loss: 0.477814  [51264/60000]\n",
      "loss: 0.360824  [57664/60000]\n",
      "Test Error: \n",
      " Accuracy: 87.4%, Avg loss: 0.391567 \n",
      "\n",
      "Epoch 16\n",
      "-------------------------------\n",
      "loss: 0.215816  [   64/60000]\n",
      "loss: 0.321753  [ 6464/60000]\n",
      "loss: 0.318731  [12864/60000]\n",
      "loss: 0.714695  [19264/60000]\n",
      "loss: 0.173260  [25664/60000]\n",
      "loss: 0.652709  [32064/60000]\n",
      "loss: 0.204983  [38464/60000]\n",
      "loss: 0.178170  [44864/60000]\n",
      "loss: 0.240162  [51264/60000]\n",
      "loss: 0.109006  [57664/60000]\n",
      "Test Error: \n",
      " Accuracy: 86.8%, Avg loss: 0.404287 \n",
      "\n",
      "Epoch 17\n",
      "-------------------------------\n",
      "loss: 0.308659  [   64/60000]\n",
      "loss: 0.293680  [ 6464/60000]\n",
      "loss: 0.307600  [12864/60000]\n",
      "loss: 0.327013  [19264/60000]\n",
      "loss: 0.403433  [25664/60000]\n",
      "loss: 0.364021  [32064/60000]\n",
      "loss: 0.216293  [38464/60000]\n",
      "loss: 0.298001  [44864/60000]\n",
      "loss: 0.285581  [51264/60000]\n",
      "loss: 0.279674  [57664/60000]\n",
      "Test Error: \n",
      " Accuracy: 86.7%, Avg loss: 0.409738 \n",
      "\n",
      "Epoch 18\n",
      "-------------------------------\n",
      "loss: 0.179973  [   64/60000]\n",
      "loss: 0.155023  [ 6464/60000]\n",
      "loss: 0.521091  [12864/60000]\n",
      "loss: 0.320879  [19264/60000]\n",
      "loss: 0.298263  [25664/60000]\n",
      "loss: 0.267502  [32064/60000]\n",
      "loss: 0.296986  [38464/60000]\n",
      "loss: 0.172300  [44864/60000]\n",
      "loss: 0.415543  [51264/60000]\n",
      "loss: 0.223404  [57664/60000]\n",
      "Test Error: \n",
      " Accuracy: 87.7%, Avg loss: 0.397500 \n",
      "\n",
      "Epoch 19\n",
      "-------------------------------\n",
      "loss: 0.205647  [   64/60000]\n",
      "loss: 0.221786  [ 6464/60000]\n",
      "loss: 0.262249  [12864/60000]\n",
      "loss: 0.229552  [19264/60000]\n",
      "loss: 0.398609  [25664/60000]\n",
      "loss: 0.209782  [32064/60000]\n",
      "loss: 0.405971  [38464/60000]\n",
      "loss: 0.308306  [44864/60000]\n",
      "loss: 0.278079  [51264/60000]\n",
      "loss: 0.208838  [57664/60000]\n",
      "Test Error: \n",
      " Accuracy: 86.2%, Avg loss: 0.435190 \n",
      "\n",
      "Epoch 20\n",
      "-------------------------------\n",
      "loss: 0.306211  [   64/60000]\n",
      "loss: 0.174336  [ 6464/60000]\n",
      "loss: 0.282054  [12864/60000]\n",
      "loss: 0.293437  [19264/60000]\n",
      "loss: 0.247467  [25664/60000]\n",
      "loss: 0.503386  [32064/60000]\n",
      "loss: 0.285216  [38464/60000]\n",
      "loss: 0.233169  [44864/60000]\n",
      "loss: 0.182078  [51264/60000]\n",
      "loss: 0.200830  [57664/60000]\n",
      "Test Error: \n",
      " Accuracy: 87.1%, Avg loss: 0.400839 \n",
      "\n",
      "\n",
      "Results:\n",
      "      Loss Function Optimizer  Best Train Loss  Best Test Loss  \\\n",
      "0  CrossEntropyLoss       SGD              inf             inf   \n",
      "1  CrossEntropyLoss      Adam         0.142353        0.375498   \n",
      "2           MSELoss       SGD              inf             inf   \n",
      "3           MSELoss      Adam         0.013905        0.022338   \n",
      "4           NLLLoss       SGD              inf             inf   \n",
      "5           NLLLoss      Adam         0.111974        0.379643   \n",
      "\n",
      "   Best Test Accuracy  \n",
      "0              0.1000  \n",
      "1              0.8730  \n",
      "2              0.1000  \n",
      "3              0.8652  \n",
      "4              0.1000  \n",
      "5              0.8771  \n"
     ]
    }
   ],
   "source": [
    "loss_functions = {\n",
    "    'CrossEntropyLoss': nn.CrossEntropyLoss(),\n",
    "    'MSELoss': nn.MSELoss(),\n",
    "    'NLLLoss': nn.NLLLoss()\n",
    "}\n",
    "\n",
    "optimizers = {\n",
    "    'SGD': lambda params: torch.optim.SGD(params, lr=0.01),\n",
    "    'Adam': lambda params: torch.optim.Adam(params, lr=0.001)\n",
    "}\n",
    "\n",
    "results = []\n",
    "\n",
    "for loss_name, loss_fn in loss_functions.items():\n",
    "    for optim_name, optim_fn in optimizers.items():\n",
    "        model = NeuralNetwork().to(device)\n",
    "        optimizer = optim_fn(model.parameters())\n",
    "        \n",
    "        print(f\"\\nTraining with {loss_name} and {optim_name}\")\n",
    "        \n",
    "        if loss_name == 'MSELoss':\n",
    "            loss_wrapper = lambda preds, targets: loss_fn(preds, F.one_hot(targets, num_classes=10).float())\n",
    "        elif loss_name == 'NLLLoss':\n",
    "            loss_wrapper = lambda preds, targets: loss_fn(F.log_softmax(preds, dim=1), targets)\n",
    "        else:\n",
    "            loss_wrapper = loss_fn\n",
    "        \n",
    "        best_train_loss, best_test_loss, best_test_accuracy = train_and_test(\n",
    "            model, train_dataloader, test_dataloader, loss_wrapper, optimizer, epochs=20\n",
    "        )\n",
    "        \n",
    "        results.append({\n",
    "            'Loss Function': loss_name,\n",
    "            'Optimizer': optim_name,\n",
    "            'Best Train Loss': best_train_loss,\n",
    "            'Best Test Loss': best_test_loss,\n",
    "            'Best Test Accuracy': best_test_accuracy\n",
    "        })\n",
    "\n",
    "df_results = pd.DataFrame(results)\n",
    "print(\"\\nResults:\")\n",
    "print(df_results)"
   ]
  },
  {
   "cell_type": "markdown",
   "id": "f45a2f7c",
   "metadata": {},
   "source": [
    "Осталось сохранить модель для дальнейшего использования. "
   ]
  },
  {
   "cell_type": "code",
   "execution_count": 122,
   "id": "1ec53cf5",
   "metadata": {},
   "outputs": [],
   "source": [
    "torch.save(model.state_dict(), \"best_model.pth\")"
   ]
  },
  {
   "cell_type": "markdown",
   "id": "f674ae5e",
   "metadata": {},
   "source": [
    "Какая точность получилась? "
   ]
  },
  {
   "cell_type": "markdown",
   "id": "de5de00f",
   "metadata": {},
   "source": [
    "Задание: Перепишите датасет FashionMNISTDataset так, чтобы он возвращал вектор вместо матрицы и мою модель без слоя MyFlatten(). Запустите обучение заново. Какая точность получилась теперь?"
   ]
  },
  {
   "cell_type": "markdown",
   "id": "e2fab8d7",
   "metadata": {},
   "source": [
    "Задание: придумайте свою собственную модель, на следующем занятии сравнимся, у кого получилось достичь наилучших результатов. Для этого мне нужно будет получить как вашу версию этого ноутбука, так и веса модели."
   ]
  },
  {
   "cell_type": "markdown",
   "id": "acc2e232",
   "metadata": {},
   "source": [
    "При подборе гиперпараметров (это те параметры, которые не обучаются, например, lr) и обучении модели помните:\n",
    "1. Если параметры выбраны хорошо, улучшение видно уже после нескольких сотен итераций.\n",
    "2. Настраивайте гиперпараметры от грубых значений к точным: начните с тестирования большого диапазона гиперпараметров всего за несколько итераций обучения, чтобы найти комбинации параметров, которые вообще работают.\n",
    "3. После того, как вы нашли несколько наборов параметров, которые, по-видимому, работают, выполните более тщательный поиск по этим параметрам. Возможно, вам придется тренировать модель большее число эпох.\n",
    "4. Нужно использовать валидационный набор для поиска. Этот набор нужно выделить из тренировочного и вызывать на нем функцию test."
   ]
  },
  {
   "cell_type": "markdown",
   "id": "4e04f82d",
   "metadata": {},
   "source": [
    "Задание: Перепишите датасет FashionMNISTDataset так, чтобы он возвращал вектор вместо матрицы"
   ]
  },
  {
   "cell_type": "code",
   "execution_count": null,
   "metadata": {
    "collapsed": false
   },
   "outputs": [],
   "source": []
  }
 ],
 "metadata": {
  "kernelspec": {
   "display_name": "ml_hw",
   "language": "python",
   "name": "python3"
  },
  "language_info": {
   "codemirror_mode": {
    "name": "ipython",
    "version": 3
   },
   "file_extension": ".py",
   "mimetype": "text/x-python",
   "name": "python",
   "nbconvert_exporter": "python",
   "pygments_lexer": "ipython3",
   "version": "3.10.12"
  }
 },
 "nbformat": 4,
 "nbformat_minor": 5
}
