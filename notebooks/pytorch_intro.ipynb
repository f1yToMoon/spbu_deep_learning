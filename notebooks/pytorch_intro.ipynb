{
 "cells": [
  {
   "cell_type": "markdown",
   "id": "eb07947b",
   "metadata": {},
   "source": [
    "# Введение в Pytorch\n"
   ]
  },
  {
   "cell_type": "markdown",
   "id": "f7ae15d0",
   "metadata": {},
   "source": [
    "В этом курсе мы по большей части будем пользоваться pytorch.\n",
    "Этот фреймворк во многом похож на numpy, главное его отлисие в том, что он может считать градиенты с помощью своего autograd модуля. Еще одно отличие - он поддерживает gpu.\n",
    "\n",
    "План ноутбука:\n",
    "1) основные операции\n",
    "2) тензоры\n",
    "3) градиенты\n",
    "2) пайплайн обучения"
   ]
  },
  {
   "cell_type": "markdown",
   "metadata": {
    "collapsed": false
   },
   "source": [
    "# Основные операции"
   ]
  },
  {
   "cell_type": "code",
   "execution_count": 1,
   "metadata": {
    "collapsed": false
   },
   "outputs": [],
   "source": [
    "import numpy as np\n",
    "import torch\n",
    "from matplotlib import pyplot as plt"
   ]
  },
  {
   "cell_type": "code",
   "execution_count": 2,
   "metadata": {
    "collapsed": false
   },
   "outputs": [
    {
     "data": {
      "text/plain": [
       "array([[0.72746883, 0.34745686, 0.95988768],\n",
       "       [0.5407442 , 0.53701958, 0.44215114],\n",
       "       [0.64285419, 0.50718616, 0.42091152],\n",
       "       [0.83871772, 0.12182856, 0.19326119],\n",
       "       [0.11383255, 0.71339594, 0.76718284]])"
      ]
     },
     "execution_count": 2,
     "metadata": {},
     "output_type": "execute_result"
    }
   ],
   "source": [
    "a = np.random.rand(5, 3)\n",
    "a"
   ]
  },
  {
   "cell_type": "code",
   "execution_count": 7,
   "metadata": {
    "collapsed": false
   },
   "outputs": [
    {
     "data": {
      "text/plain": [
       "array([[727.46882619, 347.45685541, 959.88767651],\n",
       "       [540.74420157, 537.0195784 , 442.15113917],\n",
       "       [642.85418724, 507.1861582 , 420.91152193],\n",
       "       [838.7177238 , 121.82855716, 193.26119012],\n",
       "       [113.83254909, 713.39594369, 767.18284306]])"
      ]
     },
     "execution_count": 7,
     "metadata": {},
     "output_type": "execute_result"
    }
   ],
   "source": [
    "a * 1000"
   ]
  },
  {
   "cell_type": "code",
   "execution_count": 9,
   "metadata": {
    "collapsed": false
   },
   "outputs": [
    {
     "data": {
      "text/plain": [
       "array([[1.51858375e-14, 1.23051945e-46, 1.66740693e-02],\n",
       "       [1.99153121e-27, 9.97727468e-28, 3.60640776e-36],\n",
       "       [6.47511824e-20, 3.28654252e-30, 2.62471056e-38],\n",
       "       [2.29922813e-08, 3.75759597e-92, 4.11590141e-72],\n",
       "       [4.23297912e-95, 2.15309685e-15, 3.08949993e-12]])"
      ]
     },
     "execution_count": 9,
     "metadata": {},
     "output_type": "execute_result"
    }
   ],
   "source": [
    "a ** 100"
   ]
  },
  {
   "cell_type": "code",
   "execution_count": 10,
   "metadata": {
    "collapsed": false
   },
   "outputs": [
    {
     "data": {
      "text/plain": [
       "(5, 3)"
      ]
     },
     "execution_count": 10,
     "metadata": {},
     "output_type": "execute_result"
    }
   ],
   "source": [
    "a.shape"
   ]
  },
  {
   "cell_type": "code",
   "execution_count": 11,
   "metadata": {
    "collapsed": false
   },
   "outputs": [
    {
     "data": {
      "text/plain": [
       "array([0.72746883, 0.34745686, 0.95988768, 0.5407442 , 0.53701958,\n",
       "       0.44215114, 0.64285419, 0.50718616, 0.42091152, 0.83871772,\n",
       "       0.12182856, 0.19326119, 0.11383255, 0.71339594, 0.76718284])"
      ]
     },
     "execution_count": 11,
     "metadata": {},
     "output_type": "execute_result"
    }
   ],
   "source": [
    "a.flatten()"
   ]
  },
  {
   "cell_type": "code",
   "execution_count": 12,
   "metadata": {
    "collapsed": false
   },
   "outputs": [
    {
     "data": {
      "text/plain": [
       "array([[0.72746883],\n",
       "       [0.34745686],\n",
       "       [0.95988768],\n",
       "       [0.5407442 ],\n",
       "       [0.53701958],\n",
       "       [0.44215114],\n",
       "       [0.64285419],\n",
       "       [0.50718616],\n",
       "       [0.42091152],\n",
       "       [0.83871772],\n",
       "       [0.12182856],\n",
       "       [0.19326119],\n",
       "       [0.11383255],\n",
       "       [0.71339594],\n",
       "       [0.76718284]])"
      ]
     },
     "execution_count": 12,
     "metadata": {},
     "output_type": "execute_result"
    }
   ],
   "source": [
    "a.reshape(-1, 1)"
   ]
  },
  {
   "cell_type": "code",
   "execution_count": 13,
   "metadata": {
    "collapsed": false
   },
   "outputs": [],
   "source": [
    "b = np.random.rand(7, 5)"
   ]
  },
  {
   "cell_type": "code",
   "execution_count": 18,
   "metadata": {
    "collapsed": false
   },
   "outputs": [
    {
     "data": {
      "text/plain": [
       "array([[1.50013439, 1.71722365, 1.71129085, 1.70569583, 1.07070284,\n",
       "        1.78276628, 1.64420009],\n",
       "       [1.42229977, 1.37267939, 1.38865696, 1.77001563, 1.2789426 ,\n",
       "        1.17394766, 1.05672757],\n",
       "       [1.57637148, 1.48380518, 1.80832211, 2.30021135, 1.32031927,\n",
       "        1.59560613, 1.16928961]])"
      ]
     },
     "execution_count": 18,
     "metadata": {},
     "output_type": "execute_result"
    }
   ],
   "source": [
    "a.T @ b.T"
   ]
  },
  {
   "cell_type": "markdown",
   "metadata": {
    "collapsed": false
   },
   "source": [
    "Задача 1: напишите функцию, которая принимает на вход вектор размера n и возвращает значения функции $2log(x^2) - 1.5 sqrt(x) + x^{1/2}$"
   ]
  },
  {
   "cell_type": "code",
   "execution_count": 178,
   "metadata": {
    "collapsed": false
   },
   "outputs": [
    {
     "data": {
      "text/plain": [
       "array([[-5.5209402 ],\n",
       "       [-1.67547097]])"
      ]
     },
     "execution_count": 178,
     "metadata": {},
     "output_type": "execute_result"
    }
   ],
   "source": [
    "x = np.random.rand(2, 1)\n",
    "2*np.log(x**2) - 1.5*np.sqrt(x) + x**(1/2)"
   ]
  },
  {
   "cell_type": "markdown",
   "metadata": {
    "collapsed": false
   },
   "source": [
    "Задача 2: Посчитайте сумму значений функции из 1 задачи для натуральных чисел с 1 до 300"
   ]
  },
  {
   "cell_type": "code",
   "execution_count": 129,
   "metadata": {
    "collapsed": false
   },
   "outputs": [
    {
     "data": {
      "text/plain": [
       "np.float64(3923.345205492068)"
      ]
     },
     "execution_count": 129,
     "metadata": {},
     "output_type": "execute_result"
    }
   ],
   "source": [
    "x = np.arange(1, 301)\n",
    "np.sum(2*np.log(x**2) - 1.5*np.sqrt(x) + x**(1/2))"
   ]
  },
  {
   "cell_type": "markdown",
   "metadata": {
    "collapsed": false
   },
   "source": [
    "Cинтаксис в torch очень похож на numpy, однако с некоторыми отличиями"
   ]
  },
  {
   "cell_type": "code",
   "execution_count": 160,
   "metadata": {
    "collapsed": false
   },
   "outputs": [],
   "source": [
    "a = torch.rand(5,3)"
   ]
  },
  {
   "cell_type": "code",
   "execution_count": 132,
   "metadata": {
    "collapsed": false
   },
   "outputs": [
    {
     "data": {
      "text/plain": [
       "tensor([[0.4317, 0.7359, 0.5696],\n",
       "        [0.0945, 0.5705, 0.0760],\n",
       "        [0.0205, 0.0031, 0.4239],\n",
       "        [0.5083, 0.7400, 0.1185],\n",
       "        [0.0373, 0.7607, 0.5292]])"
      ]
     },
     "execution_count": 132,
     "metadata": {},
     "output_type": "execute_result"
    }
   ],
   "source": [
    "a**2"
   ]
  },
  {
   "cell_type": "code",
   "execution_count": 146,
   "metadata": {
    "collapsed": false
   },
   "outputs": [
    {
     "data": {
      "text/plain": [
       "torch.Size([5, 3])"
      ]
     },
     "execution_count": 146,
     "metadata": {},
     "output_type": "execute_result"
    }
   ],
   "source": [
    "a.size()"
   ]
  },
  {
   "cell_type": "code",
   "execution_count": 147,
   "metadata": {
    "collapsed": false
   },
   "outputs": [
    {
     "data": {
      "text/plain": [
       "tensor([0.6571, 0.8579, 0.7547, 0.3075, 0.7553, 0.2757, 0.1430, 0.0557, 0.6510,\n",
       "        0.7129, 0.8602, 0.3442, 0.1932, 0.8722, 0.7275])"
      ]
     },
     "execution_count": 147,
     "metadata": {},
     "output_type": "execute_result"
    }
   ],
   "source": [
    "a.flatten()"
   ]
  },
  {
   "cell_type": "code",
   "execution_count": 151,
   "metadata": {
    "collapsed": false
   },
   "outputs": [
    {
     "data": {
      "text/plain": [
       "tensor([[0.6571],\n",
       "        [0.8579],\n",
       "        [0.7547],\n",
       "        [0.3075],\n",
       "        [0.7553],\n",
       "        [0.2757],\n",
       "        [0.1430],\n",
       "        [0.0557],\n",
       "        [0.6510],\n",
       "        [0.7129],\n",
       "        [0.8602],\n",
       "        [0.3442],\n",
       "        [0.1932],\n",
       "        [0.8722],\n",
       "        [0.7275]])"
      ]
     },
     "execution_count": 151,
     "metadata": {},
     "output_type": "execute_result"
    }
   ],
   "source": [
    "a.view(-1,1)"
   ]
  },
  {
   "cell_type": "code",
   "execution_count": 163,
   "metadata": {
    "collapsed": false
   },
   "outputs": [
    {
     "data": {
      "text/plain": [
       "tensor([[0.0688, 0.3875, 0.3463],\n",
       "        [0.7605, 0.4345, 0.6093],\n",
       "        [0.8884, 0.9929, 0.8828],\n",
       "        [0.1605, 0.0519, 0.4057],\n",
       "        [0.9431, 0.8087, 0.1941]])"
      ]
     },
     "execution_count": 163,
     "metadata": {},
     "output_type": "execute_result"
    }
   ],
   "source": [
    "a.resize(5, 3)"
   ]
  },
  {
   "cell_type": "code",
   "execution_count": 157,
   "metadata": {
    "collapsed": false
   },
   "outputs": [],
   "source": [
    "b = torch.rand(7,5)"
   ]
  },
  {
   "cell_type": "code",
   "execution_count": 171,
   "metadata": {
    "collapsed": false
   },
   "outputs": [
    {
     "data": {
      "text/plain": [
       "tensor([[1.3762, 1.3343, 0.8580],\n",
       "        [1.9626, 1.8238, 1.4764],\n",
       "        [1.9821, 1.9204, 1.4721],\n",
       "        [1.6623, 1.5343, 1.4158],\n",
       "        [1.1713, 1.1728, 0.9714],\n",
       "        [1.7329, 1.5180, 1.0245],\n",
       "        [1.4966, 1.4224, 1.2369]])"
      ]
     },
     "execution_count": 171,
     "metadata": {},
     "output_type": "execute_result"
    }
   ],
   "source": [
    "a.T @ b.T\n",
    "b @ a"
   ]
  },
  {
   "cell_type": "code",
   "execution_count": 170,
   "metadata": {
    "collapsed": false
   },
   "outputs": [
    {
     "data": {
      "text/plain": [
       "tensor([[1.3762, 1.3343, 0.8580],\n",
       "        [1.9626, 1.8238, 1.4764],\n",
       "        [1.9821, 1.9204, 1.4721],\n",
       "        [1.6623, 1.5343, 1.4158],\n",
       "        [1.1713, 1.1728, 0.9714],\n",
       "        [1.7329, 1.5180, 1.0245],\n",
       "        [1.4966, 1.4224, 1.2369]])"
      ]
     },
     "execution_count": 170,
     "metadata": {},
     "output_type": "execute_result"
    }
   ],
   "source": [
    "torch.matmul(b, a)"
   ]
  },
  {
   "cell_type": "code",
   "execution_count": 172,
   "metadata": {
    "collapsed": false
   },
   "outputs": [],
   "source": [
    "b = torch.rand(3,1,4,1,5)"
   ]
  },
  {
   "cell_type": "code",
   "execution_count": 173,
   "metadata": {
    "collapsed": false
   },
   "outputs": [
    {
     "data": {
      "text/plain": [
       "torch.Size([3, 4, 5])"
      ]
     },
     "execution_count": 173,
     "metadata": {},
     "output_type": "execute_result"
    }
   ],
   "source": [
    "b.squeeze().shape"
   ]
  },
  {
   "cell_type": "code",
   "execution_count": 174,
   "metadata": {
    "collapsed": false
   },
   "outputs": [
    {
     "data": {
      "text/plain": [
       "torch.Size([3, 4, 1, 5])"
      ]
     },
     "execution_count": 174,
     "metadata": {},
     "output_type": "execute_result"
    }
   ],
   "source": [
    "b.squeeze(1).shape"
   ]
  },
  {
   "cell_type": "markdown",
   "metadata": {
    "collapsed": false
   },
   "source": [
    "Задача 3. напишите функцию на torch, которая принимает на вход вектор размера n и возвращает значения функции $2log(x^2) - 1.5 sqrt(x) + x^{1/2}$"
   ]
  },
  {
   "cell_type": "code",
   "execution_count": 187,
   "metadata": {
    "collapsed": false
   },
   "outputs": [
    {
     "data": {
      "text/plain": [
       "tensor([[-15.9647],\n",
       "        [ -1.0642]])"
      ]
     },
     "execution_count": 187,
     "metadata": {},
     "output_type": "execute_result"
    }
   ],
   "source": [
    "x = torch.rand(2, 1)\n",
    "2*torch.log(x**2) - 1.5*torch.sqrt(x) + x**(1/2)"
   ]
  },
  {
   "cell_type": "markdown",
   "metadata": {
    "collapsed": false
   },
   "source": [
    "Задача 4: Посчитайте сумму значений функции из 3 задачи для натуральных чисел с 1 до 300"
   ]
  },
  {
   "cell_type": "code",
   "execution_count": 192,
   "metadata": {
    "collapsed": false
   },
   "outputs": [
    {
     "data": {
      "text/plain": [
       "tensor(3923.3452)"
      ]
     },
     "execution_count": 192,
     "metadata": {},
     "output_type": "execute_result"
    }
   ],
   "source": [
    "x = torch.arange(1, 301)\n",
    "torch.sum(2*torch.log(x**2) - 1.5*torch.sqrt(x) + x**(1/2))"
   ]
  },
  {
   "cell_type": "markdown",
   "metadata": {
    "collapsed": false
   },
   "source": [
    " Другие варианты создать тензор"
   ]
  },
  {
   "cell_type": "code",
   "execution_count": 204,
   "metadata": {
    "collapsed": false
   },
   "outputs": [
    {
     "data": {
      "text/plain": [
       "tensor([[False],\n",
       "        [False],\n",
       "        [False],\n",
       "        [False],\n",
       "        [False],\n",
       "        [False]])"
      ]
     },
     "execution_count": 204,
     "metadata": {},
     "output_type": "execute_result"
    }
   ],
   "source": [
    "a = torch.empty(5,2)\n",
    "b = torch.zeros(6,1, dtype=torch.bool)\n",
    "c = torch.ones_like(b)\n",
    "d = torch.zeros_like(c)"
   ]
  },
  {
   "cell_type": "markdown",
   "metadata": {
    "collapsed": false
   },
   "source": [
    "Тензор можно создать и из другого объекта. Как думаете, какой тип будет у результирующего тензора?"
   ]
  },
  {
   "cell_type": "code",
   "execution_count": 205,
   "metadata": {
    "collapsed": false
   },
   "outputs": [],
   "source": [
    "d = torch.tensor([5,3.4])"
   ]
  },
  {
   "cell_type": "code",
   "execution_count": 207,
   "metadata": {
    "collapsed": false
   },
   "outputs": [
    {
     "data": {
      "text/plain": [
       "torch.float32"
      ]
     },
     "execution_count": 207,
     "metadata": {},
     "output_type": "execute_result"
    }
   ],
   "source": [
    "d.dtype"
   ]
  },
  {
   "cell_type": "markdown",
   "metadata": {
    "collapsed": false
   },
   "source": [
    "Torch легко переводится в numpy и наоборот. Из-за разницы типов результат не будет идентичным, но он будет достаточно близким к исходному."
   ]
  },
  {
   "cell_type": "code",
   "execution_count": 208,
   "metadata": {
    "collapsed": false
   },
   "outputs": [
    {
     "data": {
      "text/plain": [
       "True"
      ]
     },
     "execution_count": 208,
     "metadata": {},
     "output_type": "execute_result"
    }
   ],
   "source": [
    "a = np.ones((3, 5))\n",
    "x = torch.ones((3, 5))\n",
    "np.allclose(x.numpy(), a)"
   ]
  },
  {
   "cell_type": "markdown",
   "metadata": {
    "collapsed": false
   },
   "source": [
    "# Градиенты\n",
    "Рассмотрим достаточно простой датасет"
   ]
  },
  {
   "cell_type": "code",
   "execution_count": 211,
   "metadata": {
    "collapsed": false
   },
   "outputs": [
    {
     "data": {
      "text/plain": [
       "tensor([-1.5000e+01, -1.4900e+01, -1.4800e+01, -1.4700e+01, -1.4600e+01,\n",
       "        -1.4500e+01, -1.4400e+01, -1.4300e+01, -1.4200e+01, -1.4100e+01,\n",
       "        -1.4000e+01, -1.3900e+01, -1.3800e+01, -1.3700e+01, -1.3600e+01,\n",
       "        -1.3500e+01, -1.3400e+01, -1.3300e+01, -1.3200e+01, -1.3100e+01,\n",
       "        -1.3000e+01, -1.2900e+01, -1.2800e+01, -1.2700e+01, -1.2600e+01,\n",
       "        -1.2500e+01, -1.2400e+01, -1.2300e+01, -1.2200e+01, -1.2100e+01,\n",
       "        -1.2000e+01, -1.1900e+01, -1.1800e+01, -1.1700e+01, -1.1600e+01,\n",
       "        -1.1500e+01, -1.1400e+01, -1.1300e+01, -1.1200e+01, -1.1100e+01,\n",
       "        -1.1000e+01, -1.0900e+01, -1.0800e+01, -1.0700e+01, -1.0600e+01,\n",
       "        -1.0500e+01, -1.0400e+01, -1.0300e+01, -1.0200e+01, -1.0100e+01,\n",
       "        -1.0000e+01, -9.9000e+00, -9.8000e+00, -9.7000e+00, -9.6000e+00,\n",
       "        -9.5000e+00, -9.4000e+00, -9.3000e+00, -9.2000e+00, -9.1000e+00,\n",
       "        -9.0000e+00, -8.9000e+00, -8.8000e+00, -8.7000e+00, -8.6000e+00,\n",
       "        -8.5000e+00, -8.4000e+00, -8.3000e+00, -8.2000e+00, -8.1000e+00,\n",
       "        -8.0000e+00, -7.9000e+00, -7.8000e+00, -7.7000e+00, -7.6000e+00,\n",
       "        -7.5000e+00, -7.4000e+00, -7.3000e+00, -7.2000e+00, -7.1000e+00,\n",
       "        -7.0000e+00, -6.9000e+00, -6.8000e+00, -6.7000e+00, -6.6000e+00,\n",
       "        -6.5000e+00, -6.4000e+00, -6.3000e+00, -6.2000e+00, -6.1000e+00,\n",
       "        -6.0000e+00, -5.9000e+00, -5.8000e+00, -5.7000e+00, -5.6000e+00,\n",
       "        -5.5000e+00, -5.4000e+00, -5.3000e+00, -5.2000e+00, -5.1000e+00,\n",
       "        -5.0000e+00, -4.9000e+00, -4.8000e+00, -4.7000e+00, -4.6000e+00,\n",
       "        -4.5000e+00, -4.4000e+00, -4.3000e+00, -4.2000e+00, -4.1000e+00,\n",
       "        -4.0000e+00, -3.9000e+00, -3.8000e+00, -3.7000e+00, -3.6000e+00,\n",
       "        -3.5000e+00, -3.4000e+00, -3.3000e+00, -3.2000e+00, -3.1000e+00,\n",
       "        -3.0000e+00, -2.9000e+00, -2.8000e+00, -2.7000e+00, -2.6000e+00,\n",
       "        -2.5000e+00, -2.4000e+00, -2.3000e+00, -2.2000e+00, -2.1000e+00,\n",
       "        -2.0000e+00, -1.9000e+00, -1.8000e+00, -1.7000e+00, -1.6000e+00,\n",
       "        -1.5000e+00, -1.4000e+00, -1.3000e+00, -1.2000e+00, -1.1000e+00,\n",
       "        -1.0000e+00, -9.0000e-01, -8.0000e-01, -7.0000e-01, -6.0000e-01,\n",
       "        -5.0000e-01, -4.0000e-01, -3.0000e-01, -2.0000e-01, -1.0000e-01,\n",
       "        -2.3842e-08,  1.0000e-01,  2.0000e-01,  3.0000e-01,  4.0000e-01,\n",
       "         5.0000e-01,  6.0000e-01,  7.0000e-01,  8.0000e-01,  9.0000e-01,\n",
       "         1.0000e+00,  1.1000e+00,  1.2000e+00,  1.3000e+00,  1.4000e+00,\n",
       "         1.5000e+00,  1.6000e+00,  1.7000e+00,  1.8000e+00,  1.9000e+00,\n",
       "         2.0000e+00,  2.1000e+00,  2.2000e+00,  2.3000e+00,  2.4000e+00,\n",
       "         2.5000e+00,  2.6000e+00,  2.7000e+00,  2.8000e+00,  2.9000e+00,\n",
       "         3.0000e+00,  3.1000e+00,  3.2000e+00,  3.3000e+00,  3.4000e+00,\n",
       "         3.5000e+00,  3.6000e+00,  3.7000e+00,  3.8000e+00,  3.9000e+00,\n",
       "         4.0000e+00,  4.1000e+00,  4.2000e+00,  4.3000e+00,  4.4000e+00,\n",
       "         4.5000e+00,  4.6000e+00,  4.7000e+00,  4.8000e+00,  4.9000e+00,\n",
       "         5.0000e+00,  5.1000e+00,  5.2000e+00,  5.3000e+00,  5.4000e+00,\n",
       "         5.5000e+00,  5.6000e+00,  5.7000e+00,  5.8000e+00,  5.9000e+00,\n",
       "         6.0000e+00,  6.1000e+00,  6.2000e+00,  6.3000e+00,  6.4000e+00,\n",
       "         6.5000e+00,  6.6000e+00,  6.7000e+00,  6.8000e+00,  6.9000e+00,\n",
       "         7.0000e+00,  7.1000e+00,  7.2000e+00,  7.3000e+00,  7.4000e+00,\n",
       "         7.5000e+00,  7.6000e+00,  7.7000e+00,  7.8000e+00,  7.9000e+00,\n",
       "         8.0000e+00,  8.1000e+00,  8.2000e+00,  8.3000e+00,  8.4000e+00,\n",
       "         8.5000e+00,  8.6000e+00,  8.7000e+00,  8.8000e+00,  8.9000e+00,\n",
       "         9.0000e+00,  9.1000e+00,  9.2000e+00,  9.3000e+00,  9.4000e+00,\n",
       "         9.5000e+00,  9.6000e+00,  9.7000e+00,  9.8000e+00,  9.9000e+00,\n",
       "         1.0000e+01,  1.0100e+01,  1.0200e+01,  1.0300e+01,  1.0400e+01,\n",
       "         1.0500e+01,  1.0600e+01,  1.0700e+01,  1.0800e+01,  1.0900e+01,\n",
       "         1.1000e+01,  1.1100e+01,  1.1200e+01,  1.1300e+01,  1.1400e+01,\n",
       "         1.1500e+01,  1.1600e+01,  1.1700e+01,  1.1800e+01,  1.1900e+01,\n",
       "         1.2000e+01,  1.2100e+01,  1.2200e+01,  1.2300e+01,  1.2400e+01,\n",
       "         1.2500e+01,  1.2600e+01,  1.2700e+01,  1.2800e+01,  1.2900e+01,\n",
       "         1.3000e+01,  1.3100e+01,  1.3200e+01,  1.3300e+01,  1.3400e+01,\n",
       "         1.3500e+01,  1.3600e+01,  1.3700e+01,  1.3800e+01,  1.3900e+01,\n",
       "         1.4000e+01,  1.4100e+01,  1.4200e+01,  1.4300e+01,  1.4400e+01,\n",
       "         1.4500e+01,  1.4600e+01,  1.4700e+01,  1.4800e+01,  1.4900e+01])"
      ]
     },
     "execution_count": 211,
     "metadata": {},
     "output_type": "execute_result"
    }
   ],
   "source": [
    "x1 = torch.arange(-15, 15, 0.1)\n",
    "x2 = torch.arange(-15, 15, 0.1) / 5\n",
    "x = torch.stack([x1, x2], dim=1)\n",
    "y = x[:,0] * 2. + 0.2 * x[:, 1]**2 - 3 + torch.normal(0., 0.2, (1, 300))"
   ]
  },
  {
   "cell_type": "code",
   "execution_count": 216,
   "metadata": {
    "collapsed": false
   },
   "outputs": [
    {
     "data": {
      "text/plain": [
       "<matplotlib.collections.PathCollection at 0x7c6fa7983cd0>"
      ]
     },
     "execution_count": 216,
     "metadata": {},
     "output_type": "execute_result"
    },
    {
     "data": {
      "image/png": "[encoded data removed]",
      "text/plain": [
       "<Figure size 640x480 with 1 Axes>"
      ]
     },
     "metadata": {},
     "output_type": "display_data"
    }
   ],
   "source": [
    "plt.scatter(x[:, 0], y)"
   ]
  },
  {
   "cell_type": "markdown",
   "metadata": {
    "collapsed": false
   },
   "source": [
    "Доп.задание. Изобразите поверхность на 3d-графике"
   ]
  },
  {
   "cell_type": "code",
   "execution_count": 226,
   "id": "228d0953",
   "metadata": {},
   "outputs": [
    {
     "data": {
      "image/png": "[encoded data removed]",
      "text/plain": [
       "<Figure size 800x1000 with 1 Axes>"
      ]
     },
     "metadata": {},
     "output_type": "display_data"
    }
   ],
   "source": [
    "fig = plt.figure(figsize=(8, 10))\n",
    "ax = fig.add_subplot(111, projection='3d')\n",
    "scatter = ax.scatter(x[:, 0], x[:, 1], y, c=y)"
   ]
  },
  {
   "cell_type": "markdown",
   "metadata": {
    "collapsed": false
   },
   "source": [
    "В PyTorch при создании тензора можно указать, нужно ли считать по нему градиент или нет, с помощью параметра requires_grad.\n",
    "Если requires_grad=False, то это просто массив с числами, посчитать dx/dy не выйдет.\n",
    "Если же requires_grad=True, то фреймворк будит учитывать этот тензор при построении графа вычислений производной.\n",
    "Например, станет возможно посчитать d(sin(log(x**2) - 3x))/dx.\n",
    "\n",
    "Как происходит отслеживание градиента? Ответ достаточно простой: у каждого тензора на ссамом деле есть параметр .grad, который и хранит градиенты. У тех тензоров, к которым градиент неприменим, grad=None.\n",
    "\n",
    "Что еще интереснее - у тех тензоров, через которые проходят вычисления, появляется параметр grad_fn. Например, у резултата a + b grad_fn будет AddBackward."
   ]
  },
  {
   "cell_type": "code",
   "execution_count": 241,
   "metadata": {
    "collapsed": false
   },
   "outputs": [],
   "source": [
    "a = torch.rand(5, 2, requires_grad=True)\n",
    "b = torch.rand(2, 1, requires_grad=True)"
   ]
  },
  {
   "cell_type": "code",
   "execution_count": 242,
   "metadata": {
    "collapsed": false
   },
   "outputs": [
    {
     "data": {
      "text/plain": [
       "tensor(13.2019, grad_fn=<SumBackward0>)"
      ]
     },
     "execution_count": 242,
     "metadata": {},
     "output_type": "execute_result"
    }
   ],
   "source": [
    "res = (a + b.T).sum()\n",
    "res"
   ]
  },
  {
   "cell_type": "markdown",
   "metadata": {
    "collapsed": false
   },
   "source": [
    "А как же получить значения градиентов? Тензоры что-то содержат, операции все известны."
   ]
  },
  {
   "cell_type": "code",
   "execution_count": 247,
   "metadata": {
    "collapsed": false
   },
   "outputs": [],
   "source": [
    "res.backward()"
   ]
  },
  {
   "cell_type": "code",
   "execution_count": 251,
   "id": "d60e6aa9",
   "metadata": {},
   "outputs": [
    {
     "data": {
      "text/plain": [
       "tensor([[2., 2.],\n",
       "        [2., 2.],\n",
       "        [2., 2.],\n",
       "        [2., 2.],\n",
       "        [2., 2.]])"
      ]
     },
     "execution_count": 251,
     "metadata": {},
     "output_type": "execute_result"
    }
   ],
   "source": [
    "a.grad"
   ]
  },
  {
   "cell_type": "code",
   "execution_count": 254,
   "metadata": {
    "collapsed": false
   },
   "outputs": [
    {
     "data": {
      "text/plain": [
       "tensor([[10.],\n",
       "        [10.]])"
      ]
     },
     "execution_count": 254,
     "metadata": {},
     "output_type": "execute_result"
    }
   ],
   "source": [
    "b.grad.data"
   ]
  },
  {
   "cell_type": "markdown",
   "metadata": {
    "collapsed": false
   },
   "source": [
    "Перейдем к нашим данным. Попробуем обучить простую линейную модель с помощью градиентного спуска."
   ]
  },
  {
   "cell_type": "code",
   "execution_count": 288,
   "metadata": {
    "collapsed": false
   },
   "outputs": [
    {
     "data": {
      "text/plain": [
       "<matplotlib.collections.PathCollection at 0x7c6f627617b0>"
      ]
     },
     "execution_count": 288,
     "metadata": {},
     "output_type": "execute_result"
    },
    {
     "data": {
      "image/png": "[encoded data removed]",
      "text/plain": [
       "<Figure size 640x480 with 1 Axes>"
      ]
     },
     "metadata": {},
     "output_type": "display_data"
    }
   ],
   "source": [
    "w = torch.rand(1, 2, requires_grad=True)\n",
    "b = torch.rand(1, requires_grad=True)\n",
    "y_pred = w @ x.T + b\n",
    "loss = torch.mean((y_pred - y) ** 2)\n",
    "loss.backward()\n",
    "\n",
    "plt.scatter(x[:, 0], y)\n",
    "plt.scatter(x[:, 0], y_pred.detach().numpy())"
   ]
  },
  {
   "cell_type": "markdown",
   "metadata": {
    "collapsed": false
   },
   "source": [
    "Пока не слишком похоже на то, что мы хотим. Для того, чтобы изменения применились, нужно сделать шаг градиентного спуска."
   ]
  },
  {
   "cell_type": "markdown",
   "metadata": {
    "collapsed": false
   },
   "source": [
    "**Задание**. Проведите 100 итераций градиентного спуска для данного набора.\n",
    "Для этого надо вспомнить, как выглядит этот алгоритм для линейной регрессии"
   ]
  },
  {
   "cell_type": "code",
   "execution_count": 303,
   "metadata": {
    "collapsed": false
   },
   "outputs": [
    {
     "data": {
      "image/png": "[encoded data removed]",
      "text/plain": [
       "<Figure size 640x480 with 1 Axes>"
      ]
     },
     "metadata": {},
     "output_type": "display_data"
    }
   ],
   "source": [
    "w = torch.rand(1, 2, requires_grad=True)\n",
    "b = torch.rand(1, requires_grad=True)\n",
    "\n",
    "for i in range(100):\n",
    "    y_pred = w @ x.T + b\n",
    "    loss = torch.mean((y_pred - y) ** 2)\n",
    "    loss.backward()\n",
    "    with torch.no_grad():\n",
    "        w -= 0.1 * w.grad\n",
    "        b -= 0.1 * b.grad\n",
    "    w.grad.zero_()\n",
    "    b.grad.zero_()\n",
    "\n",
    "plt.scatter(x[:, 0], y)\n",
    "plt.scatter(x[:, 0], y_pred.detach().numpy())"
   ]
  },
  {
   "cell_type": "markdown",
   "id": "7302150d",
   "metadata": {},
   "source": [
    "# Пайплайн обучения\n",
    "Импортируем torch.nn - тут находятся классы, реализующие слои, лоссы, функции ошибок и тд. \n",
    "Для примера я использую стандартный датасет для компьютерного зрения - MNIST - содержащий цифры от 0 до 9 в разном написании. Поэтому импортируются некоторые подмодули torchvision\n"
   ]
  },
  {
   "cell_type": "code",
   "execution_count": 304,
   "id": "bf7c9b27",
   "metadata": {},
   "outputs": [],
   "source": [
    "import torch\n",
    "from torch import nn\n",
    "from torch.utils.data import DataLoader, Dataset\n",
    "from torchvision import datasets\n",
    "from torchvision.transforms import ToTensor\n",
    "from matplotlib import pyplot as plt"
   ]
  },
  {
   "cell_type": "code",
   "execution_count": 305,
   "id": "45ad1ada",
   "metadata": {},
   "outputs": [],
   "source": [
    "import os\n",
    "import pandas as pd\n",
    "from torchvision.io import read_image\n"
   ]
  },
  {
   "cell_type": "markdown",
   "id": "54aebe5f",
   "metadata": {},
   "source": [
    "# Создание датасета"
   ]
  },
  {
   "cell_type": "markdown",
   "id": "71d937ef",
   "metadata": {},
   "source": [
    "Pytorch позволяет использовать открытые датасеты с хаба. Они все являются подклассами `torch.utils.data.Dataset` и имплементируют методы, специфичные для этого класса данных. Обычно они используются для прототипирования и бенчмаркинга и могут быть загружены по необходимости. Однако если для задачи необxодимо что-то кроме предполагаемой разработчиками функциональности, нужно либо отнаследовать один из них, либо напрямую `torch.utils.data.Dataset`.\n",
    "\n",
    "Давайте загрузим FashionMNIST (https://github.com/zalandoresearch/fashion-mnist) - один из таких простых бенчмарк-датасетов для компьютерного зрения. Каждый семпл - это черно-белое изображение размером 28х28 с каким-то предметом одежды и ассоциированным классом. Всего набор содержит 60000 + 10000 изображений и 10 классов.\n"
   ]
  },
  {
   "cell_type": "code",
   "execution_count": 348,
   "id": "84744d19",
   "metadata": {},
   "outputs": [],
   "source": [
    "train_data = datasets.FashionMNIST(\n",
    "    root=\"data\",\n",
    "    train=True,\n",
    "    download=True,\n",
    "    transform=ToTensor(),\n",
    ")\n",
    "\n",
    "test_data = datasets.FashionMNIST(\n",
    "    root=\"data\",\n",
    "    train=False,\n",
    "    download=True,\n",
    "    transform=ToTensor(),\n",
    ")"
   ]
  },
  {
   "cell_type": "code",
   "execution_count": 308,
   "id": "cdfc853a",
   "metadata": {},
   "outputs": [],
   "source": [
    "labels_map = {\n",
    "    0: \"T-Shirt\",\n",
    "    1: \"Trouser\",\n",
    "    2: \"Pullover\",\n",
    "    3: \"Dress\",\n",
    "    4: \"Coat\",\n",
    "    5: \"Sandal\",\n",
    "    6: \"Shirt\",\n",
    "    7: \"Sneaker\",\n",
    "    8: \"Bag\",\n",
    "    9: \"Ankle Boot\",\n",
    "}"
   ]
  },
  {
   "cell_type": "code",
   "execution_count": 349,
   "id": "dc9d3d8f",
   "metadata": {},
   "outputs": [],
   "source": [
    "def plot_samples(data, labels_map, cols=3, rows=3):\n",
    "    figure = plt.figure(figsize=(8, 8))\n",
    "    for i in range(1, cols * rows + 1):\n",
    "        sample_idx = torch.randint(len(data), size=(1,)).item()\n",
    "        img, label = data[sample_idx]\n",
    "        figure.add_subplot(rows, cols, i)\n",
    "        if type(label) == torch.Tensor:\n",
    "            plt.title(labels_map[label.item()])\n",
    "        else:\n",
    "            plt.title(labels_map[label])\n",
    "        plt.axis(\"off\")\n",
    "        plt.imshow(img.squeeze(), cmap=\"gray\")\n",
    "    plt.show()"
   ]
  },
  {
   "cell_type": "code",
   "execution_count": 350,
   "id": "6f1c8745",
   "metadata": {},
   "outputs": [
    {
     "data": {
      "image/png": "[encoded data removed]",
      "text/plain": [
       "<Figure size 800x800 with 9 Axes>"
      ]
     },
     "metadata": {},
     "output_type": "display_data"
    }
   ],
   "source": [
    "plot_samples(train_data, labels_map, cols=3, rows=3)"
   ]
  },
  {
   "cell_type": "markdown",
   "id": "9a33dc57",
   "metadata": {},
   "source": [
    "Каждый датасет в Pytorch должен наследоваться от класса Dataset и обязательно имплементировать методы `__init__, __len__, __getitem__`. В `__init__` обычно кроме прочего определяются трансформации, которые будут применяться к данным. Это может быть преобразование PIL.Image в тензоры, добавление шума, сдвиги и т.д. \n",
    "Pytorch предоставляет большое количество трансформаций, но наиболее популярная и удобная библиотека, реализующая трансформации для изображений - *albumentations*. \n",
    "\n",
    "`__len__` - должна возвращать размер датасета (например, чисо строк в файле с аннотациями)\n",
    "\n",
    "`__getitem__` - должен возвращать семпл данных, например, вектор признаков и y. Однако он может возвращать еще и дополнительную информацию, например, y может состоять из набора bboxoв и  сегментационных масок для детекции, класса изображения итп. Обычно возвращается tuple. В целом, возвращаться может любая структура, которую можно представить как набор тензоров, соответствующих одному семплу и входу модели.\n",
    "Внутри этого метода может происходить загрузка семпла, его трансформации и другие необходимые манипуляции. Очевидно, что он может возвращать не только изображение, но и любые другие данные, и временные ряды, и табличные данные, и облака точек, и другое. \n"
   ]
  },
  {
   "cell_type": "markdown",
   "id": "d59d78bb",
   "metadata": {},
   "source": [
    "Давайте реализуем такой датасет для FashionMNIST. Конечно, можно было бы спокойно использовать встроенный, но так не интересно )"
   ]
  },
  {
   "cell_type": "code",
   "execution_count": 312,
   "id": "9022c5a5",
   "metadata": {},
   "outputs": [],
   "source": [
    "from torchvision.datasets.mnist import read_image_file, read_label_file"
   ]
  },
  {
   "cell_type": "code",
   "execution_count": 351,
   "id": "5df545a3",
   "metadata": {},
   "outputs": [],
   "source": [
    "class FashionMNISTDataset(Dataset):\n",
    "    def __init__(self, file_dir, train=True, transform=None, target_transform=None):\n",
    "        self.transform = transform\n",
    "        self.target_transform = target_transform\n",
    "        self.train = train\n",
    "        image_file = f\"{'train' if self.train else 't10k'}-images-idx3-ubyte\"\n",
    "        self.data = read_image_file(os.path.join(file_dir, image_file))\n",
    "\n",
    "        label_file = f\"{'train' if self.train else 't10k'}-labels-idx1-ubyte\"\n",
    "        self.targets = read_label_file(os.path.join(file_dir, label_file))\n",
    "\n",
    "    def __len__(self):\n",
    "        return len(self.data)\n",
    "\n",
    "    def __getitem__(self, idx):\n",
    "        image = self.data[idx]\n",
    "        label = self.targets[idx]\n",
    "        \n",
    "        if self.transform:\n",
    "            image = self.transform(image)\n",
    "        if self.target_transform:\n",
    "            label = self.target_transform(label)\n",
    "        return image, label"
   ]
  },
  {
   "cell_type": "markdown",
   "metadata": {
    "collapsed": false
   },
   "source": [
    "Проинициализируйте ваш новый датасет так же, как и ранее встроенный."
   ]
  },
  {
   "cell_type": "code",
   "execution_count": 356,
   "id": "3d648b9e",
   "metadata": {},
   "outputs": [],
   "source": [
    "train_data = FashionMNISTDataset(\n",
    "    file_dir=\"/home/an/spbu_deep_learning/notebooks/data/FashionMNIST/raw\",\n",
    "    train=True,\n",
    ")\n",
    "\n",
    "test_data = FashionMNISTDataset(\n",
    "    file_dir=\"/home/an/spbu_deep_learning/notebooks/data/FashionMNIST/raw\",\n",
    "    train=False,\n",
    ")"
   ]
  },
  {
   "cell_type": "code",
   "execution_count": 357,
   "id": "9d8e5055",
   "metadata": {},
   "outputs": [
    {
     "data": {
      "image/png": "[encoded data removed]",
      "text/plain": [
       "<Figure size 800x800 with 9 Axes>"
      ]
     },
     "metadata": {},
     "output_type": "display_data"
    }
   ],
   "source": [
    "plot_samples(train_data, labels_map, cols=3, rows=3)"
   ]
  },
  {
   "cell_type": "markdown",
   "id": "f7354c09",
   "metadata": {},
   "source": [
    "Датасет возвращает один семпл за раз, однако часто наши мощности позволяют обрабатывать больше данных. При работе с таблицами обыно модель получает на вход вообще весь набор сразу или достаточно большими порциями. Когда речь заходит о тензорах и наборах с сотнями тысяч и даже миллионами семплов, это невозможно. На помощь приходит батчевая обработка, когда из датасета берутся небольшие порции данных за раз (используя индекс). За соединение семплов во вход модели отвечает класс DataLoader. Каждую эпоху данные шаффлятся, чтобы уменьшить переобучение. "
   ]
  },
  {
   "cell_type": "code",
   "execution_count": 358,
   "id": "6920b94f",
   "metadata": {},
   "outputs": [],
   "source": [
    "train_dataloader = DataLoader(train_data, batch_size=64, shuffle=True)\n",
    "test_dataloader = DataLoader(test_data, batch_size=64, shuffle=True)"
   ]
  },
  {
   "cell_type": "code",
   "execution_count": 376,
   "id": "15214288",
   "metadata": {},
   "outputs": [
    {
     "name": "stdout",
     "output_type": "stream",
     "text": [
      "Feature batch shape: torch.Size([64, 28, 28])\n",
      "Labels batch shape: torch.Size([64])\n"
     ]
    },
    {
     "data": {
      "image/png": "[encoded data removed]",
      "text/plain": [
       "<Figure size 640x480 with 1 Axes>"
      ]
     },
     "metadata": {},
     "output_type": "display_data"
    },
    {
     "name": "stdout",
     "output_type": "stream",
     "text": [
      "Label: 2\n"
     ]
    }
   ],
   "source": [
    "train_features, train_labels = next(iter(train_dataloader))\n",
    "print(f\"Feature batch shape: {train_features.size()}\")\n",
    "print(f\"Labels batch shape: {train_labels.size()}\")\n",
    "img = train_features[0].squeeze().reshape(28,28)\n",
    "label = train_labels[0]\n",
    "plt.imshow(img, cmap=\"gray\")\n",
    "plt.show()\n",
    "print(f\"Label: {label}\")"
   ]
  },
  {
   "cell_type": "markdown",
   "id": "fcf84e10",
   "metadata": {},
   "source": [
    "Глубокое обучение чаще всего связывают с GPU, и не зря. Имея дело с тензорами и тензорными вычислениями, мы производим огромное количество элементарных операций. Каждое ядро CPU способно произвести только одно вычисление за такт. GPU был создан для обработки графики, где требуется также большое количество простых вычислений, и поэтому может ускорить обработку данных в тысячи раз. Это все должно быть хорошо Вам известно из других курсов)\n",
    "\n",
    "К сожалению, часто компьютер не поддерживает вычисления на GPU, например, у него просто нет дискретной видеокарты. Pytorch позволяет проводить все операции на CPU, так что его можно использовать где угодно.\n",
    "\n"
   ]
  },
  {
   "cell_type": "code",
   "execution_count": 377,
   "id": "188d5e11",
   "metadata": {},
   "outputs": [
    {
     "name": "stdout",
     "output_type": "stream",
     "text": [
      "Using cuda device\n"
     ]
    }
   ],
   "source": [
    "device = \"cuda\" if torch.cuda.is_available() else \"cpu\"\n",
    "print(f\"Using {device} device\")\n"
   ]
  },
  {
   "cell_type": "markdown",
   "id": "1c77c6be",
   "metadata": {},
   "source": [
    "*Дополнительное задание: адаптируйте весь код для `accelerate`. Это очень удобная библиотека для адаптации PyTorch кода для любой распределенной конфигурации. Кроме того, она позволяет упростить работу, даже если нам нужно перенести вычисления на GPU или CPU, автоматизируя этот процесс (иначе нам нужно постоянно вызывать `.to(device)`)*\n",
    "*Для этого импортируйте нужный Accelerator из accelerate. Далее достаточно вызвать accelerator.prepare(elements)*"
   ]
  },
  {
   "cell_type": "markdown",
   "id": "c2f9aa77",
   "metadata": {},
   "source": [
    "Теперь создадим класс модели и интстанциируем её. В данном случае это простой перцептрон с тремя слоями. Однако модель может быть сколько угодно сложной. Главное, чтобы она наследовала класс `nn.Module`. Более того, можно написать любой слой собственноручно, также отнаследовав этот класс.\n",
    "Каждая модель должна имплементировать два метода - `__init__` и `forward(self, *args, **kwargs)`. В первом обычно задается ее структура и другие параметры. Модель  может даже содержать другие модели!\n",
    "\n",
    "`forward` получает на вход Х, но он может получать несколько разных входов, маски и тд. Обычно возвращаются либо выходы с последнего слоя (один или несколько). Но, например, стандартные модели детекции возвращают в режиме обучения значение лосса, а непосредственные предсказания только в режиме тестирования.\n",
    "\n",
    "Вызывая `model(data)`, на самом деле мы вызываем именно метод `forward`"
   ]
  },
  {
   "cell_type": "markdown",
   "id": "bc1e538f",
   "metadata": {},
   "source": [
    "Для того, чтобы понять, как устроен слой в Pytorch, создадим простой слой для превращения изображения в вектор.\n",
    "Пусть это будет класс MyFlatten. Изображения (и, что более актуально, промежуточные представления или, иными словами, карты, внутри модели) изначально имеют размер N x C x H x W, где:\n",
    "\n",
    "N - число семплов в батче\n",
    "C - число каналов на входе в конкретный слой. Если вход с 3 каналами, это 3, но в середине модели это может быть любое число, например, 128.\n",
    "H - высота карты\n",
    "W - ширина карты\n",
    "\n",
    "Когда мы делаем что-то вроде двумерной свертки, это стандартное представление данных, которое позволяет восстановить пространственные зависимости между элементами карты. Однако, когда мы используем полносвязные модели, каждый семпл представлен единым вектором. В простом случае больше не нужно разделять разные каналы, строки и столбцы данных. Таким образом, мы используем операцию \"вытянуть в вектор\", чтобы превратить значения C x H x W в представление C * H * W. "
   ]
  },
  {
   "cell_type": "markdown",
   "id": "73d4040a",
   "metadata": {},
   "source": [
    "**Задание**: допишите класс MyFlatten. Этот слой при вызове должен принимать на вход тензор размера B x C x H x W и возвращать тензор размера B x [C * H * W]. Пример: батч картинок 2 x 3(rgb) x 16(h) x 16(w)] -> 2 x 768"
   ]
  },
  {
   "cell_type": "code",
   "execution_count": 383,
   "id": "6874d66c",
   "metadata": {},
   "outputs": [],
   "source": [
    "class MyFlatten(nn.Module):\n",
    "    def __init__(self):\n",
    "        super().__init__()\n",
    "    \n",
    "    def forward(self, x):\n",
    "        batch_size = x.size(0)\n",
    "        num_elements = torch.prod(torch.tensor(x.shape[1:]))\n",
    "        return x.view(batch_size, num_elements)"
   ]
  },
  {
   "cell_type": "code",
   "execution_count": 384,
   "id": "9b1c4e7b",
   "metadata": {},
   "outputs": [
    {
     "data": {
      "text/plain": [
       "torch.Size([2, 768])"
      ]
     },
     "execution_count": 384,
     "metadata": {},
     "output_type": "execute_result"
    }
   ],
   "source": [
    "flatten = MyFlatten()\n",
    "x = torch.randn(2, 3, 16, 16)\n",
    "y = flatten(x)\n",
    "y.size()"
   ]
  },
  {
   "cell_type": "code",
   "execution_count": 385,
   "id": "276275b8",
   "metadata": {},
   "outputs": [
    {
     "name": "stdout",
     "output_type": "stream",
     "text": [
      "NeuralNetwork(\n",
      "  (flatten): MyFlatten()\n",
      "  (fc): Sequential(\n",
      "    (0): Linear(in_features=784, out_features=512, bias=True)\n",
      "    (1): ReLU()\n",
      "    (2): Linear(in_features=512, out_features=512, bias=True)\n",
      "    (3): ReLU()\n",
      "    (4): Linear(in_features=512, out_features=10, bias=True)\n",
      "  )\n",
      ")\n"
     ]
    }
   ],
   "source": [
    "class NeuralNetwork(nn.Module):\n",
    "    def __init__(self):\n",
    "        super().__init__()\n",
    "        self.flatten = MyFlatten()\n",
    "        self.fc = nn.Sequential(\n",
    "            nn.Linear(28*28, 512),\n",
    "            nn.ReLU(),\n",
    "            nn.Linear(512, 512),\n",
    "            nn.ReLU(),\n",
    "            nn.Linear(512, 10)\n",
    "        )\n",
    "\n",
    "    def forward(self, x):\n",
    "        x = self.flatten(x)\n",
    "        logits = self.fc(x)\n",
    "        return logits\n",
    "\n",
    "model = NeuralNetwork().to(device)\n",
    "print(model)"
   ]
  },
  {
   "cell_type": "markdown",
   "id": "2e4083c3",
   "metadata": {},
   "source": [
    "Слои: http://pytorch.org/docs/nn.html\n",
    "\n",
    "Активации: http://pytorch.org/docs/nn.html#non-linear-activations"
   ]
  },
  {
   "cell_type": "markdown",
   "id": "1eba191e",
   "metadata": {},
   "source": [
    "Зададим функцию ошибки и оптимизатор. Функция ошибки также наследуется от torch.nn.Module и может быть стандартной, состоять как из нескольких стандартных функций или их модификаций. Большое количество функций ошибки уже реализовано в Pytorch.\n",
    "\n",
    "Внутри каждой итерации обучения оптимизация происходит в три этапа:\n",
    "Вызов optimizer.zero_grad() для обнуления градиентов параметров модели. Градиенты по умолчанию складываются; чтобы избежать двойного подсчета, мы явно обнуляем их на каждой итерации.\n",
    "\n",
    "Получение градиентов для каждого веса с помощью loss.backward().\n",
    "Как только мы получили наши градиенты, остается вызвать optimizer.step(), чтобы изменить параметры в соответствии с нашим алгоритмом оптимизации. "
   ]
  },
  {
   "cell_type": "code",
   "execution_count": 386,
   "id": "eec223a3",
   "metadata": {},
   "outputs": [],
   "source": [
    "loss_fn = nn.CrossEntropyLoss()\n",
    "optimizer = torch.optim.SGD(model.parameters(), lr=1e-3)"
   ]
  },
  {
   "cell_type": "markdown",
   "id": "51ae01c0",
   "metadata": {},
   "source": [
    "Задание: \n",
    "1) Выберите как минимум еще 2 разные функции ошибки из https://pytorch.org/docs/stable/nn.html#loss-functions и обучите модель с ними\n",
    "2) Выберите как минимум еще 1 оптимизатор из https://pytorch.org/docs/stable/optim.html и обучите каждую из моделей с ним\n",
    "\n",
    "В результате у вас должна получиться таблица с лучшими значениями лосса для каждого случая для обучения и теста. В идеале оформите их в виде pandas.DataFrame или другой таблицы с удобным выводом."
   ]
  },
  {
   "cell_type": "markdown",
   "id": "075289cb",
   "metadata": {},
   "source": [
    "Обучим модель. Для этого нужно описать цикл обучения и проверки модели. В наивном случае создается две функции train и validate (test), которые вызываются в цикле по эпохам. В дальнейшем, при усложнении прохода по эпохе, может появиться метод train, целый класс Trainer и т.д. Пока что реализуем наивный вариант."
   ]
  },
  {
   "cell_type": "code",
   "execution_count": 398,
   "id": "8931bac2",
   "metadata": {},
   "outputs": [],
   "source": [
    "def train(dataloader, model, loss_fn, optimizer):\n",
    "    size = len(dataloader.dataset)\n",
    "    model.train()\n",
    "    for batch_idx, (inputs, targets) in enumerate(dataloader):\n",
    "        inputs, targets = inputs.to(device).float(), targets.to(device)  \n",
    "        \n",
    "        # Compute prediction error\n",
    "        preds = model(inputs)\n",
    "        loss = loss_fn(preds, targets)\n",
    "\n",
    "        # Backpropagation\n",
    "        optimizer.zero_grad()\n",
    "        loss.backward()\n",
    "        optimizer.step()\n",
    "\n",
    "        if batch_idx % 100 == 0:\n",
    "            loss, current = loss.item(), (batch_idx + 1) * len(inputs)\n",
    "            print(f\"loss: {loss:>7f}  [{current:>5d}/{size:>5d}]\")\n",
    "    \n",
    "    return loss.item()"
   ]
  },
  {
   "cell_type": "code",
   "execution_count": 399,
   "id": "289e5cbe",
   "metadata": {},
   "outputs": [],
   "source": [
    "def test(dataloader, model, loss_fn):\n",
    "    size = len(dataloader.dataset)\n",
    "    num_batches = len(dataloader)\n",
    "    model.eval()\n",
    "    test_loss, num_correct = 0, 0\n",
    "    with torch.no_grad():\n",
    "        for inputs, targets in dataloader:\n",
    "            inputs, targets = inputs.to(device).float(), targets.to(device) \n",
    "            preds = model(inputs)\n",
    "            loss = loss_fn(preds, targets)\n",
    "            test_loss += loss.item()\n",
    "            num_correct += (preds.argmax(1) == targets).type(torch.float).sum().item()\n",
    "    test_loss /= num_batches\n",
    "    accuracy = num_correct / size\n",
    "    print(f\"Test Error: \\n Accuracy: {(100*accuracy):>0.1f}%, Avg loss: {test_loss:>8f} \\n\")\n",
    "    return test_loss, accuracy"
   ]
  },
  {
   "cell_type": "markdown",
   "id": "873bd8ea",
   "metadata": {},
   "source": [
    "Задание: Добавьте метрики precision и recall для проверки"
   ]
  },
  {
   "cell_type": "code",
   "execution_count": 400,
   "id": "dc99a7ef",
   "metadata": {},
   "outputs": [],
   "source": [
    "best_train_loss = float('inf')\n",
    "best_test_loss = float('inf')\n",
    "best_test_accuracy = 0.0\n",
    "\n",
    "def train_and_test(model, train_loader, test_loader, loss_fn, optimizer, epochs=10):\n",
    "    best_train_loss = float('inf')\n",
    "    best_test_loss = float('inf')\n",
    "    best_test_accuracy = 0.0\n",
    "    \n",
    "    for t in range(epochs):\n",
    "        print(f\"Epoch {t+1}\\n-------------------------------\")\n",
    "        train_loss = train(train_loader, model, loss_fn, optimizer)\n",
    "        best_train_loss = min(best_train_loss, train_loss)\n",
    "        \n",
    "        test_loss, test_accuracy = test(test_loader, model, loss_fn)\n",
    "        best_test_loss = min(best_test_loss, test_loss)\n",
    "        best_test_accuracy = max(best_test_accuracy, test_accuracy)\n",
    "    \n",
    "    return best_train_loss, best_test_loss, best_test_accuracy"
   ]
  },
  {
   "cell_type": "code",
   "execution_count": 403,
   "id": "f72a5175",
   "metadata": {},
   "outputs": [
    {
     "name": "stdout",
     "output_type": "stream",
     "text": [
      "\n",
      "Training with CrossEntropyLoss and SGD\n",
      "Epoch 1\n",
      "-------------------------------\n",
      "loss: 15.522341  [   64/60000]\n",
      "loss:     nan  [ 6464/60000]\n",
      "loss:     nan  [12864/60000]\n",
      "loss:     nan  [19264/60000]\n",
      "loss:     nan  [25664/60000]\n",
      "loss:     nan  [32064/60000]\n",
      "loss:     nan  [38464/60000]\n",
      "loss:     nan  [44864/60000]\n",
      "loss:     nan  [51264/60000]\n",
      "loss:     nan  [57664/60000]\n",
      "Test Error: \n",
      " Accuracy: 10.0%, Avg loss:      nan \n",
      "\n",
      "Epoch 2\n",
      "-------------------------------\n",
      "loss:     nan  [   64/60000]\n",
      "loss:     nan  [ 6464/60000]\n",
      "loss:     nan  [12864/60000]\n",
      "loss:     nan  [19264/60000]\n",
      "loss:     nan  [25664/60000]\n",
      "loss:     nan  [32064/60000]\n",
      "loss:     nan  [38464/60000]\n",
      "loss:     nan  [44864/60000]\n",
      "loss:     nan  [51264/60000]\n",
      "loss:     nan  [57664/60000]\n",
      "Test Error: \n",
      " Accuracy: 10.0%, Avg loss:      nan \n",
      "\n",
      "Epoch 3\n",
      "-------------------------------\n",
      "loss:     nan  [   64/60000]\n",
      "loss:     nan  [ 6464/60000]\n",
      "loss:     nan  [12864/60000]\n",
      "loss:     nan  [19264/60000]\n",
      "loss:     nan  [25664/60000]\n",
      "loss:     nan  [32064/60000]\n",
      "loss:     nan  [38464/60000]\n",
      "loss:     nan  [44864/60000]\n",
      "loss:     nan  [51264/60000]\n",
      "loss:     nan  [57664/60000]\n",
      "Test Error: \n",
      " Accuracy: 10.0%, Avg loss:      nan \n",
      "\n",
      "Epoch 4\n",
      "-------------------------------\n",
      "loss:     nan  [   64/60000]\n",
      "loss:     nan  [ 6464/60000]\n",
      "loss:     nan  [12864/60000]\n",
      "loss:     nan  [19264/60000]\n",
      "loss:     nan  [25664/60000]\n",
      "loss:     nan  [32064/60000]\n",
      "loss:     nan  [38464/60000]\n",
      "loss:     nan  [44864/60000]\n",
      "loss:     nan  [51264/60000]\n",
      "loss:     nan  [57664/60000]\n",
      "Test Error: \n",
      " Accuracy: 10.0%, Avg loss:      nan \n",
      "\n",
      "Epoch 5\n",
      "-------------------------------\n",
      "loss:     nan  [   64/60000]\n",
      "loss:     nan  [ 6464/60000]\n",
      "loss:     nan  [12864/60000]\n",
      "loss:     nan  [19264/60000]\n",
      "loss:     nan  [25664/60000]\n",
      "loss:     nan  [32064/60000]\n",
      "loss:     nan  [38464/60000]\n",
      "loss:     nan  [44864/60000]\n",
      "loss:     nan  [51264/60000]\n",
      "loss:     nan  [57664/60000]\n",
      "Test Error: \n",
      " Accuracy: 10.0%, Avg loss:      nan \n",
      "\n",
      "Epoch 6\n",
      "-------------------------------\n",
      "loss:     nan  [   64/60000]\n",
      "loss:     nan  [ 6464/60000]\n",
      "loss:     nan  [12864/60000]\n",
      "loss:     nan  [19264/60000]\n",
      "loss:     nan  [25664/60000]\n",
      "loss:     nan  [32064/60000]\n",
      "loss:     nan  [38464/60000]\n",
      "loss:     nan  [44864/60000]\n",
      "loss:     nan  [51264/60000]\n",
      "loss:     nan  [57664/60000]\n",
      "Test Error: \n",
      " Accuracy: 10.0%, Avg loss:      nan \n",
      "\n",
      "Epoch 7\n",
      "-------------------------------\n",
      "loss:     nan  [   64/60000]\n",
      "loss:     nan  [ 6464/60000]\n",
      "loss:     nan  [12864/60000]\n",
      "loss:     nan  [19264/60000]\n",
      "loss:     nan  [25664/60000]\n",
      "loss:     nan  [32064/60000]\n",
      "loss:     nan  [38464/60000]\n",
      "loss:     nan  [44864/60000]\n",
      "loss:     nan  [51264/60000]\n",
      "loss:     nan  [57664/60000]\n",
      "Test Error: \n",
      " Accuracy: 10.0%, Avg loss:      nan \n",
      "\n",
      "Epoch 8\n",
      "-------------------------------\n",
      "loss:     nan  [   64/60000]\n",
      "loss:     nan  [ 6464/60000]\n",
      "loss:     nan  [12864/60000]\n",
      "loss:     nan  [19264/60000]\n",
      "loss:     nan  [25664/60000]\n",
      "loss:     nan  [32064/60000]\n",
      "loss:     nan  [38464/60000]\n",
      "loss:     nan  [44864/60000]\n",
      "loss:     nan  [51264/60000]\n",
      "loss:     nan  [57664/60000]\n",
      "Test Error: \n",
      " Accuracy: 10.0%, Avg loss:      nan \n",
      "\n",
      "Epoch 9\n",
      "-------------------------------\n",
      "loss:     nan  [   64/60000]\n",
      "loss:     nan  [ 6464/60000]\n",
      "loss:     nan  [12864/60000]\n",
      "loss:     nan  [19264/60000]\n",
      "loss:     nan  [25664/60000]\n",
      "loss:     nan  [32064/60000]\n",
      "loss:     nan  [38464/60000]\n",
      "loss:     nan  [44864/60000]\n",
      "loss:     nan  [51264/60000]\n",
      "loss:     nan  [57664/60000]\n",
      "Test Error: \n",
      " Accuracy: 10.0%, Avg loss:      nan \n",
      "\n",
      "Epoch 10\n",
      "-------------------------------\n",
      "loss:     nan  [   64/60000]\n",
      "loss:     nan  [ 6464/60000]\n",
      "loss:     nan  [12864/60000]\n",
      "loss:     nan  [19264/60000]\n",
      "loss:     nan  [25664/60000]\n",
      "loss:     nan  [32064/60000]\n",
      "loss:     nan  [38464/60000]\n",
      "loss:     nan  [44864/60000]\n",
      "loss:     nan  [51264/60000]\n",
      "loss:     nan  [57664/60000]\n",
      "Test Error: \n",
      " Accuracy: 10.0%, Avg loss:      nan \n",
      "\n",
      "\n",
      "Training with CrossEntropyLoss and Adam\n",
      "Epoch 1\n",
      "-------------------------------\n",
      "loss: 11.428572  [   64/60000]\n",
      "loss: 0.655729  [ 6464/60000]\n",
      "loss: 0.683135  [12864/60000]\n",
      "loss: 0.522729  [19264/60000]\n",
      "loss: 0.406985  [25664/60000]\n",
      "loss: 0.422034  [32064/60000]\n",
      "loss: 0.569357  [38464/60000]\n",
      "loss: 0.478577  [44864/60000]\n",
      "loss: 0.393913  [51264/60000]\n",
      "loss: 0.538616  [57664/60000]\n",
      "Test Error: \n",
      " Accuracy: 82.8%, Avg loss: 0.491013 \n",
      "\n",
      "Epoch 2\n",
      "-------------------------------\n",
      "loss: 0.316062  [   64/60000]\n",
      "loss: 0.497430  [ 6464/60000]\n",
      "loss: 0.541758  [12864/60000]\n",
      "loss: 0.633171  [19264/60000]\n",
      "loss: 0.423418  [25664/60000]\n",
      "loss: 0.439141  [32064/60000]\n",
      "loss: 0.392681  [38464/60000]\n",
      "loss: 0.416733  [44864/60000]\n",
      "loss: 0.456979  [51264/60000]\n",
      "loss: 0.371643  [57664/60000]\n",
      "Test Error: \n",
      " Accuracy: 84.6%, Avg loss: 0.431509 \n",
      "\n",
      "Epoch 3\n",
      "-------------------------------\n",
      "loss: 0.468581  [   64/60000]\n",
      "loss: 0.477616  [ 6464/60000]\n",
      "loss: 0.310852  [12864/60000]\n",
      "loss: 0.330019  [19264/60000]\n",
      "loss: 0.257752  [25664/60000]\n",
      "loss: 0.321813  [32064/60000]\n",
      "loss: 0.357008  [38464/60000]\n",
      "loss: 0.428700  [44864/60000]\n",
      "loss: 0.672196  [51264/60000]\n",
      "loss: 0.220429  [57664/60000]\n",
      "Test Error: \n",
      " Accuracy: 84.7%, Avg loss: 0.427114 \n",
      "\n",
      "Epoch 4\n",
      "-------------------------------\n",
      "loss: 0.207259  [   64/60000]\n",
      "loss: 0.329745  [ 6464/60000]\n",
      "loss: 0.447203  [12864/60000]\n",
      "loss: 0.255768  [19264/60000]\n",
      "loss: 0.451405  [25664/60000]\n",
      "loss: 0.324387  [32064/60000]\n",
      "loss: 0.303462  [38464/60000]\n",
      "loss: 0.301145  [44864/60000]\n",
      "loss: 0.637477  [51264/60000]\n",
      "loss: 0.383779  [57664/60000]\n",
      "Test Error: \n",
      " Accuracy: 85.9%, Avg loss: 0.402322 \n",
      "\n",
      "Epoch 5\n",
      "-------------------------------\n",
      "loss: 0.384792  [   64/60000]\n",
      "loss: 0.416993  [ 6464/60000]\n",
      "loss: 0.223090  [12864/60000]\n",
      "loss: 0.565953  [19264/60000]\n",
      "loss: 0.356235  [25664/60000]\n",
      "loss: 0.593039  [32064/60000]\n",
      "loss: 0.389984  [38464/60000]\n",
      "loss: 0.780929  [44864/60000]\n",
      "loss: 0.356777  [51264/60000]\n",
      "loss: 0.370035  [57664/60000]\n",
      "Test Error: \n",
      " Accuracy: 86.3%, Avg loss: 0.403141 \n",
      "\n",
      "Epoch 6\n",
      "-------------------------------\n",
      "loss: 0.243455  [   64/60000]\n",
      "loss: 0.296312  [ 6464/60000]\n",
      "loss: 0.268774  [12864/60000]\n",
      "loss: 0.284555  [19264/60000]\n",
      "loss: 0.338005  [25664/60000]\n",
      "loss: 0.254142  [32064/60000]\n",
      "loss: 0.234492  [38464/60000]\n",
      "loss: 0.343040  [44864/60000]\n",
      "loss: 0.151151  [51264/60000]\n",
      "loss: 0.458017  [57664/60000]\n",
      "Test Error: \n",
      " Accuracy: 85.9%, Avg loss: 0.413853 \n",
      "\n",
      "Epoch 7\n",
      "-------------------------------\n",
      "loss: 0.199610  [   64/60000]\n",
      "loss: 0.192708  [ 6464/60000]\n",
      "loss: 0.454556  [12864/60000]\n",
      "loss: 0.200177  [19264/60000]\n",
      "loss: 0.630471  [25664/60000]\n",
      "loss: 0.445183  [32064/60000]\n",
      "loss: 0.355714  [38464/60000]\n",
      "loss: 0.605474  [44864/60000]\n",
      "loss: 0.325666  [51264/60000]\n",
      "loss: 0.291137  [57664/60000]\n",
      "Test Error: \n",
      " Accuracy: 84.1%, Avg loss: 0.469416 \n",
      "\n",
      "Epoch 8\n",
      "-------------------------------\n",
      "loss: 0.345109  [   64/60000]\n",
      "loss: 0.474256  [ 6464/60000]\n",
      "loss: 0.329049  [12864/60000]\n",
      "loss: 0.313449  [19264/60000]\n",
      "loss: 0.299079  [25664/60000]\n",
      "loss: 0.498442  [32064/60000]\n",
      "loss: 0.503928  [38464/60000]\n",
      "loss: 0.211998  [44864/60000]\n",
      "loss: 0.181582  [51264/60000]\n",
      "loss: 0.582294  [57664/60000]\n",
      "Test Error: \n",
      " Accuracy: 85.6%, Avg loss: 0.425101 \n",
      "\n",
      "Epoch 9\n",
      "-------------------------------\n",
      "loss: 0.256635  [   64/60000]\n",
      "loss: 0.241517  [ 6464/60000]\n",
      "loss: 0.370898  [12864/60000]\n",
      "loss: 0.337358  [19264/60000]\n",
      "loss: 0.257701  [25664/60000]\n",
      "loss: 0.254831  [32064/60000]\n",
      "loss: 0.267407  [38464/60000]\n",
      "loss: 0.258706  [44864/60000]\n",
      "loss: 0.212032  [51264/60000]\n",
      "loss: 0.243712  [57664/60000]\n",
      "Test Error: \n",
      " Accuracy: 86.5%, Avg loss: 0.402752 \n",
      "\n",
      "Epoch 10\n",
      "-------------------------------\n",
      "loss: 0.309406  [   64/60000]\n",
      "loss: 0.394847  [ 6464/60000]\n",
      "loss: 0.508429  [12864/60000]\n",
      "loss: 0.511360  [19264/60000]\n",
      "loss: 0.511808  [25664/60000]\n",
      "loss: 0.539327  [32064/60000]\n",
      "loss: 0.212673  [38464/60000]\n",
      "loss: 0.524285  [44864/60000]\n",
      "loss: 0.404028  [51264/60000]\n",
      "loss: 0.318896  [57664/60000]\n",
      "Test Error: \n",
      " Accuracy: 85.8%, Avg loss: 0.425435 \n",
      "\n",
      "\n",
      "Training with MSELoss and SGD\n",
      "Epoch 1\n",
      "-------------------------------\n",
      "loss: 174.156296  [   64/60000]\n",
      "loss:     nan  [ 6464/60000]\n",
      "loss:     nan  [12864/60000]\n",
      "loss:     nan  [19264/60000]\n",
      "loss:     nan  [25664/60000]\n",
      "loss:     nan  [32064/60000]\n",
      "loss:     nan  [38464/60000]\n",
      "loss:     nan  [44864/60000]\n",
      "loss:     nan  [51264/60000]\n",
      "loss:     nan  [57664/60000]\n",
      "Test Error: \n",
      " Accuracy: 10.0%, Avg loss:      nan \n",
      "\n",
      "Epoch 2\n",
      "-------------------------------\n",
      "loss:     nan  [   64/60000]\n",
      "loss:     nan  [ 6464/60000]\n",
      "loss:     nan  [12864/60000]\n",
      "loss:     nan  [19264/60000]\n",
      "loss:     nan  [25664/60000]\n",
      "loss:     nan  [32064/60000]\n",
      "loss:     nan  [38464/60000]\n",
      "loss:     nan  [44864/60000]\n",
      "loss:     nan  [51264/60000]\n",
      "loss:     nan  [57664/60000]\n",
      "Test Error: \n",
      " Accuracy: 10.0%, Avg loss:      nan \n",
      "\n",
      "Epoch 3\n",
      "-------------------------------\n",
      "loss:     nan  [   64/60000]\n",
      "loss:     nan  [ 6464/60000]\n",
      "loss:     nan  [12864/60000]\n",
      "loss:     nan  [19264/60000]\n",
      "loss:     nan  [25664/60000]\n",
      "loss:     nan  [32064/60000]\n",
      "loss:     nan  [38464/60000]\n",
      "loss:     nan  [44864/60000]\n",
      "loss:     nan  [51264/60000]\n",
      "loss:     nan  [57664/60000]\n",
      "Test Error: \n",
      " Accuracy: 10.0%, Avg loss:      nan \n",
      "\n",
      "Epoch 4\n",
      "-------------------------------\n",
      "loss:     nan  [   64/60000]\n",
      "loss:     nan  [ 6464/60000]\n",
      "loss:     nan  [12864/60000]\n",
      "loss:     nan  [19264/60000]\n",
      "loss:     nan  [25664/60000]\n",
      "loss:     nan  [32064/60000]\n",
      "loss:     nan  [38464/60000]\n",
      "loss:     nan  [44864/60000]\n",
      "loss:     nan  [51264/60000]\n",
      "loss:     nan  [57664/60000]\n",
      "Test Error: \n",
      " Accuracy: 10.0%, Avg loss:      nan \n",
      "\n",
      "Epoch 5\n",
      "-------------------------------\n",
      "loss:     nan  [   64/60000]\n",
      "loss:     nan  [ 6464/60000]\n",
      "loss:     nan  [12864/60000]\n",
      "loss:     nan  [19264/60000]\n",
      "loss:     nan  [25664/60000]\n",
      "loss:     nan  [32064/60000]\n",
      "loss:     nan  [38464/60000]\n",
      "loss:     nan  [44864/60000]\n",
      "loss:     nan  [51264/60000]\n",
      "loss:     nan  [57664/60000]\n",
      "Test Error: \n",
      " Accuracy: 10.0%, Avg loss:      nan \n",
      "\n",
      "Epoch 6\n",
      "-------------------------------\n",
      "loss:     nan  [   64/60000]\n",
      "loss:     nan  [ 6464/60000]\n",
      "loss:     nan  [12864/60000]\n",
      "loss:     nan  [19264/60000]\n",
      "loss:     nan  [25664/60000]\n",
      "loss:     nan  [32064/60000]\n",
      "loss:     nan  [38464/60000]\n",
      "loss:     nan  [44864/60000]\n",
      "loss:     nan  [51264/60000]\n",
      "loss:     nan  [57664/60000]\n",
      "Test Error: \n",
      " Accuracy: 10.0%, Avg loss:      nan \n",
      "\n",
      "Epoch 7\n",
      "-------------------------------\n",
      "loss:     nan  [   64/60000]\n",
      "loss:     nan  [ 6464/60000]\n",
      "loss:     nan  [12864/60000]\n",
      "loss:     nan  [19264/60000]\n",
      "loss:     nan  [25664/60000]\n",
      "loss:     nan  [32064/60000]\n",
      "loss:     nan  [38464/60000]\n",
      "loss:     nan  [44864/60000]\n",
      "loss:     nan  [51264/60000]\n",
      "loss:     nan  [57664/60000]\n",
      "Test Error: \n",
      " Accuracy: 10.0%, Avg loss:      nan \n",
      "\n",
      "Epoch 8\n",
      "-------------------------------\n",
      "loss:     nan  [   64/60000]\n",
      "loss:     nan  [ 6464/60000]\n",
      "loss:     nan  [12864/60000]\n",
      "loss:     nan  [19264/60000]\n",
      "loss:     nan  [25664/60000]\n",
      "loss:     nan  [32064/60000]\n",
      "loss:     nan  [38464/60000]\n",
      "loss:     nan  [44864/60000]\n",
      "loss:     nan  [51264/60000]\n",
      "loss:     nan  [57664/60000]\n",
      "Test Error: \n",
      " Accuracy: 10.0%, Avg loss:      nan \n",
      "\n",
      "Epoch 9\n",
      "-------------------------------\n",
      "loss:     nan  [   64/60000]\n",
      "loss:     nan  [ 6464/60000]\n",
      "loss:     nan  [12864/60000]\n",
      "loss:     nan  [19264/60000]\n",
      "loss:     nan  [25664/60000]\n",
      "loss:     nan  [32064/60000]\n",
      "loss:     nan  [38464/60000]\n",
      "loss:     nan  [44864/60000]\n",
      "loss:     nan  [51264/60000]\n",
      "loss:     nan  [57664/60000]\n",
      "Test Error: \n",
      " Accuracy: 10.0%, Avg loss:      nan \n",
      "\n",
      "Epoch 10\n",
      "-------------------------------\n",
      "loss:     nan  [   64/60000]\n",
      "loss:     nan  [ 6464/60000]\n",
      "loss:     nan  [12864/60000]\n",
      "loss:     nan  [19264/60000]\n",
      "loss:     nan  [25664/60000]\n",
      "loss:     nan  [32064/60000]\n",
      "loss:     nan  [38464/60000]\n",
      "loss:     nan  [44864/60000]\n",
      "loss:     nan  [51264/60000]\n",
      "loss:     nan  [57664/60000]\n",
      "Test Error: \n",
      " Accuracy: 10.0%, Avg loss:      nan \n",
      "\n",
      "\n",
      "Training with MSELoss and Adam\n",
      "Epoch 1\n",
      "-------------------------------\n",
      "loss: 116.456253  [   64/60000]\n",
      "loss: 0.341621  [ 6464/60000]\n",
      "loss: 0.155376  [12864/60000]\n",
      "loss: 0.129524  [19264/60000]\n",
      "loss: 0.101389  [25664/60000]\n",
      "loss: 0.077188  [32064/60000]\n",
      "loss: 0.073152  [38464/60000]\n",
      "loss: 0.063675  [44864/60000]\n",
      "loss: 0.064436  [51264/60000]\n",
      "loss: 0.055489  [57664/60000]\n",
      "Test Error: \n",
      " Accuracy: 76.1%, Avg loss: 0.053341 \n",
      "\n",
      "Epoch 2\n",
      "-------------------------------\n",
      "loss: 0.049821  [   64/60000]\n",
      "loss: 0.053925  [ 6464/60000]\n",
      "loss: 0.062399  [12864/60000]\n",
      "loss: 0.050091  [19264/60000]\n",
      "loss: 0.058959  [25664/60000]\n",
      "loss: 0.041663  [32064/60000]\n",
      "loss: 0.051491  [38464/60000]\n",
      "loss: 0.051754  [44864/60000]\n",
      "loss: 0.049336  [51264/60000]\n",
      "loss: 0.048096  [57664/60000]\n",
      "Test Error: \n",
      " Accuracy: 80.1%, Avg loss: 0.039641 \n",
      "\n",
      "Epoch 3\n",
      "-------------------------------\n",
      "loss: 0.038705  [   64/60000]\n",
      "loss: 0.051795  [ 6464/60000]\n",
      "loss: 0.037579  [12864/60000]\n",
      "loss: 0.035783  [19264/60000]\n",
      "loss: 0.034772  [25664/60000]\n",
      "loss: 0.039755  [32064/60000]\n",
      "loss: 0.040192  [38464/60000]\n",
      "loss: 0.035521  [44864/60000]\n",
      "loss: 0.035223  [51264/60000]\n",
      "loss: 0.038598  [57664/60000]\n",
      "Test Error: \n",
      " Accuracy: 81.8%, Avg loss: 0.038276 \n",
      "\n",
      "Epoch 4\n",
      "-------------------------------\n",
      "loss: 0.034453  [   64/60000]\n",
      "loss: 0.036876  [ 6464/60000]\n",
      "loss: 0.037011  [12864/60000]\n",
      "loss: 0.024842  [19264/60000]\n",
      "loss: 0.040388  [25664/60000]\n",
      "loss: 0.031373  [32064/60000]\n",
      "loss: 0.038692  [38464/60000]\n",
      "loss: 0.037104  [44864/60000]\n",
      "loss: 0.025843  [51264/60000]\n",
      "loss: 0.029295  [57664/60000]\n",
      "Test Error: \n",
      " Accuracy: 83.4%, Avg loss: 0.032518 \n",
      "\n",
      "Epoch 5\n",
      "-------------------------------\n",
      "loss: 0.023625  [   64/60000]\n",
      "loss: 0.028461  [ 6464/60000]\n",
      "loss: 0.028435  [12864/60000]\n",
      "loss: 0.030559  [19264/60000]\n",
      "loss: 0.028843  [25664/60000]\n",
      "loss: 0.026489  [32064/60000]\n",
      "loss: 0.036330  [38464/60000]\n",
      "loss: 0.030979  [44864/60000]\n",
      "loss: 0.027141  [51264/60000]\n",
      "loss: 0.030729  [57664/60000]\n",
      "Test Error: \n",
      " Accuracy: 83.7%, Avg loss: 0.029105 \n",
      "\n",
      "Epoch 6\n",
      "-------------------------------\n",
      "loss: 0.024859  [   64/60000]\n",
      "loss: 0.027787  [ 6464/60000]\n",
      "loss: 0.021786  [12864/60000]\n",
      "loss: 0.027367  [19264/60000]\n",
      "loss: 0.022666  [25664/60000]\n",
      "loss: 0.026874  [32064/60000]\n",
      "loss: 0.030441  [38464/60000]\n",
      "loss: 0.027407  [44864/60000]\n",
      "loss: 0.031711  [51264/60000]\n",
      "loss: 0.030768  [57664/60000]\n",
      "Test Error: \n",
      " Accuracy: 84.9%, Avg loss: 0.027314 \n",
      "\n",
      "Epoch 7\n",
      "-------------------------------\n",
      "loss: 0.019598  [   64/60000]\n",
      "loss: 0.025800  [ 6464/60000]\n",
      "loss: 0.023855  [12864/60000]\n",
      "loss: 0.021197  [19264/60000]\n",
      "loss: 0.025093  [25664/60000]\n",
      "loss: 0.028446  [32064/60000]\n",
      "loss: 0.025391  [38464/60000]\n",
      "loss: 0.032545  [44864/60000]\n",
      "loss: 0.027255  [51264/60000]\n",
      "loss: 0.020320  [57664/60000]\n",
      "Test Error: \n",
      " Accuracy: 84.2%, Avg loss: 0.027721 \n",
      "\n",
      "Epoch 8\n",
      "-------------------------------\n",
      "loss: 0.033034  [   64/60000]\n",
      "loss: 0.023631  [ 6464/60000]\n",
      "loss: 0.028058  [12864/60000]\n",
      "loss: 0.021115  [19264/60000]\n",
      "loss: 0.025297  [25664/60000]\n",
      "loss: 0.026447  [32064/60000]\n",
      "loss: 0.026462  [38464/60000]\n",
      "loss: 0.030875  [44864/60000]\n",
      "loss: 0.027107  [51264/60000]\n",
      "loss: 0.024510  [57664/60000]\n",
      "Test Error: \n",
      " Accuracy: 83.2%, Avg loss: 0.029173 \n",
      "\n",
      "Epoch 9\n",
      "-------------------------------\n",
      "loss: 0.023439  [   64/60000]\n",
      "loss: 0.024921  [ 6464/60000]\n",
      "loss: 0.033291  [12864/60000]\n",
      "loss: 0.020103  [19264/60000]\n",
      "loss: 0.030407  [25664/60000]\n",
      "loss: 0.028356  [32064/60000]\n",
      "loss: 0.025530  [38464/60000]\n",
      "loss: 0.024279  [44864/60000]\n",
      "loss: 0.028004  [51264/60000]\n",
      "loss: 0.022133  [57664/60000]\n",
      "Test Error: \n",
      " Accuracy: 84.7%, Avg loss: 0.027023 \n",
      "\n",
      "Epoch 10\n",
      "-------------------------------\n",
      "loss: 0.031015  [   64/60000]\n",
      "loss: 0.023967  [ 6464/60000]\n",
      "loss: 0.020801  [12864/60000]\n",
      "loss: 0.022445  [19264/60000]\n",
      "loss: 0.028240  [25664/60000]\n",
      "loss: 0.014609  [32064/60000]\n",
      "loss: 0.020566  [38464/60000]\n",
      "loss: 0.027666  [44864/60000]\n",
      "loss: 0.026056  [51264/60000]\n",
      "loss: 0.024070  [57664/60000]\n",
      "Test Error: \n",
      " Accuracy: 84.4%, Avg loss: 0.026819 \n",
      "\n",
      "\n",
      "Training with NLLLoss and SGD\n",
      "Epoch 1\n",
      "-------------------------------\n",
      "loss: 20.711327  [   64/60000]\n",
      "loss:     nan  [ 6464/60000]\n",
      "loss:     nan  [12864/60000]\n",
      "loss:     nan  [19264/60000]\n",
      "loss:     nan  [25664/60000]\n",
      "loss:     nan  [32064/60000]\n",
      "loss:     nan  [38464/60000]\n",
      "loss:     nan  [44864/60000]\n",
      "loss:     nan  [51264/60000]\n",
      "loss:     nan  [57664/60000]\n",
      "Test Error: \n",
      " Accuracy: 10.0%, Avg loss:      nan \n",
      "\n",
      "Epoch 2\n",
      "-------------------------------\n",
      "loss:     nan  [   64/60000]\n",
      "loss:     nan  [ 6464/60000]\n",
      "loss:     nan  [12864/60000]\n",
      "loss:     nan  [19264/60000]\n",
      "loss:     nan  [25664/60000]\n",
      "loss:     nan  [32064/60000]\n",
      "loss:     nan  [38464/60000]\n",
      "loss:     nan  [44864/60000]\n",
      "loss:     nan  [51264/60000]\n",
      "loss:     nan  [57664/60000]\n",
      "Test Error: \n",
      " Accuracy: 10.0%, Avg loss:      nan \n",
      "\n",
      "Epoch 3\n",
      "-------------------------------\n",
      "loss:     nan  [   64/60000]\n",
      "loss:     nan  [ 6464/60000]\n",
      "loss:     nan  [12864/60000]\n",
      "loss:     nan  [19264/60000]\n",
      "loss:     nan  [25664/60000]\n",
      "loss:     nan  [32064/60000]\n",
      "loss:     nan  [38464/60000]\n",
      "loss:     nan  [44864/60000]\n",
      "loss:     nan  [51264/60000]\n",
      "loss:     nan  [57664/60000]\n",
      "Test Error: \n",
      " Accuracy: 10.0%, Avg loss:      nan \n",
      "\n",
      "Epoch 4\n",
      "-------------------------------\n",
      "loss:     nan  [   64/60000]\n",
      "loss:     nan  [ 6464/60000]\n",
      "loss:     nan  [12864/60000]\n",
      "loss:     nan  [19264/60000]\n",
      "loss:     nan  [25664/60000]\n",
      "loss:     nan  [32064/60000]\n",
      "loss:     nan  [38464/60000]\n",
      "loss:     nan  [44864/60000]\n",
      "loss:     nan  [51264/60000]\n",
      "loss:     nan  [57664/60000]\n",
      "Test Error: \n",
      " Accuracy: 10.0%, Avg loss:      nan \n",
      "\n",
      "Epoch 5\n",
      "-------------------------------\n",
      "loss:     nan  [   64/60000]\n",
      "loss:     nan  [ 6464/60000]\n",
      "loss:     nan  [12864/60000]\n",
      "loss:     nan  [19264/60000]\n",
      "loss:     nan  [25664/60000]\n",
      "loss:     nan  [32064/60000]\n",
      "loss:     nan  [38464/60000]\n",
      "loss:     nan  [44864/60000]\n",
      "loss:     nan  [51264/60000]\n",
      "loss:     nan  [57664/60000]\n",
      "Test Error: \n",
      " Accuracy: 10.0%, Avg loss:      nan \n",
      "\n",
      "Epoch 6\n",
      "-------------------------------\n",
      "loss:     nan  [   64/60000]\n",
      "loss:     nan  [ 6464/60000]\n",
      "loss:     nan  [12864/60000]\n",
      "loss:     nan  [19264/60000]\n",
      "loss:     nan  [25664/60000]\n",
      "loss:     nan  [32064/60000]\n",
      "loss:     nan  [38464/60000]\n",
      "loss:     nan  [44864/60000]\n",
      "loss:     nan  [51264/60000]\n",
      "loss:     nan  [57664/60000]\n",
      "Test Error: \n",
      " Accuracy: 10.0%, Avg loss:      nan \n",
      "\n",
      "Epoch 7\n",
      "-------------------------------\n",
      "loss:     nan  [   64/60000]\n",
      "loss:     nan  [ 6464/60000]\n",
      "loss:     nan  [12864/60000]\n",
      "loss:     nan  [19264/60000]\n",
      "loss:     nan  [25664/60000]\n",
      "loss:     nan  [32064/60000]\n",
      "loss:     nan  [38464/60000]\n",
      "loss:     nan  [44864/60000]\n",
      "loss:     nan  [51264/60000]\n",
      "loss:     nan  [57664/60000]\n",
      "Test Error: \n",
      " Accuracy: 10.0%, Avg loss:      nan \n",
      "\n",
      "Epoch 8\n",
      "-------------------------------\n",
      "loss:     nan  [   64/60000]\n",
      "loss:     nan  [ 6464/60000]\n",
      "loss:     nan  [12864/60000]\n",
      "loss:     nan  [19264/60000]\n",
      "loss:     nan  [25664/60000]\n",
      "loss:     nan  [32064/60000]\n",
      "loss:     nan  [38464/60000]\n",
      "loss:     nan  [44864/60000]\n",
      "loss:     nan  [51264/60000]\n",
      "loss:     nan  [57664/60000]\n",
      "Test Error: \n",
      " Accuracy: 10.0%, Avg loss:      nan \n",
      "\n",
      "Epoch 9\n",
      "-------------------------------\n",
      "loss:     nan  [   64/60000]\n",
      "loss:     nan  [ 6464/60000]\n",
      "loss:     nan  [12864/60000]\n",
      "loss:     nan  [19264/60000]\n",
      "loss:     nan  [25664/60000]\n",
      "loss:     nan  [32064/60000]\n",
      "loss:     nan  [38464/60000]\n",
      "loss:     nan  [44864/60000]\n",
      "loss:     nan  [51264/60000]\n",
      "loss:     nan  [57664/60000]\n",
      "Test Error: \n",
      " Accuracy: 10.0%, Avg loss:      nan \n",
      "\n",
      "Epoch 10\n",
      "-------------------------------\n",
      "loss:     nan  [   64/60000]\n",
      "loss:     nan  [ 6464/60000]\n",
      "loss:     nan  [12864/60000]\n",
      "loss:     nan  [19264/60000]\n",
      "loss:     nan  [25664/60000]\n",
      "loss:     nan  [32064/60000]\n",
      "loss:     nan  [38464/60000]\n",
      "loss:     nan  [44864/60000]\n",
      "loss:     nan  [51264/60000]\n",
      "loss:     nan  [57664/60000]\n",
      "Test Error: \n",
      " Accuracy: 10.0%, Avg loss:      nan \n",
      "\n",
      "\n",
      "Training with NLLLoss and Adam\n",
      "Epoch 1\n",
      "-------------------------------\n",
      "loss: 11.931549  [   64/60000]\n",
      "loss: 0.901430  [ 6464/60000]\n",
      "loss: 0.715193  [12864/60000]\n",
      "loss: 0.552999  [19264/60000]\n",
      "loss: 0.437792  [25664/60000]\n",
      "loss: 0.764654  [32064/60000]\n",
      "loss: 0.633079  [38464/60000]\n",
      "loss: 0.305135  [44864/60000]\n",
      "loss: 0.458116  [51264/60000]\n",
      "loss: 0.290715  [57664/60000]\n",
      "Test Error: \n",
      " Accuracy: 79.4%, Avg loss: 0.600810 \n",
      "\n",
      "Epoch 2\n",
      "-------------------------------\n",
      "loss: 0.674173  [   64/60000]\n",
      "loss: 0.477124  [ 6464/60000]\n",
      "loss: 0.367343  [12864/60000]\n",
      "loss: 0.556959  [19264/60000]\n",
      "loss: 0.531920  [25664/60000]\n",
      "loss: 0.319797  [32064/60000]\n",
      "loss: 0.339355  [38464/60000]\n",
      "loss: 0.235253  [44864/60000]\n",
      "loss: 0.348903  [51264/60000]\n",
      "loss: 0.396588  [57664/60000]\n",
      "Test Error: \n",
      " Accuracy: 85.4%, Avg loss: 0.418448 \n",
      "\n",
      "Epoch 3\n",
      "-------------------------------\n",
      "loss: 0.488699  [   64/60000]\n",
      "loss: 0.332278  [ 6464/60000]\n",
      "loss: 0.271757  [12864/60000]\n",
      "loss: 0.362299  [19264/60000]\n",
      "loss: 0.307070  [25664/60000]\n",
      "loss: 0.327551  [32064/60000]\n",
      "loss: 0.314226  [38464/60000]\n",
      "loss: 0.508710  [44864/60000]\n",
      "loss: 0.284923  [51264/60000]\n",
      "loss: 0.319125  [57664/60000]\n",
      "Test Error: \n",
      " Accuracy: 85.8%, Avg loss: 0.398722 \n",
      "\n",
      "Epoch 4\n",
      "-------------------------------\n",
      "loss: 0.457719  [   64/60000]\n",
      "loss: 0.529330  [ 6464/60000]\n",
      "loss: 0.501191  [12864/60000]\n",
      "loss: 0.644621  [19264/60000]\n",
      "loss: 0.164814  [25664/60000]\n",
      "loss: 0.477109  [32064/60000]\n",
      "loss: 0.432293  [38464/60000]\n",
      "loss: 0.243302  [44864/60000]\n",
      "loss: 0.576869  [51264/60000]\n",
      "loss: 0.239871  [57664/60000]\n",
      "Test Error: \n",
      " Accuracy: 85.6%, Avg loss: 0.437995 \n",
      "\n",
      "Epoch 5\n",
      "-------------------------------\n",
      "loss: 0.473482  [   64/60000]\n",
      "loss: 0.461885  [ 6464/60000]\n",
      "loss: 0.357374  [12864/60000]\n",
      "loss: 0.247273  [19264/60000]\n",
      "loss: 0.344664  [25664/60000]\n",
      "loss: 0.306408  [32064/60000]\n",
      "loss: 0.453132  [38464/60000]\n",
      "loss: 0.380218  [44864/60000]\n",
      "loss: 0.191870  [51264/60000]\n",
      "loss: 0.475583  [57664/60000]\n",
      "Test Error: \n",
      " Accuracy: 84.9%, Avg loss: 0.436710 \n",
      "\n",
      "Epoch 6\n",
      "-------------------------------\n",
      "loss: 0.358056  [   64/60000]\n",
      "loss: 0.197254  [ 6464/60000]\n",
      "loss: 0.364165  [12864/60000]\n",
      "loss: 0.194149  [19264/60000]\n",
      "loss: 0.363079  [25664/60000]\n",
      "loss: 0.222242  [32064/60000]\n",
      "loss: 0.216712  [38464/60000]\n",
      "loss: 0.344126  [44864/60000]\n",
      "loss: 0.484155  [51264/60000]\n",
      "loss: 0.497688  [57664/60000]\n",
      "Test Error: \n",
      " Accuracy: 85.9%, Avg loss: 0.398927 \n",
      "\n",
      "Epoch 7\n",
      "-------------------------------\n",
      "loss: 0.251706  [   64/60000]\n",
      "loss: 0.326267  [ 6464/60000]\n",
      "loss: 0.399298  [12864/60000]\n",
      "loss: 0.208731  [19264/60000]\n",
      "loss: 0.250834  [25664/60000]\n",
      "loss: 0.477217  [32064/60000]\n",
      "loss: 0.226530  [38464/60000]\n",
      "loss: 0.263354  [44864/60000]\n",
      "loss: 0.470445  [51264/60000]\n",
      "loss: 0.445059  [57664/60000]\n",
      "Test Error: \n",
      " Accuracy: 85.3%, Avg loss: 0.435447 \n",
      "\n",
      "Epoch 8\n",
      "-------------------------------\n",
      "loss: 0.235187  [   64/60000]\n",
      "loss: 0.229760  [ 6464/60000]\n",
      "loss: 0.499839  [12864/60000]\n",
      "loss: 0.373325  [19264/60000]\n",
      "loss: 0.316680  [25664/60000]\n",
      "loss: 0.234101  [32064/60000]\n",
      "loss: 0.378971  [38464/60000]\n",
      "loss: 0.247223  [44864/60000]\n",
      "loss: 0.399952  [51264/60000]\n",
      "loss: 0.478344  [57664/60000]\n",
      "Test Error: \n",
      " Accuracy: 85.9%, Avg loss: 0.403908 \n",
      "\n",
      "Epoch 9\n",
      "-------------------------------\n",
      "loss: 0.248760  [   64/60000]\n",
      "loss: 0.168656  [ 6464/60000]\n",
      "loss: 0.317650  [12864/60000]\n",
      "loss: 0.355702  [19264/60000]\n",
      "loss: 0.372844  [25664/60000]\n",
      "loss: 0.284864  [32064/60000]\n",
      "loss: 0.296951  [38464/60000]\n",
      "loss: 0.192460  [44864/60000]\n",
      "loss: 0.289051  [51264/60000]\n",
      "loss: 0.325407  [57664/60000]\n",
      "Test Error: \n",
      " Accuracy: 84.9%, Avg loss: 0.427701 \n",
      "\n",
      "Epoch 10\n",
      "-------------------------------\n",
      "loss: 0.264691  [   64/60000]\n",
      "loss: 0.329372  [ 6464/60000]\n",
      "loss: 0.287457  [12864/60000]\n",
      "loss: 0.458921  [19264/60000]\n",
      "loss: 0.402798  [25664/60000]\n",
      "loss: 0.277868  [32064/60000]\n",
      "loss: 0.503951  [38464/60000]\n",
      "loss: 0.353355  [44864/60000]\n",
      "loss: 0.218439  [51264/60000]\n",
      "loss: 0.419545  [57664/60000]\n",
      "Test Error: \n",
      " Accuracy: 86.2%, Avg loss: 0.403337 \n",
      "\n",
      "\n",
      "Results:\n",
      "      Loss Function Optimizer  Best Train Loss  Best Test Loss  \\\n",
      "0  CrossEntropyLoss       SGD              inf             inf   \n",
      "1  CrossEntropyLoss      Adam         0.157411        0.402322   \n",
      "2           MSELoss       SGD              inf             inf   \n",
      "3           MSELoss      Adam         0.021896        0.026819   \n",
      "4           NLLLoss       SGD              inf             inf   \n",
      "5           NLLLoss      Adam         0.189145        0.398722   \n",
      "\n",
      "   Best Test Accuracy  \n",
      "0              0.1000  \n",
      "1              0.8650  \n",
      "2              0.1000  \n",
      "3              0.8493  \n",
      "4              0.1000  \n",
      "5              0.8619  \n"
     ]
    }
   ],
   "source": [
    "import torch\n",
    "import torch.nn as nn\n",
    "import torch.nn.functional as F\n",
    "import torch.optim as optim\n",
    "from torch.utils.data import DataLoader\n",
    "from torchvision import datasets, transforms\n",
    "import pandas as pd\n",
    "\n",
    "loss_functions = {\n",
    "    'CrossEntropyLoss': nn.CrossEntropyLoss(),\n",
    "    'MSELoss': nn.MSELoss(),\n",
    "    'NLLLoss': nn.NLLLoss()\n",
    "}\n",
    "\n",
    "optimizers = {\n",
    "    'SGD': lambda params: torch.optim.SGD(params, lr=0.01),\n",
    "    'Adam': lambda params: torch.optim.Adam(params, lr=0.001)\n",
    "}\n",
    "\n",
    "results = []\n",
    "\n",
    "for loss_name, loss_fn in loss_functions.items():\n",
    "    for optim_name, optim_fn in optimizers.items():\n",
    "        model = NeuralNetwork().to(device)\n",
    "        optimizer = optim_fn(model.parameters())\n",
    "        \n",
    "        print(f\"\\nTraining with {loss_name} and {optim_name}\")\n",
    "        \n",
    "        if loss_name == 'MSELoss':\n",
    "            loss_wrapper = lambda preds, targets: loss_fn(preds, F.one_hot(targets, num_classes=10).float())\n",
    "        elif loss_name == 'NLLLoss':\n",
    "            loss_wrapper = lambda preds, targets: loss_fn(F.log_softmax(preds, dim=1), targets)\n",
    "        else:\n",
    "            loss_wrapper = loss_fn\n",
    "        \n",
    "        best_train_loss, best_test_loss, best_test_accuracy = train_and_test(\n",
    "            model, train_dataloader, test_dataloader, loss_wrapper, optimizer, epochs=10\n",
    "        )\n",
    "        \n",
    "        results.append({\n",
    "            'Loss Function': loss_name,\n",
    "            'Optimizer': optim_name,\n",
    "            'Best Train Loss': best_train_loss,\n",
    "            'Best Test Loss': best_test_loss,\n",
    "            'Best Test Accuracy': best_test_accuracy\n",
    "        })\n",
    "\n",
    "df_results = pd.DataFrame(results)\n",
    "print(\"\\nResults:\")\n",
    "print(df_results)"
   ]
  },
  {
   "cell_type": "markdown",
   "id": "f45a2f7c",
   "metadata": {},
   "source": [
    "Осталось сохранить модель для дальнейшего использования. "
   ]
  },
  {
   "cell_type": "code",
   "execution_count": null,
   "id": "1ec53cf5",
   "metadata": {},
   "outputs": [],
   "source": [
    "torch.save(model.state_dict(), \"best_model.pth\")"
   ]
  },
  {
   "cell_type": "markdown",
   "id": "f674ae5e",
   "metadata": {},
   "source": [
    "Какая точность получилась? "
   ]
  },
  {
   "cell_type": "markdown",
   "id": "de5de00f",
   "metadata": {},
   "source": [
    "Задание: Перепишите датасет FashionMNISTDataset так, чтобы он возвращал вектор вместо матрицы и мою модель без слоя MyFlatten(). Запустите обучение заново. Какая точность получилась теперь?"
   ]
  },
  {
   "cell_type": "markdown",
   "id": "e2fab8d7",
   "metadata": {},
   "source": [
    "Задание: придумайте свою собственную модель, на следующем занятии сравнимся, у кого получилось достичь наилучших результатов. Для этого мне нужно будет получить как вашу версию этого ноутбука, так и веса модели."
   ]
  },
  {
   "cell_type": "markdown",
   "id": "acc2e232",
   "metadata": {},
   "source": [
    "При подборе гиперпараметров (это те параметры, которые не обучаются, например, lr) и обучении модели помните:\n",
    "1. Если параметры выбраны хорошо, улучшение видно уже после нескольких сотен итераций.\n",
    "2. Настраивайте гиперпараметры от грубых значений к точным: начните с тестирования большого диапазона гиперпараметров всего за несколько итераций обучения, чтобы найти комбинации параметров, которые вообще работают.\n",
    "3. После того, как вы нашли несколько наборов параметров, которые, по-видимому, работают, выполните более тщательный поиск по этим параметрам. Возможно, вам придется тренировать модель большее число эпох.\n",
    "4. Нужно использовать валидационный набор для поиска. Этот набор нужно выделить из тренировочного и вызывать на нем функцию test."
   ]
  },
  {
   "cell_type": "markdown",
   "id": "4e04f82d",
   "metadata": {},
   "source": [
    "Задание: Перепишите датасет FashionMNISTDataset так, чтобы он возвращал вектор вместо матрицы"
   ]
  },
  {
   "cell_type": "code",
   "execution_count": null,
   "metadata": {
    "collapsed": false
   },
   "outputs": [],
   "source": []
  }
 ],
 "metadata": {
  "kernelspec": {
   "display_name": "Python 3 (ipykernel)",
   "language": "python",
   "name": "python3"
  },
  "language_info": {
   "codemirror_mode": {
    "name": "ipython",
    "version": 3
   },
   "file_extension": ".py",
   "mimetype": "text/x-python",
   "name": "python",
   "nbconvert_exporter": "python",
   "pygments_lexer": "ipython3",
   "version": "3.10.12"
  }
 },
 "nbformat": 4,
 "nbformat_minor": 5
}
